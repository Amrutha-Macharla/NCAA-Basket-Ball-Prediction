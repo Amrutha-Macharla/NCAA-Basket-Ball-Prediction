{
  "cells": [
    {
      "cell_type": "markdown",
      "metadata": {
        "colab_type": "text",
        "id": "view-in-github"
      },
      "source": [
        "<a href=\"https://colab.research.google.com/github/18mis7023/NCAA-Basket-Ball-Prediction/blob/main/NCAA_Basket_Ball_Prediction_Project.ipynb\" target=\"_parent\"><img src=\"https://colab.research.google.com/assets/colab-badge.svg\" alt=\"Open In Colab\"/></a>"
      ]
    },
    {
      "cell_type": "markdown",
      "metadata": {
        "id": "9DfYizqUx5Ay"
      },
      "source": [
        "# ***DATA MINING AND DATA WAREHOUSE PROJECT***\n",
        "\n",
        "# ***Google Cloud & NCAA® March Madness Analytics***\n",
        "\n",
        "### Amrutha Macharla       20BCE7391\n",
        "\n"
      ]
    },
    {
      "cell_type": "markdown",
      "metadata": {
        "id": "O2xsJytpRe06"
      },
      "source": [
        "***Preprocessing Used In the Project:***\n",
        "\n",
        "1.Removed NA values \n",
        "\n",
        "2.removed un necessarly columns\n",
        "\n",
        "3.removed noisy data \n",
        "\n",
        "4.removed outliers\n",
        " \n",
        "5.recoded the data \n",
        "\n",
        "6.Removed Outliers from the data \n",
        " \n",
        "7.Removed Duplicate Rows"
      ]
    },
    {
      "cell_type": "markdown",
      "metadata": {
        "id": "qafhE9POSWML"
      },
      "source": [
        "***MACHINE LEARNING ALGORITHIMS USED IN THE PROJECT:-***\n",
        "\n",
        "1.Linear Regression \n",
        "\n",
        "2.KNN\n",
        "\n",
        "3.Random Forest\n",
        "\n",
        "4.Navie Bayers Classifier\n",
        "\n",
        "5.Decession Tree\n",
        "\n",
        "6.Logistic Regression"
      ]
    },
    {
      "cell_type": "markdown",
      "metadata": {
        "id": "a15CDp0XTKLE"
      },
      "source": [
        "***Highest Accuracy Results got in the Logistic is 98%***\n",
        "\n",
        "***and KNN got 92% accuracy results***"
      ]
    },
    {
      "cell_type": "markdown",
      "metadata": {
        "id": "yz-qJvIII8JH"
      },
      "source": [
        "## ***ATTRIBUTE DETAILS IN THE TABLE***\n",
        "\n",
        "**EventID**:- It is a unique id for the dataset\n",
        "\n",
        "**Season**:-It describes the when the match happen like in which season the match had done\n",
        "\n",
        "**DayNum**:On which day the match had be held between 2 teams\n",
        "\n",
        "**WTeamID**:ID of winning Team ID\n",
        "\n",
        "**LTeamID**:ID of Loosing Team ID\n",
        "\n",
        "**WFinalScore**:Final Scores of winning Teams\n",
        "\n",
        "**LFinalScore**:Final Scores of Loosing Teams\n",
        "\n",
        "**WCurrentScore,LCurrentScore**:Current score for bore winning team and loosing team calculated per every Event\n",
        "\n",
        "**ElapsedSeconds**:The time taken by teams to complete one match inj a day\n",
        "\n",
        "**EventType**:The event occured in the match for every 2 to 3 sec event type is noted\n",
        "\n",
        "**EventTeamID**:The event made by the particular set of people\n",
        "\n",
        "**EventPlayerID**:The event made by the particular player Id is noted down\n"
      ]
    },
    {
      "cell_type": "code",
      "execution_count": null,
      "metadata": {
        "id": "OSsg_juKDWzs"
      },
      "outputs": [],
      "source": [
        "#import necessary packages\n",
        "import pandas as pd\n",
        "import numpy as np\n",
        "import seaborn as sns\n",
        "import matplotlib.pyplot as plt\n",
        "import sklearn \n",
        "from matplotlib import rcParams\n",
        "from matplotlib.cm import rainbow\n",
        "%matplotlib inline\n"
      ]
    },
    {
      "cell_type": "code",
      "execution_count": null,
      "metadata": {
        "colab": {
          "base_uri": "https://localhost:8080/"
        },
        "id": "-xsF0NX-GUHP",
        "outputId": "feb1729d-2f5a-4ec4-faf6-dd543eacfa16"
      },
      "outputs": [
        {
          "name": "stdout",
          "output_type": "stream",
          "text": [
            "Mounted at /content/drive\n"
          ]
        }
      ],
      "source": [
        "from google.colab import drive\n",
        "drive.mount('/content/drive')"
      ]
    },
    {
      "cell_type": "code",
      "execution_count": null,
      "metadata": {
        "id": "Fg_TdrQlPaNh"
      },
      "outputs": [],
      "source": [
        "Mevents2015=pd.read_csv(\"/content/drive/MyDrive/Colab Notebooks/MEvents2015.csv\")\n",
        "Mevents2016=pd.read_csv(\"/content/drive/MyDrive/Colab Notebooks/MEvents2016.csv\")\n",
        "Mevents2017=pd.read_csv(\"/content/drive/MyDrive/Colab Notebooks/MEvents2017.csv\")\n",
        "Mevents2018=pd.read_csv(\"/content/drive/MyDrive/Colab Notebooks/MEvents2018.csv\")\n",
        "Mevents2019=pd.read_csv(\"/content/drive/MyDrive/Colab Notebooks/MEvents2019.csv\")"
      ]
    },
    {
      "cell_type": "markdown",
      "metadata": {
        "id": "gJiefP4aUmnO"
      },
      "source": [
        "Merging Of the All CSV Files to one Data file using Pandas\n"
      ]
    },
    {
      "cell_type": "code",
      "execution_count": null,
      "metadata": {
        "colab": {
          "base_uri": "https://localhost:8080/",
          "height": 214
        },
        "id": "Pl-QFtjQPmEy",
        "outputId": "ceddc101-778b-48f6-94f1-646ea30bff62"
      },
      "outputs": [
        {
          "data": {
            "text/html": [
              "<div>\n",
              "<style scoped>\n",
              "    .dataframe tbody tr th:only-of-type {\n",
              "        vertical-align: middle;\n",
              "    }\n",
              "\n",
              "    .dataframe tbody tr th {\n",
              "        vertical-align: top;\n",
              "    }\n",
              "\n",
              "    .dataframe thead th {\n",
              "        text-align: right;\n",
              "    }\n",
              "</style>\n",
              "<table border=\"1\" class=\"dataframe\">\n",
              "  <thead>\n",
              "    <tr style=\"text-align: right;\">\n",
              "      <th></th>\n",
              "      <th>EventID</th>\n",
              "      <th>Season</th>\n",
              "      <th>DayNum</th>\n",
              "      <th>WTeamID</th>\n",
              "      <th>LTeamID</th>\n",
              "      <th>WFinalScore</th>\n",
              "      <th>LFinalScore</th>\n",
              "      <th>WCurrentScore</th>\n",
              "      <th>LCurrentScore</th>\n",
              "      <th>ElapsedSeconds</th>\n",
              "      <th>EventTeamID</th>\n",
              "      <th>EventPlayerID</th>\n",
              "      <th>EventType</th>\n",
              "      <th>EventSubType</th>\n",
              "      <th>X</th>\n",
              "      <th>Y</th>\n",
              "      <th>Area</th>\n",
              "    </tr>\n",
              "  </thead>\n",
              "  <tbody>\n",
              "    <tr>\n",
              "      <th>2561214</th>\n",
              "      <td>2561215</td>\n",
              "      <td>2015</td>\n",
              "      <td>154</td>\n",
              "      <td>1181</td>\n",
              "      <td>1458</td>\n",
              "      <td>68</td>\n",
              "      <td>63</td>\n",
              "      <td>68</td>\n",
              "      <td>63</td>\n",
              "      <td>2386</td>\n",
              "      <td>1458</td>\n",
              "      <td>15263</td>\n",
              "      <td>reb</td>\n",
              "      <td>def</td>\n",
              "      <td>0</td>\n",
              "      <td>0</td>\n",
              "      <td>0</td>\n",
              "    </tr>\n",
              "    <tr>\n",
              "      <th>2561215</th>\n",
              "      <td>2561216</td>\n",
              "      <td>2015</td>\n",
              "      <td>154</td>\n",
              "      <td>1181</td>\n",
              "      <td>1458</td>\n",
              "      <td>68</td>\n",
              "      <td>63</td>\n",
              "      <td>68</td>\n",
              "      <td>63</td>\n",
              "      <td>2394</td>\n",
              "      <td>1458</td>\n",
              "      <td>15250</td>\n",
              "      <td>miss3</td>\n",
              "      <td>unk</td>\n",
              "      <td>0</td>\n",
              "      <td>0</td>\n",
              "      <td>0</td>\n",
              "    </tr>\n",
              "    <tr>\n",
              "      <th>2561216</th>\n",
              "      <td>2561217</td>\n",
              "      <td>2015</td>\n",
              "      <td>154</td>\n",
              "      <td>1181</td>\n",
              "      <td>1458</td>\n",
              "      <td>68</td>\n",
              "      <td>63</td>\n",
              "      <td>68</td>\n",
              "      <td>63</td>\n",
              "      <td>2394</td>\n",
              "      <td>1458</td>\n",
              "      <td>15254</td>\n",
              "      <td>reb</td>\n",
              "      <td>off</td>\n",
              "      <td>0</td>\n",
              "      <td>0</td>\n",
              "      <td>0</td>\n",
              "    </tr>\n",
              "    <tr>\n",
              "      <th>2561217</th>\n",
              "      <td>2561218</td>\n",
              "      <td>2015</td>\n",
              "      <td>154</td>\n",
              "      <td>1181</td>\n",
              "      <td>1458</td>\n",
              "      <td>68</td>\n",
              "      <td>63</td>\n",
              "      <td>68</td>\n",
              "      <td>63</td>\n",
              "      <td>2400</td>\n",
              "      <td>1458</td>\n",
              "      <td>15256</td>\n",
              "      <td>miss3</td>\n",
              "      <td>unk</td>\n",
              "      <td>0</td>\n",
              "      <td>0</td>\n",
              "      <td>0</td>\n",
              "    </tr>\n",
              "    <tr>\n",
              "      <th>2561218</th>\n",
              "      <td>2561219</td>\n",
              "      <td>2015</td>\n",
              "      <td>154</td>\n",
              "      <td>1181</td>\n",
              "      <td>1458</td>\n",
              "      <td>68</td>\n",
              "      <td>63</td>\n",
              "      <td>68</td>\n",
              "      <td>63</td>\n",
              "      <td>2400</td>\n",
              "      <td>1181</td>\n",
              "      <td>3275</td>\n",
              "      <td>reb</td>\n",
              "      <td>def</td>\n",
              "      <td>0</td>\n",
              "      <td>0</td>\n",
              "      <td>0</td>\n",
              "    </tr>\n",
              "  </tbody>\n",
              "</table>\n",
              "</div>"
            ],
            "text/plain": [
              "         EventID  Season  DayNum  WTeamID  ...  EventSubType  X  Y  Area\n",
              "2561214  2561215    2015     154     1181  ...           def  0  0     0\n",
              "2561215  2561216    2015     154     1181  ...           unk  0  0     0\n",
              "2561216  2561217    2015     154     1181  ...           off  0  0     0\n",
              "2561217  2561218    2015     154     1181  ...           unk  0  0     0\n",
              "2561218  2561219    2015     154     1181  ...           def  0  0     0\n",
              "\n",
              "[5 rows x 17 columns]"
            ]
          },
          "execution_count": 4,
          "metadata": {
            "tags": []
          },
          "output_type": "execute_result"
        }
      ],
      "source": [
        "Mevents2015.tail(5)"
      ]
    },
    {
      "cell_type": "code",
      "execution_count": null,
      "metadata": {
        "colab": {
          "base_uri": "https://localhost:8080/",
          "height": 214
        },
        "id": "8ssVxkJiQDlO",
        "outputId": "8fded29b-e42f-4f62-cddf-7542fb9b988b"
      },
      "outputs": [
        {
          "data": {
            "text/html": [
              "<div>\n",
              "<style scoped>\n",
              "    .dataframe tbody tr th:only-of-type {\n",
              "        vertical-align: middle;\n",
              "    }\n",
              "\n",
              "    .dataframe tbody tr th {\n",
              "        vertical-align: top;\n",
              "    }\n",
              "\n",
              "    .dataframe thead th {\n",
              "        text-align: right;\n",
              "    }\n",
              "</style>\n",
              "<table border=\"1\" class=\"dataframe\">\n",
              "  <thead>\n",
              "    <tr style=\"text-align: right;\">\n",
              "      <th></th>\n",
              "      <th>EventID</th>\n",
              "      <th>Season</th>\n",
              "      <th>DayNum</th>\n",
              "      <th>WTeamID</th>\n",
              "      <th>LTeamID</th>\n",
              "      <th>WFinalScore</th>\n",
              "      <th>LFinalScore</th>\n",
              "      <th>WCurrentScore</th>\n",
              "      <th>LCurrentScore</th>\n",
              "      <th>ElapsedSeconds</th>\n",
              "      <th>EventTeamID</th>\n",
              "      <th>EventPlayerID</th>\n",
              "      <th>EventType</th>\n",
              "      <th>EventSubType</th>\n",
              "      <th>X</th>\n",
              "      <th>Y</th>\n",
              "      <th>Area</th>\n",
              "    </tr>\n",
              "  </thead>\n",
              "  <tbody>\n",
              "    <tr>\n",
              "      <th>0</th>\n",
              "      <td>2561220</td>\n",
              "      <td>2016</td>\n",
              "      <td>11</td>\n",
              "      <td>1104</td>\n",
              "      <td>1244</td>\n",
              "      <td>77</td>\n",
              "      <td>64</td>\n",
              "      <td>0</td>\n",
              "      <td>0</td>\n",
              "      <td>13</td>\n",
              "      <td>1104</td>\n",
              "      <td>173</td>\n",
              "      <td>miss2</td>\n",
              "      <td>lay</td>\n",
              "      <td>0</td>\n",
              "      <td>0</td>\n",
              "      <td>0</td>\n",
              "    </tr>\n",
              "    <tr>\n",
              "      <th>1</th>\n",
              "      <td>2561221</td>\n",
              "      <td>2016</td>\n",
              "      <td>11</td>\n",
              "      <td>1104</td>\n",
              "      <td>1244</td>\n",
              "      <td>77</td>\n",
              "      <td>64</td>\n",
              "      <td>0</td>\n",
              "      <td>0</td>\n",
              "      <td>13</td>\n",
              "      <td>1104</td>\n",
              "      <td>173</td>\n",
              "      <td>reb</td>\n",
              "      <td>off</td>\n",
              "      <td>0</td>\n",
              "      <td>0</td>\n",
              "      <td>0</td>\n",
              "    </tr>\n",
              "    <tr>\n",
              "      <th>2</th>\n",
              "      <td>2561222</td>\n",
              "      <td>2016</td>\n",
              "      <td>11</td>\n",
              "      <td>1104</td>\n",
              "      <td>1244</td>\n",
              "      <td>77</td>\n",
              "      <td>64</td>\n",
              "      <td>0</td>\n",
              "      <td>0</td>\n",
              "      <td>16</td>\n",
              "      <td>1244</td>\n",
              "      <td>6076</td>\n",
              "      <td>foul</td>\n",
              "      <td>unk</td>\n",
              "      <td>0</td>\n",
              "      <td>0</td>\n",
              "      <td>0</td>\n",
              "    </tr>\n",
              "    <tr>\n",
              "      <th>3</th>\n",
              "      <td>2561223</td>\n",
              "      <td>2016</td>\n",
              "      <td>11</td>\n",
              "      <td>1104</td>\n",
              "      <td>1244</td>\n",
              "      <td>77</td>\n",
              "      <td>64</td>\n",
              "      <td>0</td>\n",
              "      <td>0</td>\n",
              "      <td>16</td>\n",
              "      <td>1104</td>\n",
              "      <td>173</td>\n",
              "      <td>miss1</td>\n",
              "      <td>unk</td>\n",
              "      <td>0</td>\n",
              "      <td>0</td>\n",
              "      <td>0</td>\n",
              "    </tr>\n",
              "    <tr>\n",
              "      <th>4</th>\n",
              "      <td>2561224</td>\n",
              "      <td>2016</td>\n",
              "      <td>11</td>\n",
              "      <td>1104</td>\n",
              "      <td>1244</td>\n",
              "      <td>77</td>\n",
              "      <td>64</td>\n",
              "      <td>0</td>\n",
              "      <td>0</td>\n",
              "      <td>16</td>\n",
              "      <td>1104</td>\n",
              "      <td>0</td>\n",
              "      <td>reb</td>\n",
              "      <td>deadb</td>\n",
              "      <td>0</td>\n",
              "      <td>0</td>\n",
              "      <td>0</td>\n",
              "    </tr>\n",
              "  </tbody>\n",
              "</table>\n",
              "</div>"
            ],
            "text/plain": [
              "   EventID  Season  DayNum  WTeamID  LTeamID  ...  EventType  EventSubType  X  Y  Area\n",
              "0  2561220    2016      11     1104     1244  ...      miss2           lay  0  0     0\n",
              "1  2561221    2016      11     1104     1244  ...        reb           off  0  0     0\n",
              "2  2561222    2016      11     1104     1244  ...       foul           unk  0  0     0\n",
              "3  2561223    2016      11     1104     1244  ...      miss1           unk  0  0     0\n",
              "4  2561224    2016      11     1104     1244  ...        reb         deadb  0  0     0\n",
              "\n",
              "[5 rows x 17 columns]"
            ]
          },
          "execution_count": 5,
          "metadata": {
            "tags": []
          },
          "output_type": "execute_result"
        }
      ],
      "source": [
        "Mevents2016.head(5)"
      ]
    },
    {
      "cell_type": "code",
      "execution_count": null,
      "metadata": {
        "colab": {
          "base_uri": "https://localhost:8080/",
          "height": 126
        },
        "id": "HYQT0AYDQFfZ",
        "outputId": "69125187-94fb-4cb9-df78-52430f771509"
      },
      "outputs": [
        {
          "data": {
            "text/html": [
              "<div>\n",
              "<style scoped>\n",
              "    .dataframe tbody tr th:only-of-type {\n",
              "        vertical-align: middle;\n",
              "    }\n",
              "\n",
              "    .dataframe tbody tr th {\n",
              "        vertical-align: top;\n",
              "    }\n",
              "\n",
              "    .dataframe thead th {\n",
              "        text-align: right;\n",
              "    }\n",
              "</style>\n",
              "<table border=\"1\" class=\"dataframe\">\n",
              "  <thead>\n",
              "    <tr style=\"text-align: right;\">\n",
              "      <th></th>\n",
              "      <th>EventID</th>\n",
              "      <th>Season</th>\n",
              "      <th>DayNum</th>\n",
              "      <th>WTeamID</th>\n",
              "      <th>LTeamID</th>\n",
              "      <th>WFinalScore</th>\n",
              "      <th>LFinalScore</th>\n",
              "      <th>WCurrentScore</th>\n",
              "      <th>LCurrentScore</th>\n",
              "      <th>ElapsedSeconds</th>\n",
              "      <th>EventTeamID</th>\n",
              "      <th>EventPlayerID</th>\n",
              "      <th>EventType</th>\n",
              "      <th>EventSubType</th>\n",
              "      <th>X</th>\n",
              "      <th>Y</th>\n",
              "      <th>Area</th>\n",
              "    </tr>\n",
              "  </thead>\n",
              "  <tbody>\n",
              "    <tr>\n",
              "      <th>0</th>\n",
              "      <td>5215634</td>\n",
              "      <td>2017</td>\n",
              "      <td>11</td>\n",
              "      <td>1104</td>\n",
              "      <td>1157</td>\n",
              "      <td>70</td>\n",
              "      <td>53</td>\n",
              "      <td>0</td>\n",
              "      <td>0</td>\n",
              "      <td>0</td>\n",
              "      <td>1104</td>\n",
              "      <td>156</td>\n",
              "      <td>sub</td>\n",
              "      <td>in</td>\n",
              "      <td>0</td>\n",
              "      <td>0</td>\n",
              "      <td>0</td>\n",
              "    </tr>\n",
              "    <tr>\n",
              "      <th>1</th>\n",
              "      <td>5215635</td>\n",
              "      <td>2017</td>\n",
              "      <td>11</td>\n",
              "      <td>1104</td>\n",
              "      <td>1157</td>\n",
              "      <td>70</td>\n",
              "      <td>53</td>\n",
              "      <td>0</td>\n",
              "      <td>0</td>\n",
              "      <td>15</td>\n",
              "      <td>1157</td>\n",
              "      <td>2236</td>\n",
              "      <td>foul</td>\n",
              "      <td>unk</td>\n",
              "      <td>0</td>\n",
              "      <td>0</td>\n",
              "      <td>0</td>\n",
              "    </tr>\n",
              "  </tbody>\n",
              "</table>\n",
              "</div>"
            ],
            "text/plain": [
              "   EventID  Season  DayNum  WTeamID  LTeamID  ...  EventType  EventSubType  X  Y  Area\n",
              "0  5215634    2017      11     1104     1157  ...        sub            in  0  0     0\n",
              "1  5215635    2017      11     1104     1157  ...       foul           unk  0  0     0\n",
              "\n",
              "[2 rows x 17 columns]"
            ]
          },
          "execution_count": 6,
          "metadata": {
            "tags": []
          },
          "output_type": "execute_result"
        }
      ],
      "source": [
        "Mevents2017.head(2)"
      ]
    },
    {
      "cell_type": "code",
      "execution_count": null,
      "metadata": {
        "colab": {
          "base_uri": "https://localhost:8080/",
          "height": 126
        },
        "id": "ofJDuY2iQKt4",
        "outputId": "3d2113f0-638a-4f4d-e492-cdfa5a678b7f"
      },
      "outputs": [
        {
          "data": {
            "text/html": [
              "<div>\n",
              "<style scoped>\n",
              "    .dataframe tbody tr th:only-of-type {\n",
              "        vertical-align: middle;\n",
              "    }\n",
              "\n",
              "    .dataframe tbody tr th {\n",
              "        vertical-align: top;\n",
              "    }\n",
              "\n",
              "    .dataframe thead th {\n",
              "        text-align: right;\n",
              "    }\n",
              "</style>\n",
              "<table border=\"1\" class=\"dataframe\">\n",
              "  <thead>\n",
              "    <tr style=\"text-align: right;\">\n",
              "      <th></th>\n",
              "      <th>EventID</th>\n",
              "      <th>Season</th>\n",
              "      <th>DayNum</th>\n",
              "      <th>WTeamID</th>\n",
              "      <th>LTeamID</th>\n",
              "      <th>WFinalScore</th>\n",
              "      <th>LFinalScore</th>\n",
              "      <th>WCurrentScore</th>\n",
              "      <th>LCurrentScore</th>\n",
              "      <th>ElapsedSeconds</th>\n",
              "      <th>EventTeamID</th>\n",
              "      <th>EventPlayerID</th>\n",
              "      <th>EventType</th>\n",
              "      <th>EventSubType</th>\n",
              "      <th>X</th>\n",
              "      <th>Y</th>\n",
              "      <th>Area</th>\n",
              "    </tr>\n",
              "  </thead>\n",
              "  <tbody>\n",
              "    <tr>\n",
              "      <th>0</th>\n",
              "      <td>7857252</td>\n",
              "      <td>2018</td>\n",
              "      <td>11</td>\n",
              "      <td>1104</td>\n",
              "      <td>1272</td>\n",
              "      <td>82</td>\n",
              "      <td>70</td>\n",
              "      <td>3</td>\n",
              "      <td>0</td>\n",
              "      <td>15</td>\n",
              "      <td>1104</td>\n",
              "      <td>150</td>\n",
              "      <td>made3</td>\n",
              "      <td>unk</td>\n",
              "      <td>0</td>\n",
              "      <td>0</td>\n",
              "      <td>0</td>\n",
              "    </tr>\n",
              "    <tr>\n",
              "      <th>1</th>\n",
              "      <td>7857253</td>\n",
              "      <td>2018</td>\n",
              "      <td>11</td>\n",
              "      <td>1104</td>\n",
              "      <td>1272</td>\n",
              "      <td>82</td>\n",
              "      <td>70</td>\n",
              "      <td>3</td>\n",
              "      <td>0</td>\n",
              "      <td>15</td>\n",
              "      <td>1104</td>\n",
              "      <td>148</td>\n",
              "      <td>assist</td>\n",
              "      <td>NaN</td>\n",
              "      <td>0</td>\n",
              "      <td>0</td>\n",
              "      <td>0</td>\n",
              "    </tr>\n",
              "  </tbody>\n",
              "</table>\n",
              "</div>"
            ],
            "text/plain": [
              "   EventID  Season  DayNum  WTeamID  LTeamID  ...  EventType  EventSubType  X  Y  Area\n",
              "0  7857252    2018      11     1104     1272  ...      made3           unk  0  0     0\n",
              "1  7857253    2018      11     1104     1272  ...     assist           NaN  0  0     0\n",
              "\n",
              "[2 rows x 17 columns]"
            ]
          },
          "execution_count": 7,
          "metadata": {
            "tags": []
          },
          "output_type": "execute_result"
        }
      ],
      "source": [
        "Mevents2018.head(2)"
      ]
    },
    {
      "cell_type": "code",
      "execution_count": null,
      "metadata": {
        "colab": {
          "base_uri": "https://localhost:8080/",
          "height": 126
        },
        "id": "AcUSYXL2QNrn",
        "outputId": "0d2b98fd-a91e-4502-873a-5a5c95f3f861"
      },
      "outputs": [
        {
          "data": {
            "text/html": [
              "<div>\n",
              "<style scoped>\n",
              "    .dataframe tbody tr th:only-of-type {\n",
              "        vertical-align: middle;\n",
              "    }\n",
              "\n",
              "    .dataframe tbody tr th {\n",
              "        vertical-align: top;\n",
              "    }\n",
              "\n",
              "    .dataframe thead th {\n",
              "        text-align: right;\n",
              "    }\n",
              "</style>\n",
              "<table border=\"1\" class=\"dataframe\">\n",
              "  <thead>\n",
              "    <tr style=\"text-align: right;\">\n",
              "      <th></th>\n",
              "      <th>EventID</th>\n",
              "      <th>Season</th>\n",
              "      <th>DayNum</th>\n",
              "      <th>WTeamID</th>\n",
              "      <th>LTeamID</th>\n",
              "      <th>WFinalScore</th>\n",
              "      <th>LFinalScore</th>\n",
              "      <th>WCurrentScore</th>\n",
              "      <th>LCurrentScore</th>\n",
              "      <th>ElapsedSeconds</th>\n",
              "      <th>EventTeamID</th>\n",
              "      <th>EventPlayerID</th>\n",
              "      <th>EventType</th>\n",
              "      <th>EventSubType</th>\n",
              "      <th>X</th>\n",
              "      <th>Y</th>\n",
              "      <th>Area</th>\n",
              "    </tr>\n",
              "  </thead>\n",
              "  <tbody>\n",
              "    <tr>\n",
              "      <th>0</th>\n",
              "      <td>10446169</td>\n",
              "      <td>2019</td>\n",
              "      <td>1</td>\n",
              "      <td>1104</td>\n",
              "      <td>1380</td>\n",
              "      <td>82</td>\n",
              "      <td>62</td>\n",
              "      <td>0</td>\n",
              "      <td>2</td>\n",
              "      <td>18</td>\n",
              "      <td>1380</td>\n",
              "      <td>12013</td>\n",
              "      <td>made2</td>\n",
              "      <td>jump</td>\n",
              "      <td>0</td>\n",
              "      <td>0</td>\n",
              "      <td>0</td>\n",
              "    </tr>\n",
              "    <tr>\n",
              "      <th>1</th>\n",
              "      <td>10446170</td>\n",
              "      <td>2019</td>\n",
              "      <td>1</td>\n",
              "      <td>1104</td>\n",
              "      <td>1380</td>\n",
              "      <td>82</td>\n",
              "      <td>62</td>\n",
              "      <td>0</td>\n",
              "      <td>2</td>\n",
              "      <td>18</td>\n",
              "      <td>1380</td>\n",
              "      <td>12005</td>\n",
              "      <td>assist</td>\n",
              "      <td>NaN</td>\n",
              "      <td>0</td>\n",
              "      <td>0</td>\n",
              "      <td>0</td>\n",
              "    </tr>\n",
              "  </tbody>\n",
              "</table>\n",
              "</div>"
            ],
            "text/plain": [
              "    EventID  Season  DayNum  WTeamID  ...  EventSubType  X  Y  Area\n",
              "0  10446169    2019       1     1104  ...          jump  0  0     0\n",
              "1  10446170    2019       1     1104  ...           NaN  0  0     0\n",
              "\n",
              "[2 rows x 17 columns]"
            ]
          },
          "execution_count": 8,
          "metadata": {
            "tags": []
          },
          "output_type": "execute_result"
        }
      ],
      "source": [
        "Mevents2019.head(2)"
      ]
    },
    {
      "cell_type": "code",
      "execution_count": null,
      "metadata": {
        "colab": {
          "base_uri": "https://localhost:8080/",
          "height": 214
        },
        "id": "2FM1MHrwQaZx",
        "outputId": "c3cfd65e-567c-4668-eb71-b507a5e220b1"
      },
      "outputs": [
        {
          "data": {
            "text/html": [
              "<div>\n",
              "<style scoped>\n",
              "    .dataframe tbody tr th:only-of-type {\n",
              "        vertical-align: middle;\n",
              "    }\n",
              "\n",
              "    .dataframe tbody tr th {\n",
              "        vertical-align: top;\n",
              "    }\n",
              "\n",
              "    .dataframe thead th {\n",
              "        text-align: right;\n",
              "    }\n",
              "</style>\n",
              "<table border=\"1\" class=\"dataframe\">\n",
              "  <thead>\n",
              "    <tr style=\"text-align: right;\">\n",
              "      <th></th>\n",
              "      <th>EventID</th>\n",
              "      <th>Season</th>\n",
              "      <th>DayNum</th>\n",
              "      <th>WTeamID</th>\n",
              "      <th>LTeamID</th>\n",
              "      <th>WFinalScore</th>\n",
              "      <th>LFinalScore</th>\n",
              "      <th>WCurrentScore</th>\n",
              "      <th>LCurrentScore</th>\n",
              "      <th>ElapsedSeconds</th>\n",
              "      <th>EventTeamID</th>\n",
              "      <th>EventPlayerID</th>\n",
              "      <th>EventType</th>\n",
              "      <th>EventSubType</th>\n",
              "      <th>X</th>\n",
              "      <th>Y</th>\n",
              "      <th>Area</th>\n",
              "    </tr>\n",
              "  </thead>\n",
              "  <tbody>\n",
              "    <tr>\n",
              "      <th>0</th>\n",
              "      <td>1</td>\n",
              "      <td>2015</td>\n",
              "      <td>11</td>\n",
              "      <td>1103</td>\n",
              "      <td>1420</td>\n",
              "      <td>74</td>\n",
              "      <td>57</td>\n",
              "      <td>0</td>\n",
              "      <td>0</td>\n",
              "      <td>19</td>\n",
              "      <td>1103</td>\n",
              "      <td>112</td>\n",
              "      <td>miss3</td>\n",
              "      <td>unk</td>\n",
              "      <td>0</td>\n",
              "      <td>0</td>\n",
              "      <td>0</td>\n",
              "    </tr>\n",
              "    <tr>\n",
              "      <th>1</th>\n",
              "      <td>2</td>\n",
              "      <td>2015</td>\n",
              "      <td>11</td>\n",
              "      <td>1103</td>\n",
              "      <td>1420</td>\n",
              "      <td>74</td>\n",
              "      <td>57</td>\n",
              "      <td>0</td>\n",
              "      <td>0</td>\n",
              "      <td>19</td>\n",
              "      <td>1420</td>\n",
              "      <td>13747</td>\n",
              "      <td>reb</td>\n",
              "      <td>def</td>\n",
              "      <td>0</td>\n",
              "      <td>0</td>\n",
              "      <td>0</td>\n",
              "    </tr>\n",
              "    <tr>\n",
              "      <th>2</th>\n",
              "      <td>3</td>\n",
              "      <td>2015</td>\n",
              "      <td>11</td>\n",
              "      <td>1103</td>\n",
              "      <td>1420</td>\n",
              "      <td>74</td>\n",
              "      <td>57</td>\n",
              "      <td>0</td>\n",
              "      <td>2</td>\n",
              "      <td>27</td>\n",
              "      <td>1420</td>\n",
              "      <td>13753</td>\n",
              "      <td>made2</td>\n",
              "      <td>dunk</td>\n",
              "      <td>0</td>\n",
              "      <td>0</td>\n",
              "      <td>0</td>\n",
              "    </tr>\n",
              "    <tr>\n",
              "      <th>3</th>\n",
              "      <td>4</td>\n",
              "      <td>2015</td>\n",
              "      <td>11</td>\n",
              "      <td>1103</td>\n",
              "      <td>1420</td>\n",
              "      <td>74</td>\n",
              "      <td>57</td>\n",
              "      <td>0</td>\n",
              "      <td>2</td>\n",
              "      <td>27</td>\n",
              "      <td>1420</td>\n",
              "      <td>13770</td>\n",
              "      <td>assist</td>\n",
              "      <td>NaN</td>\n",
              "      <td>0</td>\n",
              "      <td>0</td>\n",
              "      <td>0</td>\n",
              "    </tr>\n",
              "    <tr>\n",
              "      <th>4</th>\n",
              "      <td>5</td>\n",
              "      <td>2015</td>\n",
              "      <td>11</td>\n",
              "      <td>1103</td>\n",
              "      <td>1420</td>\n",
              "      <td>74</td>\n",
              "      <td>57</td>\n",
              "      <td>2</td>\n",
              "      <td>2</td>\n",
              "      <td>59</td>\n",
              "      <td>1103</td>\n",
              "      <td>98</td>\n",
              "      <td>made2</td>\n",
              "      <td>jump</td>\n",
              "      <td>0</td>\n",
              "      <td>0</td>\n",
              "      <td>0</td>\n",
              "    </tr>\n",
              "  </tbody>\n",
              "</table>\n",
              "</div>"
            ],
            "text/plain": [
              "   EventID  Season  DayNum  WTeamID  LTeamID  ...  EventType  EventSubType  X  Y  Area\n",
              "0        1    2015      11     1103     1420  ...      miss3           unk  0  0     0\n",
              "1        2    2015      11     1103     1420  ...        reb           def  0  0     0\n",
              "2        3    2015      11     1103     1420  ...      made2          dunk  0  0     0\n",
              "3        4    2015      11     1103     1420  ...     assist           NaN  0  0     0\n",
              "4        5    2015      11     1103     1420  ...      made2          jump  0  0     0\n",
              "\n",
              "[5 rows x 17 columns]"
            ]
          },
          "execution_count": 9,
          "metadata": {
            "tags": []
          },
          "output_type": "execute_result"
        }
      ],
      "source": [
        "data=pd.concat([Mevents2015,Mevents2016])\n",
        "#data.head(10) #two files merged\n",
        "#so concat all the csv file to do preprocess \n",
        "#every file is continution to another file as shown above\n",
        "data=pd.concat([data,Mevents2017])\n",
        "data=pd.concat([data,Mevents2018])\n",
        "data=pd.concat([data,Mevents2019])\n",
        "data.head(5)"
      ]
    },
    {
      "cell_type": "code",
      "execution_count": null,
      "metadata": {
        "colab": {
          "base_uri": "https://localhost:8080/",
          "height": 419
        },
        "id": "9S3-6-PFUO_e",
        "outputId": "56005020-ddab-4b4b-c613-57a535ac3869"
      },
      "outputs": [
        {
          "data": {
            "text/html": [
              "<div>\n",
              "<style scoped>\n",
              "    .dataframe tbody tr th:only-of-type {\n",
              "        vertical-align: middle;\n",
              "    }\n",
              "\n",
              "    .dataframe tbody tr th {\n",
              "        vertical-align: top;\n",
              "    }\n",
              "\n",
              "    .dataframe thead th {\n",
              "        text-align: right;\n",
              "    }\n",
              "</style>\n",
              "<table border=\"1\" class=\"dataframe\">\n",
              "  <thead>\n",
              "    <tr style=\"text-align: right;\">\n",
              "      <th></th>\n",
              "      <th>EventID</th>\n",
              "      <th>Season</th>\n",
              "      <th>DayNum</th>\n",
              "      <th>WTeamID</th>\n",
              "      <th>LTeamID</th>\n",
              "      <th>WFinalScore</th>\n",
              "      <th>LFinalScore</th>\n",
              "      <th>WCurrentScore</th>\n",
              "      <th>LCurrentScore</th>\n",
              "      <th>ElapsedSeconds</th>\n",
              "      <th>EventTeamID</th>\n",
              "      <th>EventPlayerID</th>\n",
              "      <th>EventType</th>\n",
              "      <th>EventSubType</th>\n",
              "      <th>X</th>\n",
              "      <th>Y</th>\n",
              "      <th>Area</th>\n",
              "    </tr>\n",
              "  </thead>\n",
              "  <tbody>\n",
              "    <tr>\n",
              "      <th>0</th>\n",
              "      <td>1</td>\n",
              "      <td>2015</td>\n",
              "      <td>11</td>\n",
              "      <td>1103</td>\n",
              "      <td>1420</td>\n",
              "      <td>74</td>\n",
              "      <td>57</td>\n",
              "      <td>0</td>\n",
              "      <td>0</td>\n",
              "      <td>19</td>\n",
              "      <td>1103</td>\n",
              "      <td>112</td>\n",
              "      <td>miss3</td>\n",
              "      <td>unk</td>\n",
              "      <td>0</td>\n",
              "      <td>0</td>\n",
              "      <td>0</td>\n",
              "    </tr>\n",
              "    <tr>\n",
              "      <th>1</th>\n",
              "      <td>2</td>\n",
              "      <td>2015</td>\n",
              "      <td>11</td>\n",
              "      <td>1103</td>\n",
              "      <td>1420</td>\n",
              "      <td>74</td>\n",
              "      <td>57</td>\n",
              "      <td>0</td>\n",
              "      <td>0</td>\n",
              "      <td>19</td>\n",
              "      <td>1420</td>\n",
              "      <td>13747</td>\n",
              "      <td>reb</td>\n",
              "      <td>def</td>\n",
              "      <td>0</td>\n",
              "      <td>0</td>\n",
              "      <td>0</td>\n",
              "    </tr>\n",
              "    <tr>\n",
              "      <th>2</th>\n",
              "      <td>3</td>\n",
              "      <td>2015</td>\n",
              "      <td>11</td>\n",
              "      <td>1103</td>\n",
              "      <td>1420</td>\n",
              "      <td>74</td>\n",
              "      <td>57</td>\n",
              "      <td>0</td>\n",
              "      <td>2</td>\n",
              "      <td>27</td>\n",
              "      <td>1420</td>\n",
              "      <td>13753</td>\n",
              "      <td>made2</td>\n",
              "      <td>dunk</td>\n",
              "      <td>0</td>\n",
              "      <td>0</td>\n",
              "      <td>0</td>\n",
              "    </tr>\n",
              "    <tr>\n",
              "      <th>3</th>\n",
              "      <td>4</td>\n",
              "      <td>2015</td>\n",
              "      <td>11</td>\n",
              "      <td>1103</td>\n",
              "      <td>1420</td>\n",
              "      <td>74</td>\n",
              "      <td>57</td>\n",
              "      <td>0</td>\n",
              "      <td>2</td>\n",
              "      <td>27</td>\n",
              "      <td>1420</td>\n",
              "      <td>13770</td>\n",
              "      <td>assist</td>\n",
              "      <td>NaN</td>\n",
              "      <td>0</td>\n",
              "      <td>0</td>\n",
              "      <td>0</td>\n",
              "    </tr>\n",
              "    <tr>\n",
              "      <th>4</th>\n",
              "      <td>5</td>\n",
              "      <td>2015</td>\n",
              "      <td>11</td>\n",
              "      <td>1103</td>\n",
              "      <td>1420</td>\n",
              "      <td>74</td>\n",
              "      <td>57</td>\n",
              "      <td>2</td>\n",
              "      <td>2</td>\n",
              "      <td>59</td>\n",
              "      <td>1103</td>\n",
              "      <td>98</td>\n",
              "      <td>made2</td>\n",
              "      <td>jump</td>\n",
              "      <td>0</td>\n",
              "      <td>0</td>\n",
              "      <td>0</td>\n",
              "    </tr>\n",
              "    <tr>\n",
              "      <th>...</th>\n",
              "      <td>...</td>\n",
              "      <td>...</td>\n",
              "      <td>...</td>\n",
              "      <td>...</td>\n",
              "      <td>...</td>\n",
              "      <td>...</td>\n",
              "      <td>...</td>\n",
              "      <td>...</td>\n",
              "      <td>...</td>\n",
              "      <td>...</td>\n",
              "      <td>...</td>\n",
              "      <td>...</td>\n",
              "      <td>...</td>\n",
              "      <td>...</td>\n",
              "      <td>...</td>\n",
              "      <td>...</td>\n",
              "      <td>...</td>\n",
              "    </tr>\n",
              "    <tr>\n",
              "      <th>2708421</th>\n",
              "      <td>13154590</td>\n",
              "      <td>2019</td>\n",
              "      <td>154</td>\n",
              "      <td>1438</td>\n",
              "      <td>1403</td>\n",
              "      <td>85</td>\n",
              "      <td>77</td>\n",
              "      <td>9</td>\n",
              "      <td>3</td>\n",
              "      <td>424</td>\n",
              "      <td>1438</td>\n",
              "      <td>14505</td>\n",
              "      <td>sub</td>\n",
              "      <td>in</td>\n",
              "      <td>0</td>\n",
              "      <td>0</td>\n",
              "      <td>0</td>\n",
              "    </tr>\n",
              "    <tr>\n",
              "      <th>2708422</th>\n",
              "      <td>13154591</td>\n",
              "      <td>2019</td>\n",
              "      <td>154</td>\n",
              "      <td>1438</td>\n",
              "      <td>1403</td>\n",
              "      <td>85</td>\n",
              "      <td>77</td>\n",
              "      <td>9</td>\n",
              "      <td>3</td>\n",
              "      <td>424</td>\n",
              "      <td>1403</td>\n",
              "      <td>12983</td>\n",
              "      <td>sub</td>\n",
              "      <td>out</td>\n",
              "      <td>0</td>\n",
              "      <td>0</td>\n",
              "      <td>0</td>\n",
              "    </tr>\n",
              "    <tr>\n",
              "      <th>2708423</th>\n",
              "      <td>13154592</td>\n",
              "      <td>2019</td>\n",
              "      <td>154</td>\n",
              "      <td>1438</td>\n",
              "      <td>1403</td>\n",
              "      <td>85</td>\n",
              "      <td>77</td>\n",
              "      <td>9</td>\n",
              "      <td>3</td>\n",
              "      <td>424</td>\n",
              "      <td>1403</td>\n",
              "      <td>13004</td>\n",
              "      <td>sub</td>\n",
              "      <td>in</td>\n",
              "      <td>0</td>\n",
              "      <td>0</td>\n",
              "      <td>0</td>\n",
              "    </tr>\n",
              "    <tr>\n",
              "      <th>2708424</th>\n",
              "      <td>13154593</td>\n",
              "      <td>2019</td>\n",
              "      <td>154</td>\n",
              "      <td>1438</td>\n",
              "      <td>1403</td>\n",
              "      <td>85</td>\n",
              "      <td>77</td>\n",
              "      <td>9</td>\n",
              "      <td>3</td>\n",
              "      <td>424</td>\n",
              "      <td>1403</td>\n",
              "      <td>13007</td>\n",
              "      <td>sub</td>\n",
              "      <td>out</td>\n",
              "      <td>0</td>\n",
              "      <td>0</td>\n",
              "      <td>0</td>\n",
              "    </tr>\n",
              "    <tr>\n",
              "      <th>2708425</th>\n",
              "      <td>13154594</td>\n",
              "      <td>2019</td>\n",
              "      <td>154</td>\n",
              "      <td>1438</td>\n",
              "      <td>1403</td>\n",
              "      <td>85</td>\n",
              "      <td>77</td>\n",
              "      <td>9</td>\n",
              "      <td>3</td>\n",
              "      <td>424</td>\n",
              "      <td>1403</td>\n",
              "      <td>12980</td>\n",
              "      <td>sub</td>\n",
              "      <td>in</td>\n",
              "      <td>0</td>\n",
              "      <td>0</td>\n",
              "      <td>0</td>\n",
              "    </tr>\n",
              "  </tbody>\n",
              "</table>\n",
              "<p>13154594 rows × 17 columns</p>\n",
              "</div>"
            ],
            "text/plain": [
              "          EventID  Season  DayNum  WTeamID  ...  EventSubType  X  Y  Area\n",
              "0               1    2015      11     1103  ...           unk  0  0     0\n",
              "1               2    2015      11     1103  ...           def  0  0     0\n",
              "2               3    2015      11     1103  ...          dunk  0  0     0\n",
              "3               4    2015      11     1103  ...           NaN  0  0     0\n",
              "4               5    2015      11     1103  ...          jump  0  0     0\n",
              "...           ...     ...     ...      ...  ...           ... .. ..   ...\n",
              "2708421  13154590    2019     154     1438  ...            in  0  0     0\n",
              "2708422  13154591    2019     154     1438  ...           out  0  0     0\n",
              "2708423  13154592    2019     154     1438  ...            in  0  0     0\n",
              "2708424  13154593    2019     154     1438  ...           out  0  0     0\n",
              "2708425  13154594    2019     154     1438  ...            in  0  0     0\n",
              "\n",
              "[13154594 rows x 17 columns]"
            ]
          },
          "execution_count": 10,
          "metadata": {
            "tags": []
          },
          "output_type": "execute_result"
        }
      ],
      "source": [
        "data"
      ]
    },
    {
      "cell_type": "markdown",
      "metadata": {
        "id": "cLnr0FWAUwzG"
      },
      "source": [
        "# Applying Preprocess Tecqniques for the combined dataset\n",
        "\n",
        "Comming to next it is one type of pre processing as we have to do multile types of pre process to check and get accurate values"
      ]
    },
    {
      "cell_type": "code",
      "execution_count": null,
      "metadata": {
        "colab": {
          "base_uri": "https://localhost:8080/"
        },
        "id": "EdWp0F_4WgU9",
        "outputId": "eb52a32d-57f5-4bee-b430-33c10702c7aa"
      },
      "outputs": [
        {
          "data": {
            "text/plain": [
              "(13154594, 17)"
            ]
          },
          "execution_count": 11,
          "metadata": {
            "tags": []
          },
          "output_type": "execute_result"
        }
      ],
      "source": [
        "#size or length or dimensions of the dataset(no.of rows and columns)\n",
        "data.shape"
      ]
    },
    {
      "cell_type": "code",
      "execution_count": null,
      "metadata": {
        "colab": {
          "base_uri": "https://localhost:8080/"
        },
        "id": "hTHJXG7yXrkY",
        "outputId": "42dca0fd-18c4-48ae-ed79-d2a3798c39ac"
      },
      "outputs": [
        {
          "data": {
            "text/plain": [
              "Index(['EventID', 'Season', 'DayNum', 'WTeamID', 'LTeamID', 'WFinalScore',\n",
              "       'LFinalScore', 'WCurrentScore', 'LCurrentScore', 'ElapsedSeconds',\n",
              "       'EventTeamID', 'EventPlayerID', 'EventType', 'EventSubType', 'X', 'Y',\n",
              "       'Area'],\n",
              "      dtype='object')"
            ]
          },
          "execution_count": 12,
          "metadata": {
            "tags": []
          },
          "output_type": "execute_result"
        }
      ],
      "source": [
        "#display coums of the data\n",
        "data.columns"
      ]
    },
    {
      "cell_type": "code",
      "execution_count": null,
      "metadata": {
        "colab": {
          "base_uri": "https://localhost:8080/"
        },
        "id": "Nrw73KXcVlUM",
        "outputId": "f3bffe70-aacf-40a8-feda-a0c19325e7a8"
      },
      "outputs": [
        {
          "name": "stdout",
          "output_type": "stream",
          "text": [
            "<class 'pandas.core.frame.DataFrame'>\n",
            "Int64Index: 13154594 entries, 0 to 2708425\n",
            "Data columns (total 17 columns):\n",
            " #   Column          Dtype \n",
            "---  ------          ----- \n",
            " 0   EventID         int64 \n",
            " 1   Season          int64 \n",
            " 2   DayNum          int64 \n",
            " 3   WTeamID         int64 \n",
            " 4   LTeamID         int64 \n",
            " 5   WFinalScore     int64 \n",
            " 6   LFinalScore     int64 \n",
            " 7   WCurrentScore   int64 \n",
            " 8   LCurrentScore   int64 \n",
            " 9   ElapsedSeconds  int64 \n",
            " 10  EventTeamID     int64 \n",
            " 11  EventPlayerID   int64 \n",
            " 12  EventType       object\n",
            " 13  EventSubType    object\n",
            " 14  X               int64 \n",
            " 15  Y               int64 \n",
            " 16  Area            int64 \n",
            "dtypes: int64(15), object(2)\n",
            "memory usage: 1.8+ GB\n",
            "None\n"
          ]
        }
      ],
      "source": [
        "#checking Dataset info\n",
        "print(data.info())"
      ]
    },
    {
      "cell_type": "code",
      "execution_count": null,
      "metadata": {
        "colab": {
          "base_uri": "https://localhost:8080/",
          "height": 419
        },
        "id": "P1x69ED2V-WB",
        "outputId": "bc394f9b-851f-46b0-afa4-664610521a97"
      },
      "outputs": [
        {
          "data": {
            "text/html": [
              "<div>\n",
              "<style scoped>\n",
              "    .dataframe tbody tr th:only-of-type {\n",
              "        vertical-align: middle;\n",
              "    }\n",
              "\n",
              "    .dataframe tbody tr th {\n",
              "        vertical-align: top;\n",
              "    }\n",
              "\n",
              "    .dataframe thead th {\n",
              "        text-align: right;\n",
              "    }\n",
              "</style>\n",
              "<table border=\"1\" class=\"dataframe\">\n",
              "  <thead>\n",
              "    <tr style=\"text-align: right;\">\n",
              "      <th></th>\n",
              "      <th>EventID</th>\n",
              "      <th>Season</th>\n",
              "      <th>DayNum</th>\n",
              "      <th>WTeamID</th>\n",
              "      <th>LTeamID</th>\n",
              "      <th>WFinalScore</th>\n",
              "      <th>LFinalScore</th>\n",
              "      <th>WCurrentScore</th>\n",
              "      <th>LCurrentScore</th>\n",
              "      <th>ElapsedSeconds</th>\n",
              "      <th>EventTeamID</th>\n",
              "      <th>EventPlayerID</th>\n",
              "      <th>EventType</th>\n",
              "      <th>EventSubType</th>\n",
              "      <th>X</th>\n",
              "      <th>Y</th>\n",
              "      <th>Area</th>\n",
              "    </tr>\n",
              "  </thead>\n",
              "  <tbody>\n",
              "    <tr>\n",
              "      <th>0</th>\n",
              "      <td>False</td>\n",
              "      <td>False</td>\n",
              "      <td>False</td>\n",
              "      <td>False</td>\n",
              "      <td>False</td>\n",
              "      <td>False</td>\n",
              "      <td>False</td>\n",
              "      <td>False</td>\n",
              "      <td>False</td>\n",
              "      <td>False</td>\n",
              "      <td>False</td>\n",
              "      <td>False</td>\n",
              "      <td>False</td>\n",
              "      <td>False</td>\n",
              "      <td>False</td>\n",
              "      <td>False</td>\n",
              "      <td>False</td>\n",
              "    </tr>\n",
              "    <tr>\n",
              "      <th>1</th>\n",
              "      <td>False</td>\n",
              "      <td>False</td>\n",
              "      <td>False</td>\n",
              "      <td>False</td>\n",
              "      <td>False</td>\n",
              "      <td>False</td>\n",
              "      <td>False</td>\n",
              "      <td>False</td>\n",
              "      <td>False</td>\n",
              "      <td>False</td>\n",
              "      <td>False</td>\n",
              "      <td>False</td>\n",
              "      <td>False</td>\n",
              "      <td>False</td>\n",
              "      <td>False</td>\n",
              "      <td>False</td>\n",
              "      <td>False</td>\n",
              "    </tr>\n",
              "    <tr>\n",
              "      <th>2</th>\n",
              "      <td>False</td>\n",
              "      <td>False</td>\n",
              "      <td>False</td>\n",
              "      <td>False</td>\n",
              "      <td>False</td>\n",
              "      <td>False</td>\n",
              "      <td>False</td>\n",
              "      <td>False</td>\n",
              "      <td>False</td>\n",
              "      <td>False</td>\n",
              "      <td>False</td>\n",
              "      <td>False</td>\n",
              "      <td>False</td>\n",
              "      <td>False</td>\n",
              "      <td>False</td>\n",
              "      <td>False</td>\n",
              "      <td>False</td>\n",
              "    </tr>\n",
              "    <tr>\n",
              "      <th>3</th>\n",
              "      <td>False</td>\n",
              "      <td>False</td>\n",
              "      <td>False</td>\n",
              "      <td>False</td>\n",
              "      <td>False</td>\n",
              "      <td>False</td>\n",
              "      <td>False</td>\n",
              "      <td>False</td>\n",
              "      <td>False</td>\n",
              "      <td>False</td>\n",
              "      <td>False</td>\n",
              "      <td>False</td>\n",
              "      <td>False</td>\n",
              "      <td>True</td>\n",
              "      <td>False</td>\n",
              "      <td>False</td>\n",
              "      <td>False</td>\n",
              "    </tr>\n",
              "    <tr>\n",
              "      <th>4</th>\n",
              "      <td>False</td>\n",
              "      <td>False</td>\n",
              "      <td>False</td>\n",
              "      <td>False</td>\n",
              "      <td>False</td>\n",
              "      <td>False</td>\n",
              "      <td>False</td>\n",
              "      <td>False</td>\n",
              "      <td>False</td>\n",
              "      <td>False</td>\n",
              "      <td>False</td>\n",
              "      <td>False</td>\n",
              "      <td>False</td>\n",
              "      <td>False</td>\n",
              "      <td>False</td>\n",
              "      <td>False</td>\n",
              "      <td>False</td>\n",
              "    </tr>\n",
              "    <tr>\n",
              "      <th>...</th>\n",
              "      <td>...</td>\n",
              "      <td>...</td>\n",
              "      <td>...</td>\n",
              "      <td>...</td>\n",
              "      <td>...</td>\n",
              "      <td>...</td>\n",
              "      <td>...</td>\n",
              "      <td>...</td>\n",
              "      <td>...</td>\n",
              "      <td>...</td>\n",
              "      <td>...</td>\n",
              "      <td>...</td>\n",
              "      <td>...</td>\n",
              "      <td>...</td>\n",
              "      <td>...</td>\n",
              "      <td>...</td>\n",
              "      <td>...</td>\n",
              "    </tr>\n",
              "    <tr>\n",
              "      <th>2708421</th>\n",
              "      <td>False</td>\n",
              "      <td>False</td>\n",
              "      <td>False</td>\n",
              "      <td>False</td>\n",
              "      <td>False</td>\n",
              "      <td>False</td>\n",
              "      <td>False</td>\n",
              "      <td>False</td>\n",
              "      <td>False</td>\n",
              "      <td>False</td>\n",
              "      <td>False</td>\n",
              "      <td>False</td>\n",
              "      <td>False</td>\n",
              "      <td>False</td>\n",
              "      <td>False</td>\n",
              "      <td>False</td>\n",
              "      <td>False</td>\n",
              "    </tr>\n",
              "    <tr>\n",
              "      <th>2708422</th>\n",
              "      <td>False</td>\n",
              "      <td>False</td>\n",
              "      <td>False</td>\n",
              "      <td>False</td>\n",
              "      <td>False</td>\n",
              "      <td>False</td>\n",
              "      <td>False</td>\n",
              "      <td>False</td>\n",
              "      <td>False</td>\n",
              "      <td>False</td>\n",
              "      <td>False</td>\n",
              "      <td>False</td>\n",
              "      <td>False</td>\n",
              "      <td>False</td>\n",
              "      <td>False</td>\n",
              "      <td>False</td>\n",
              "      <td>False</td>\n",
              "    </tr>\n",
              "    <tr>\n",
              "      <th>2708423</th>\n",
              "      <td>False</td>\n",
              "      <td>False</td>\n",
              "      <td>False</td>\n",
              "      <td>False</td>\n",
              "      <td>False</td>\n",
              "      <td>False</td>\n",
              "      <td>False</td>\n",
              "      <td>False</td>\n",
              "      <td>False</td>\n",
              "      <td>False</td>\n",
              "      <td>False</td>\n",
              "      <td>False</td>\n",
              "      <td>False</td>\n",
              "      <td>False</td>\n",
              "      <td>False</td>\n",
              "      <td>False</td>\n",
              "      <td>False</td>\n",
              "    </tr>\n",
              "    <tr>\n",
              "      <th>2708424</th>\n",
              "      <td>False</td>\n",
              "      <td>False</td>\n",
              "      <td>False</td>\n",
              "      <td>False</td>\n",
              "      <td>False</td>\n",
              "      <td>False</td>\n",
              "      <td>False</td>\n",
              "      <td>False</td>\n",
              "      <td>False</td>\n",
              "      <td>False</td>\n",
              "      <td>False</td>\n",
              "      <td>False</td>\n",
              "      <td>False</td>\n",
              "      <td>False</td>\n",
              "      <td>False</td>\n",
              "      <td>False</td>\n",
              "      <td>False</td>\n",
              "    </tr>\n",
              "    <tr>\n",
              "      <th>2708425</th>\n",
              "      <td>False</td>\n",
              "      <td>False</td>\n",
              "      <td>False</td>\n",
              "      <td>False</td>\n",
              "      <td>False</td>\n",
              "      <td>False</td>\n",
              "      <td>False</td>\n",
              "      <td>False</td>\n",
              "      <td>False</td>\n",
              "      <td>False</td>\n",
              "      <td>False</td>\n",
              "      <td>False</td>\n",
              "      <td>False</td>\n",
              "      <td>False</td>\n",
              "      <td>False</td>\n",
              "      <td>False</td>\n",
              "      <td>False</td>\n",
              "    </tr>\n",
              "  </tbody>\n",
              "</table>\n",
              "<p>13154594 rows × 17 columns</p>\n",
              "</div>"
            ],
            "text/plain": [
              "         EventID  Season  DayNum  WTeamID  ...  EventSubType      X      Y   Area\n",
              "0          False   False   False    False  ...         False  False  False  False\n",
              "1          False   False   False    False  ...         False  False  False  False\n",
              "2          False   False   False    False  ...         False  False  False  False\n",
              "3          False   False   False    False  ...          True  False  False  False\n",
              "4          False   False   False    False  ...         False  False  False  False\n",
              "...          ...     ...     ...      ...  ...           ...    ...    ...    ...\n",
              "2708421    False   False   False    False  ...         False  False  False  False\n",
              "2708422    False   False   False    False  ...         False  False  False  False\n",
              "2708423    False   False   False    False  ...         False  False  False  False\n",
              "2708424    False   False   False    False  ...         False  False  False  False\n",
              "2708425    False   False   False    False  ...         False  False  False  False\n",
              "\n",
              "[13154594 rows x 17 columns]"
            ]
          },
          "execution_count": 14,
          "metadata": {
            "tags": []
          },
          "output_type": "execute_result"
        }
      ],
      "source": [
        "#checking Null Values\n",
        "data.isnull()\n",
        "#got false"
      ]
    },
    {
      "cell_type": "code",
      "execution_count": null,
      "metadata": {
        "colab": {
          "base_uri": "https://localhost:8080/"
        },
        "id": "R_6xED0_WzV0",
        "outputId": "4243511c-a9f5-4bfe-c91a-1e150657765d"
      },
      "outputs": [
        {
          "data": {
            "text/plain": [
              "EventID                 0\n",
              "Season                  0\n",
              "DayNum                  0\n",
              "WTeamID                 0\n",
              "LTeamID                 0\n",
              "WFinalScore             0\n",
              "LFinalScore             0\n",
              "WCurrentScore           0\n",
              "LCurrentScore           0\n",
              "ElapsedSeconds          0\n",
              "EventTeamID             0\n",
              "EventPlayerID           0\n",
              "EventType               0\n",
              "EventSubType      1325244\n",
              "X                       0\n",
              "Y                       0\n",
              "Area                    0\n",
              "dtype: int64"
            ]
          },
          "execution_count": 15,
          "metadata": {
            "tags": []
          },
          "output_type": "execute_result"
        }
      ],
      "source": [
        "#count the null values in the data set\n",
        "data.isna().sum()\n",
        "#after observing data containg Null values we can decide that EventSubType has so many rows containing NULL values"
      ]
    },
    {
      "cell_type": "code",
      "execution_count": null,
      "metadata": {
        "colab": {
          "base_uri": "https://localhost:8080/",
          "height": 404
        },
        "id": "FwFzCVzjX0ol",
        "outputId": "acac6553-b78f-422c-90c4-32089dde8c24"
      },
      "outputs": [
        {
          "data": {
            "text/plain": [
              "<matplotlib.axes._subplots.AxesSubplot at 0x7f796b502350>"
            ]
          },
          "execution_count": 16,
          "metadata": {
            "tags": []
          },
          "output_type": "execute_result"
        },
        {
          "data": {
            "image/png": "[encoded data removed]",
            "text/plain": [
              "<Figure size 1152x432 with 1 Axes>"
            ]
          },
          "metadata": {
            "needs_background": "light",
            "tags": []
          },
          "output_type": "display_data"
        }
      ],
      "source": [
        "data['WFinalScore'].plot(figsize=(16,6))"
      ]
    },
    {
      "cell_type": "code",
      "execution_count": null,
      "metadata": {
        "colab": {
          "base_uri": "https://localhost:8080/",
          "height": 404
        },
        "id": "YDHvuNViYYEw",
        "outputId": "029ca07d-f169-43d6-8dd5-5c2d550ff1f3"
      },
      "outputs": [
        {
          "data": {
            "text/plain": [
              "<matplotlib.axes._subplots.AxesSubplot at 0x7f796b433b50>"
            ]
          },
          "execution_count": 17,
          "metadata": {
            "tags": []
          },
          "output_type": "execute_result"
        },
        {
          "data": {
            "image/png": "[encoded data removed]",
            "text/plain": [
              "<Figure size 1152x432 with 1 Axes>"
            ]
          },
          "metadata": {
            "needs_background": "light",
            "tags": []
          },
          "output_type": "display_data"
        }
      ],
      "source": [
        "data['LFinalScore'].plot(figsize=(16,6))"
      ]
    },
    {
      "cell_type": "code",
      "execution_count": null,
      "metadata": {
        "colab": {
          "base_uri": "https://localhost:8080/",
          "height": 285
        },
        "id": "sfGq125s4Isp",
        "outputId": "18665e17-d6e9-4236-b6c2-2ce7e297718a"
      },
      "outputs": [
        {
          "data": {
            "image/png": "[encoded data removed]",
            "text/plain": [
              "<Figure size 432x288 with 1 Axes>"
            ]
          },
          "metadata": {
            "tags": []
          },
          "output_type": "display_data"
        }
      ],
      "source": [
        "import seaborn as sns\n",
        "sns.set_theme(style=\"whitegrid\")\n",
        "ax = sns.boxplot(x=data[\"WFinalScore\"])"
      ]
    },
    {
      "cell_type": "code",
      "execution_count": null,
      "metadata": {
        "colab": {
          "base_uri": "https://localhost:8080/",
          "height": 284
        },
        "id": "PYHg8YMs5ouI",
        "outputId": "d8ee32c8-a132-46ac-a288-82583efe13ff"
      },
      "outputs": [
        {
          "data": {
            "image/png": "[encoded data removed]",
            "text/plain": [
              "<Figure size 432x288 with 1 Axes>"
            ]
          },
          "metadata": {
            "tags": []
          },
          "output_type": "display_data"
        }
      ],
      "source": [
        "ax = sns.boxplot(x=data[\"LFinalScore\"])"
      ]
    },
    {
      "cell_type": "code",
      "execution_count": null,
      "metadata": {
        "colab": {
          "base_uri": "https://localhost:8080/"
        },
        "id": "hFIIYjCnJBhF",
        "outputId": "c7b7f364-01ca-44ea-d4c7-d1be0df67353"
      },
      "outputs": [
        {
          "data": {
            "text/plain": [
              "Index(['EventID', 'Season', 'DayNum', 'WTeamID', 'LTeamID', 'WFinalScore',\n",
              "       'LFinalScore', 'WCurrentScore', 'LCurrentScore', 'ElapsedSeconds',\n",
              "       'EventTeamID', 'EventPlayerID', 'EventType', 'EventSubType', 'X', 'Y',\n",
              "       'Area'],\n",
              "      dtype='object')"
            ]
          },
          "execution_count": 26,
          "metadata": {
            "tags": []
          },
          "output_type": "execute_result"
        }
      ],
      "source": [
        "#Creating duplicate data set for safe \n",
        "datadup=data\n",
        "datadup.columns\n",
        "# data.columns"
      ]
    },
    {
      "cell_type": "code",
      "execution_count": null,
      "metadata": {
        "id": "KIRl8LFoLH1i"
      },
      "outputs": [],
      "source": [
        "#@title Removing the un necessary coloums called X,Y,Area { form-width: \"30%\", display-mode: \"both\" }\n",
        "\n",
        "#in the above data we dont need the X,Y,Area colums\n",
        "datadup.drop([\"X\", \"Y\",\"Area\"], axis = 1, inplace = True)"
      ]
    },
    {
      "cell_type": "code",
      "execution_count": null,
      "metadata": {
        "colab": {
          "base_uri": "https://localhost:8080/",
          "height": 392
        },
        "id": "5gxKjmMgLTyR",
        "outputId": "08d12943-f60e-489f-cce0-df2042eaeb12"
      },
      "outputs": [
        {
          "data": {
            "text/html": [
              "<div>\n",
              "<style scoped>\n",
              "    .dataframe tbody tr th:only-of-type {\n",
              "        vertical-align: middle;\n",
              "    }\n",
              "\n",
              "    .dataframe tbody tr th {\n",
              "        vertical-align: top;\n",
              "    }\n",
              "\n",
              "    .dataframe thead th {\n",
              "        text-align: right;\n",
              "    }\n",
              "</style>\n",
              "<table border=\"1\" class=\"dataframe\">\n",
              "  <thead>\n",
              "    <tr style=\"text-align: right;\">\n",
              "      <th></th>\n",
              "      <th>EventID</th>\n",
              "      <th>Season</th>\n",
              "      <th>DayNum</th>\n",
              "      <th>WTeamID</th>\n",
              "      <th>LTeamID</th>\n",
              "      <th>WFinalScore</th>\n",
              "      <th>LFinalScore</th>\n",
              "      <th>WCurrentScore</th>\n",
              "      <th>LCurrentScore</th>\n",
              "      <th>ElapsedSeconds</th>\n",
              "      <th>EventTeamID</th>\n",
              "      <th>EventPlayerID</th>\n",
              "      <th>EventType</th>\n",
              "      <th>EventSubType</th>\n",
              "    </tr>\n",
              "  </thead>\n",
              "  <tbody>\n",
              "    <tr>\n",
              "      <th>0</th>\n",
              "      <td>1</td>\n",
              "      <td>2015</td>\n",
              "      <td>11</td>\n",
              "      <td>1103</td>\n",
              "      <td>1420</td>\n",
              "      <td>74</td>\n",
              "      <td>57</td>\n",
              "      <td>0</td>\n",
              "      <td>0</td>\n",
              "      <td>19</td>\n",
              "      <td>1103</td>\n",
              "      <td>112</td>\n",
              "      <td>miss3</td>\n",
              "      <td>unk</td>\n",
              "    </tr>\n",
              "    <tr>\n",
              "      <th>1</th>\n",
              "      <td>2</td>\n",
              "      <td>2015</td>\n",
              "      <td>11</td>\n",
              "      <td>1103</td>\n",
              "      <td>1420</td>\n",
              "      <td>74</td>\n",
              "      <td>57</td>\n",
              "      <td>0</td>\n",
              "      <td>0</td>\n",
              "      <td>19</td>\n",
              "      <td>1420</td>\n",
              "      <td>13747</td>\n",
              "      <td>reb</td>\n",
              "      <td>def</td>\n",
              "    </tr>\n",
              "    <tr>\n",
              "      <th>2</th>\n",
              "      <td>3</td>\n",
              "      <td>2015</td>\n",
              "      <td>11</td>\n",
              "      <td>1103</td>\n",
              "      <td>1420</td>\n",
              "      <td>74</td>\n",
              "      <td>57</td>\n",
              "      <td>0</td>\n",
              "      <td>2</td>\n",
              "      <td>27</td>\n",
              "      <td>1420</td>\n",
              "      <td>13753</td>\n",
              "      <td>made2</td>\n",
              "      <td>dunk</td>\n",
              "    </tr>\n",
              "    <tr>\n",
              "      <th>3</th>\n",
              "      <td>4</td>\n",
              "      <td>2015</td>\n",
              "      <td>11</td>\n",
              "      <td>1103</td>\n",
              "      <td>1420</td>\n",
              "      <td>74</td>\n",
              "      <td>57</td>\n",
              "      <td>0</td>\n",
              "      <td>2</td>\n",
              "      <td>27</td>\n",
              "      <td>1420</td>\n",
              "      <td>13770</td>\n",
              "      <td>assist</td>\n",
              "      <td>NaN</td>\n",
              "    </tr>\n",
              "    <tr>\n",
              "      <th>4</th>\n",
              "      <td>5</td>\n",
              "      <td>2015</td>\n",
              "      <td>11</td>\n",
              "      <td>1103</td>\n",
              "      <td>1420</td>\n",
              "      <td>74</td>\n",
              "      <td>57</td>\n",
              "      <td>2</td>\n",
              "      <td>2</td>\n",
              "      <td>59</td>\n",
              "      <td>1103</td>\n",
              "      <td>98</td>\n",
              "      <td>made2</td>\n",
              "      <td>jump</td>\n",
              "    </tr>\n",
              "    <tr>\n",
              "      <th>...</th>\n",
              "      <td>...</td>\n",
              "      <td>...</td>\n",
              "      <td>...</td>\n",
              "      <td>...</td>\n",
              "      <td>...</td>\n",
              "      <td>...</td>\n",
              "      <td>...</td>\n",
              "      <td>...</td>\n",
              "      <td>...</td>\n",
              "      <td>...</td>\n",
              "      <td>...</td>\n",
              "      <td>...</td>\n",
              "      <td>...</td>\n",
              "      <td>...</td>\n",
              "    </tr>\n",
              "    <tr>\n",
              "      <th>2708421</th>\n",
              "      <td>13154590</td>\n",
              "      <td>2019</td>\n",
              "      <td>154</td>\n",
              "      <td>1438</td>\n",
              "      <td>1403</td>\n",
              "      <td>85</td>\n",
              "      <td>77</td>\n",
              "      <td>9</td>\n",
              "      <td>3</td>\n",
              "      <td>424</td>\n",
              "      <td>1438</td>\n",
              "      <td>14505</td>\n",
              "      <td>sub</td>\n",
              "      <td>in</td>\n",
              "    </tr>\n",
              "    <tr>\n",
              "      <th>2708422</th>\n",
              "      <td>13154591</td>\n",
              "      <td>2019</td>\n",
              "      <td>154</td>\n",
              "      <td>1438</td>\n",
              "      <td>1403</td>\n",
              "      <td>85</td>\n",
              "      <td>77</td>\n",
              "      <td>9</td>\n",
              "      <td>3</td>\n",
              "      <td>424</td>\n",
              "      <td>1403</td>\n",
              "      <td>12983</td>\n",
              "      <td>sub</td>\n",
              "      <td>out</td>\n",
              "    </tr>\n",
              "    <tr>\n",
              "      <th>2708423</th>\n",
              "      <td>13154592</td>\n",
              "      <td>2019</td>\n",
              "      <td>154</td>\n",
              "      <td>1438</td>\n",
              "      <td>1403</td>\n",
              "      <td>85</td>\n",
              "      <td>77</td>\n",
              "      <td>9</td>\n",
              "      <td>3</td>\n",
              "      <td>424</td>\n",
              "      <td>1403</td>\n",
              "      <td>13004</td>\n",
              "      <td>sub</td>\n",
              "      <td>in</td>\n",
              "    </tr>\n",
              "    <tr>\n",
              "      <th>2708424</th>\n",
              "      <td>13154593</td>\n",
              "      <td>2019</td>\n",
              "      <td>154</td>\n",
              "      <td>1438</td>\n",
              "      <td>1403</td>\n",
              "      <td>85</td>\n",
              "      <td>77</td>\n",
              "      <td>9</td>\n",
              "      <td>3</td>\n",
              "      <td>424</td>\n",
              "      <td>1403</td>\n",
              "      <td>13007</td>\n",
              "      <td>sub</td>\n",
              "      <td>out</td>\n",
              "    </tr>\n",
              "    <tr>\n",
              "      <th>2708425</th>\n",
              "      <td>13154594</td>\n",
              "      <td>2019</td>\n",
              "      <td>154</td>\n",
              "      <td>1438</td>\n",
              "      <td>1403</td>\n",
              "      <td>85</td>\n",
              "      <td>77</td>\n",
              "      <td>9</td>\n",
              "      <td>3</td>\n",
              "      <td>424</td>\n",
              "      <td>1403</td>\n",
              "      <td>12980</td>\n",
              "      <td>sub</td>\n",
              "      <td>in</td>\n",
              "    </tr>\n",
              "  </tbody>\n",
              "</table>\n",
              "<p>13154594 rows × 14 columns</p>\n",
              "</div>"
            ],
            "text/plain": [
              "          EventID  Season  DayNum  ...  EventPlayerID  EventType  EventSubType\n",
              "0               1    2015      11  ...            112      miss3           unk\n",
              "1               2    2015      11  ...          13747        reb           def\n",
              "2               3    2015      11  ...          13753      made2          dunk\n",
              "3               4    2015      11  ...          13770     assist           NaN\n",
              "4               5    2015      11  ...             98      made2          jump\n",
              "...           ...     ...     ...  ...            ...        ...           ...\n",
              "2708421  13154590    2019     154  ...          14505        sub            in\n",
              "2708422  13154591    2019     154  ...          12983        sub           out\n",
              "2708423  13154592    2019     154  ...          13004        sub            in\n",
              "2708424  13154593    2019     154  ...          13007        sub           out\n",
              "2708425  13154594    2019     154  ...          12980        sub            in\n",
              "\n",
              "[13154594 rows x 14 columns]"
            ]
          },
          "execution_count": 28,
          "metadata": {
            "tags": []
          },
          "output_type": "execute_result"
        }
      ],
      "source": [
        "datadup       #After removing the useless Columns"
      ]
    },
    {
      "cell_type": "code",
      "execution_count": null,
      "metadata": {
        "colab": {
          "base_uri": "https://localhost:8080/",
          "height": 832
        },
        "id": "FPYP_ZdKMEHp",
        "outputId": "ecab49c6-9c2e-4331-c106-e0db7e6e1fb0"
      },
      "outputs": [
        {
          "data": {
            "text/plain": [
              "<matplotlib.colorbar.Colorbar at 0x7f66e38c8550>"
            ]
          },
          "execution_count": 29,
          "metadata": {
            "tags": []
          },
          "output_type": "execute_result"
        },
        {
          "data": {
            "image/png": "[encoded data removed]",
            "text/plain": [
              "<Figure size 1008x1008 with 2 Axes>"
            ]
          },
          "metadata": {
            "tags": []
          },
          "output_type": "display_data"
        }
      ],
      "source": [
        "rcParams['figure.figsize'] = 20, 14\n",
        "plt.matshow(datadup.corr())\n",
        "plt.yticks(np.arange(datadup.shape[1]), datadup.columns)\n",
        "plt.xticks(np.arange(datadup.shape[1]), datadup.columns)\n",
        "plt.colorbar()"
      ]
    },
    {
      "cell_type": "code",
      "execution_count": null,
      "metadata": {
        "colab": {
          "base_uri": "https://localhost:8080/",
          "height": 1000
        },
        "id": "LGDXTJYYOJcc",
        "outputId": "57c25781-2d86-4872-c043-f6c25ca0b3e6"
      },
      "outputs": [
        {
          "data": {
            "text/plain": [
              "array([[<matplotlib.axes._subplots.AxesSubplot object at 0x7fecb0d24b00>,\n",
              "        <matplotlib.axes._subplots.AxesSubplot object at 0x7fecb0d02da0>,\n",
              "        <matplotlib.axes._subplots.AxesSubplot object at 0x7fecb0cb7fd0>],\n",
              "       [<matplotlib.axes._subplots.AxesSubplot object at 0x7fecb0c782b0>,\n",
              "        <matplotlib.axes._subplots.AxesSubplot object at 0x7fecb0c2a518>,\n",
              "        <matplotlib.axes._subplots.AxesSubplot object at 0x7fecb0bde780>],\n",
              "       [<matplotlib.axes._subplots.AxesSubplot object at 0x7fecb0b919e8>,\n",
              "        <matplotlib.axes._subplots.AxesSubplot object at 0x7fecb0bc6c18>,\n",
              "        <matplotlib.axes._subplots.AxesSubplot object at 0x7fecb0bc6c88>],\n",
              "       [<matplotlib.axes._subplots.AxesSubplot object at 0x7fecb0b3b160>,\n",
              "        <matplotlib.axes._subplots.AxesSubplot object at 0x7fecb0aee3c8>,\n",
              "        <matplotlib.axes._subplots.AxesSubplot object at 0x7fecb0aa1630>]],\n",
              "      dtype=object)"
            ]
          },
          "execution_count": 26,
          "metadata": {
            "tags": []
          },
          "output_type": "execute_result"
        },
        {
          "data": {
            "image/png": "[encoded data removed]",
            "text/plain": [
              "<Figure size 1440x1008 with 12 Axes>"
            ]
          },
          "metadata": {
            "needs_background": "light",
            "tags": []
          },
          "output_type": "display_data"
        }
      ],
      "source": [
        "datadup.hist()"
      ]
    },
    {
      "cell_type": "code",
      "execution_count": null,
      "metadata": {
        "id": "w3lQk0r2Ogod"
      },
      "outputs": [],
      "source": [
        "# rcParams['figure.figsize'] = 8,6\n",
        "# plt.bar(datadup['WFinalScore'].unique(), datadup['WFinalScore'].value_counts(), color = ['green', 'orange'])\n",
        "# plt.xticks([0, 1])\n",
        "# plt.xlabel('Target Classes')\n",
        "# plt.ylabel('Count')\n",
        "# plt.title('Count of each Target Class')"
      ]
    },
    {
      "cell_type": "code",
      "execution_count": null,
      "metadata": {
        "colab": {
          "base_uri": "https://localhost:8080/"
        },
        "id": "BETZxEaDs60r",
        "outputId": "ba371772-7fb7-4d1d-963d-68a37c75a09f"
      },
      "outputs": [
        {
          "data": {
            "text/plain": [
              "EventID                 0\n",
              "Season                  0\n",
              "DayNum                  0\n",
              "WTeamID                 0\n",
              "LTeamID                 0\n",
              "WFinalScore             0\n",
              "LFinalScore             0\n",
              "WCurrentScore           0\n",
              "LCurrentScore           0\n",
              "ElapsedSeconds          0\n",
              "EventTeamID             0\n",
              "EventPlayerID           0\n",
              "EventType               0\n",
              "EventSubType      1325244\n",
              "dtype: int64"
            ]
          },
          "execution_count": 12,
          "metadata": {
            "tags": []
          },
          "output_type": "execute_result"
        }
      ],
      "source": [
        "#@title Removing NAN Values { form-width: \"20%\" }\n",
        "#Removing NAN values in the event type column checking howmany are there in the dataset with null values\n",
        "datadup.isna().sum()\n",
        "#so there are 1324605 rows are removing"
      ]
    },
    {
      "cell_type": "code",
      "execution_count": null,
      "metadata": {
        "colab": {
          "base_uri": "https://localhost:8080/"
        },
        "id": "cA5dnvz0VHJO",
        "outputId": "69b88de6-add4-46df-dffd-c11a5661d348"
      },
      "outputs": [
        {
          "data": {
            "text/plain": [
              "EventID           0\n",
              "Season            0\n",
              "DayNum            0\n",
              "WTeamID           0\n",
              "LTeamID           0\n",
              "WFinalScore       0\n",
              "LFinalScore       0\n",
              "WCurrentScore     0\n",
              "LCurrentScore     0\n",
              "ElapsedSeconds    0\n",
              "EventTeamID       0\n",
              "EventPlayerID     0\n",
              "EventType         0\n",
              "EventSubType      0\n",
              "dtype: int64"
            ]
          },
          "execution_count": 30,
          "metadata": {
            "tags": []
          },
          "output_type": "execute_result"
        }
      ],
      "source": [
        "#Because it is a type of string and there is no class that we can predict the value of missing data so there is another when there is more data and after deleting also the prediction result doest effect anything\n",
        "datadup=datadup.dropna()\n",
        "# checking after removing the NA values from the column EventSubType\n",
        "datadup.isna().sum()"
      ]
    },
    {
      "cell_type": "code",
      "execution_count": null,
      "metadata": {
        "colab": {
          "base_uri": "https://localhost:8080/"
        },
        "id": "z2JwNwlw0uoq",
        "outputId": "ef2ff3ad-73b7-4fa2-f480-94511025a3e7"
      },
      "outputs": [
        {
          "data": {
            "text/plain": [
              "(11829350, 14)"
            ]
          },
          "execution_count": 31,
          "metadata": {
            "tags": []
          },
          "output_type": "execute_result"
        }
      ],
      "source": [
        "datadup.shape"
      ]
    },
    {
      "cell_type": "code",
      "execution_count": null,
      "metadata": {
        "colab": {
          "base_uri": "https://localhost:8080/"
        },
        "id": "aAGldjEd01V8",
        "outputId": "49ec3f48-3666-402a-dfc6-d8b762af9f80"
      },
      "outputs": [
        {
          "data": {
            "text/plain": [
              "(array([], dtype=int64), array([], dtype=int64))"
            ]
          },
          "execution_count": 32,
          "metadata": {
            "tags": []
          },
          "output_type": "execute_result"
        }
      ],
      "source": [
        "#checking for Empty values in the dataset of each column\n",
        "np.where(datadup.applymap(lambda x: x == ' '))\n",
        "#by seeing output we can tell there is no empty spaces in the dataset"
      ]
    },
    {
      "cell_type": "code",
      "execution_count": null,
      "metadata": {
        "colab": {
          "base_uri": "https://localhost:8080/",
          "height": 392
        },
        "id": "3Yfu_siK5wf2",
        "outputId": "03e2a331-d3f4-48fd-9228-8ab0c08887df"
      },
      "outputs": [
        {
          "data": {
            "text/html": [
              "<div>\n",
              "<style scoped>\n",
              "    .dataframe tbody tr th:only-of-type {\n",
              "        vertical-align: middle;\n",
              "    }\n",
              "\n",
              "    .dataframe tbody tr th {\n",
              "        vertical-align: top;\n",
              "    }\n",
              "\n",
              "    .dataframe thead th {\n",
              "        text-align: right;\n",
              "    }\n",
              "</style>\n",
              "<table border=\"1\" class=\"dataframe\">\n",
              "  <thead>\n",
              "    <tr style=\"text-align: right;\">\n",
              "      <th></th>\n",
              "      <th>EventID</th>\n",
              "      <th>Season</th>\n",
              "      <th>DayNum</th>\n",
              "      <th>WTeamID</th>\n",
              "      <th>LTeamID</th>\n",
              "      <th>WFinalScore</th>\n",
              "      <th>LFinalScore</th>\n",
              "      <th>WCurrentScore</th>\n",
              "      <th>LCurrentScore</th>\n",
              "      <th>ElapsedSeconds</th>\n",
              "      <th>EventTeamID</th>\n",
              "      <th>EventPlayerID</th>\n",
              "      <th>EventType</th>\n",
              "      <th>EventSubType</th>\n",
              "    </tr>\n",
              "  </thead>\n",
              "  <tbody>\n",
              "    <tr>\n",
              "      <th>4</th>\n",
              "      <td>5</td>\n",
              "      <td>2015</td>\n",
              "      <td>11</td>\n",
              "      <td>1103</td>\n",
              "      <td>1420</td>\n",
              "      <td>74</td>\n",
              "      <td>57</td>\n",
              "      <td>2</td>\n",
              "      <td>2</td>\n",
              "      <td>59</td>\n",
              "      <td>1103</td>\n",
              "      <td>98</td>\n",
              "      <td>made2</td>\n",
              "      <td>jump</td>\n",
              "    </tr>\n",
              "    <tr>\n",
              "      <th>5</th>\n",
              "      <td>6</td>\n",
              "      <td>2015</td>\n",
              "      <td>11</td>\n",
              "      <td>1103</td>\n",
              "      <td>1420</td>\n",
              "      <td>74</td>\n",
              "      <td>57</td>\n",
              "      <td>2</td>\n",
              "      <td>2</td>\n",
              "      <td>72</td>\n",
              "      <td>1420</td>\n",
              "      <td>13747</td>\n",
              "      <td>turnover</td>\n",
              "      <td>unk</td>\n",
              "    </tr>\n",
              "    <tr>\n",
              "      <th>7</th>\n",
              "      <td>8</td>\n",
              "      <td>2015</td>\n",
              "      <td>11</td>\n",
              "      <td>1103</td>\n",
              "      <td>1420</td>\n",
              "      <td>74</td>\n",
              "      <td>57</td>\n",
              "      <td>2</td>\n",
              "      <td>2</td>\n",
              "      <td>75</td>\n",
              "      <td>1420</td>\n",
              "      <td>13770</td>\n",
              "      <td>foul</td>\n",
              "      <td>unk</td>\n",
              "    </tr>\n",
              "    <tr>\n",
              "      <th>8</th>\n",
              "      <td>9</td>\n",
              "      <td>2015</td>\n",
              "      <td>11</td>\n",
              "      <td>1103</td>\n",
              "      <td>1420</td>\n",
              "      <td>74</td>\n",
              "      <td>57</td>\n",
              "      <td>4</td>\n",
              "      <td>2</td>\n",
              "      <td>94</td>\n",
              "      <td>1103</td>\n",
              "      <td>104</td>\n",
              "      <td>made2</td>\n",
              "      <td>jump</td>\n",
              "    </tr>\n",
              "    <tr>\n",
              "      <th>9</th>\n",
              "      <td>10</td>\n",
              "      <td>2015</td>\n",
              "      <td>11</td>\n",
              "      <td>1103</td>\n",
              "      <td>1420</td>\n",
              "      <td>74</td>\n",
              "      <td>57</td>\n",
              "      <td>4</td>\n",
              "      <td>4</td>\n",
              "      <td>101</td>\n",
              "      <td>1420</td>\n",
              "      <td>13753</td>\n",
              "      <td>made2</td>\n",
              "      <td>lay</td>\n",
              "    </tr>\n",
              "    <tr>\n",
              "      <th>...</th>\n",
              "      <td>...</td>\n",
              "      <td>...</td>\n",
              "      <td>...</td>\n",
              "      <td>...</td>\n",
              "      <td>...</td>\n",
              "      <td>...</td>\n",
              "      <td>...</td>\n",
              "      <td>...</td>\n",
              "      <td>...</td>\n",
              "      <td>...</td>\n",
              "      <td>...</td>\n",
              "      <td>...</td>\n",
              "      <td>...</td>\n",
              "      <td>...</td>\n",
              "    </tr>\n",
              "    <tr>\n",
              "      <th>2708421</th>\n",
              "      <td>13154590</td>\n",
              "      <td>2019</td>\n",
              "      <td>154</td>\n",
              "      <td>1438</td>\n",
              "      <td>1403</td>\n",
              "      <td>85</td>\n",
              "      <td>77</td>\n",
              "      <td>9</td>\n",
              "      <td>3</td>\n",
              "      <td>424</td>\n",
              "      <td>1438</td>\n",
              "      <td>14505</td>\n",
              "      <td>sub</td>\n",
              "      <td>in</td>\n",
              "    </tr>\n",
              "    <tr>\n",
              "      <th>2708422</th>\n",
              "      <td>13154591</td>\n",
              "      <td>2019</td>\n",
              "      <td>154</td>\n",
              "      <td>1438</td>\n",
              "      <td>1403</td>\n",
              "      <td>85</td>\n",
              "      <td>77</td>\n",
              "      <td>9</td>\n",
              "      <td>3</td>\n",
              "      <td>424</td>\n",
              "      <td>1403</td>\n",
              "      <td>12983</td>\n",
              "      <td>sub</td>\n",
              "      <td>out</td>\n",
              "    </tr>\n",
              "    <tr>\n",
              "      <th>2708423</th>\n",
              "      <td>13154592</td>\n",
              "      <td>2019</td>\n",
              "      <td>154</td>\n",
              "      <td>1438</td>\n",
              "      <td>1403</td>\n",
              "      <td>85</td>\n",
              "      <td>77</td>\n",
              "      <td>9</td>\n",
              "      <td>3</td>\n",
              "      <td>424</td>\n",
              "      <td>1403</td>\n",
              "      <td>13004</td>\n",
              "      <td>sub</td>\n",
              "      <td>in</td>\n",
              "    </tr>\n",
              "    <tr>\n",
              "      <th>2708424</th>\n",
              "      <td>13154593</td>\n",
              "      <td>2019</td>\n",
              "      <td>154</td>\n",
              "      <td>1438</td>\n",
              "      <td>1403</td>\n",
              "      <td>85</td>\n",
              "      <td>77</td>\n",
              "      <td>9</td>\n",
              "      <td>3</td>\n",
              "      <td>424</td>\n",
              "      <td>1403</td>\n",
              "      <td>13007</td>\n",
              "      <td>sub</td>\n",
              "      <td>out</td>\n",
              "    </tr>\n",
              "    <tr>\n",
              "      <th>2708425</th>\n",
              "      <td>13154594</td>\n",
              "      <td>2019</td>\n",
              "      <td>154</td>\n",
              "      <td>1438</td>\n",
              "      <td>1403</td>\n",
              "      <td>85</td>\n",
              "      <td>77</td>\n",
              "      <td>9</td>\n",
              "      <td>3</td>\n",
              "      <td>424</td>\n",
              "      <td>1403</td>\n",
              "      <td>12980</td>\n",
              "      <td>sub</td>\n",
              "      <td>in</td>\n",
              "    </tr>\n",
              "  </tbody>\n",
              "</table>\n",
              "<p>11452707 rows × 14 columns</p>\n",
              "</div>"
            ],
            "text/plain": [
              "          EventID  Season  DayNum  ...  EventPlayerID  EventType  EventSubType\n",
              "4               5    2015      11  ...             98      made2          jump\n",
              "5               6    2015      11  ...          13747   turnover           unk\n",
              "7               8    2015      11  ...          13770       foul           unk\n",
              "8               9    2015      11  ...            104      made2          jump\n",
              "9              10    2015      11  ...          13753      made2           lay\n",
              "...           ...     ...     ...  ...            ...        ...           ...\n",
              "2708421  13154590    2019     154  ...          14505        sub            in\n",
              "2708422  13154591    2019     154  ...          12983        sub           out\n",
              "2708423  13154592    2019     154  ...          13004        sub            in\n",
              "2708424  13154593    2019     154  ...          13007        sub           out\n",
              "2708425  13154594    2019     154  ...          12980        sub            in\n",
              "\n",
              "[11452707 rows x 14 columns]"
            ]
          },
          "execution_count": 33,
          "metadata": {
            "tags": []
          },
          "output_type": "execute_result"
        }
      ],
      "source": [
        "#in the Wcurrentscore and Lcurrent score there is no use of both 0's at same row because no action was taken place nothing is predicted from those 0's\n",
        "# data=data[-(which(data$WCurrentScore==0 & data$LCurrentScore==0)),]\n",
        "datadup =datadup[datadup['WCurrentScore'] !=0]\n",
        "datadup =datadup[datadup['LCurrentScore'] !=0]\n",
        "datadup"
      ]
    },
    {
      "cell_type": "code",
      "execution_count": null,
      "metadata": {
        "colab": {
          "base_uri": "https://localhost:8080/",
          "height": 838
        },
        "id": "tSVhm5-RDtDz",
        "outputId": "9a9bb100-afd9-46d4-a21c-3e011e1e6c67"
      },
      "outputs": [
        {
          "data": {
            "text/plain": [
              "<matplotlib.axes._subplots.AxesSubplot at 0x7f66e2502d30>"
            ]
          },
          "execution_count": 34,
          "metadata": {
            "tags": []
          },
          "output_type": "execute_result"
        },
        {
          "data": {
            "image/png": "[encoded data removed]",
            "text/plain": [
              "<Figure size 1440x1008 with 1 Axes>"
            ]
          },
          "metadata": {
            "tags": []
          },
          "output_type": "display_data"
        }
      ],
      "source": [
        "datadup['EventType'].hist()"
      ]
    },
    {
      "cell_type": "code",
      "execution_count": null,
      "metadata": {
        "id": "s-7JQPoU6YKG"
      },
      "outputs": [],
      "source": [
        "ax = sns.boxplot(x=data[\"WFinalScore\"])"
      ]
    },
    {
      "cell_type": "code",
      "execution_count": null,
      "metadata": {
        "id": "9_uXX9JW6uFV"
      },
      "outputs": [],
      "source": [
        "ay=sns.boxplot(x=data[\"LFinalScore\"])"
      ]
    },
    {
      "cell_type": "code",
      "execution_count": null,
      "metadata": {
        "colab": {
          "base_uri": "https://localhost:8080/"
        },
        "id": "VK8o5C_mExdj",
        "outputId": "9bb322b4-2d9c-414a-ae8c-0eaa0627c351"
      },
      "outputs": [
        {
          "data": {
            "text/plain": [
              "EventType\n",
              "foul        1003608\n",
              "jumpb          2352\n",
              "made1        768608\n",
              "made2        954388\n",
              "made3        387446\n",
              "miss        2000834\n",
              "sub         3323259\n",
              "timeout      338622\n",
              "turnover     672536\n",
              "dtype: int64"
            ]
          },
          "execution_count": 20,
          "metadata": {
            "tags": []
          },
          "output_type": "execute_result"
        }
      ],
      "source": [
        "datadup.groupby('EventType').size()"
      ]
    },
    {
      "cell_type": "code",
      "execution_count": null,
      "metadata": {
        "colab": {
          "base_uri": "https://localhost:8080/",
          "height": 392
        },
        "id": "P3ctH1wHPadP",
        "outputId": "f10b27b1-fdfa-45bd-b25a-93612e0c249a"
      },
      "outputs": [
        {
          "data": {
            "text/html": [
              "<div>\n",
              "<style scoped>\n",
              "    .dataframe tbody tr th:only-of-type {\n",
              "        vertical-align: middle;\n",
              "    }\n",
              "\n",
              "    .dataframe tbody tr th {\n",
              "        vertical-align: top;\n",
              "    }\n",
              "\n",
              "    .dataframe thead th {\n",
              "        text-align: right;\n",
              "    }\n",
              "</style>\n",
              "<table border=\"1\" class=\"dataframe\">\n",
              "  <thead>\n",
              "    <tr style=\"text-align: right;\">\n",
              "      <th></th>\n",
              "      <th>EventID</th>\n",
              "      <th>Season</th>\n",
              "      <th>DayNum</th>\n",
              "      <th>WTeamID</th>\n",
              "      <th>LTeamID</th>\n",
              "      <th>WFinalScore</th>\n",
              "      <th>LFinalScore</th>\n",
              "      <th>WCurrentScore</th>\n",
              "      <th>LCurrentScore</th>\n",
              "      <th>ElapsedSeconds</th>\n",
              "      <th>EventTeamID</th>\n",
              "      <th>EventPlayerID</th>\n",
              "      <th>EventType</th>\n",
              "      <th>EventSubType</th>\n",
              "    </tr>\n",
              "  </thead>\n",
              "  <tbody>\n",
              "    <tr>\n",
              "      <th>4</th>\n",
              "      <td>5</td>\n",
              "      <td>2015</td>\n",
              "      <td>11</td>\n",
              "      <td>1103</td>\n",
              "      <td>1420</td>\n",
              "      <td>74</td>\n",
              "      <td>57</td>\n",
              "      <td>2</td>\n",
              "      <td>2</td>\n",
              "      <td>59</td>\n",
              "      <td>1103</td>\n",
              "      <td>98</td>\n",
              "      <td>made2</td>\n",
              "      <td>jump</td>\n",
              "    </tr>\n",
              "    <tr>\n",
              "      <th>5</th>\n",
              "      <td>6</td>\n",
              "      <td>2015</td>\n",
              "      <td>11</td>\n",
              "      <td>1103</td>\n",
              "      <td>1420</td>\n",
              "      <td>74</td>\n",
              "      <td>57</td>\n",
              "      <td>2</td>\n",
              "      <td>2</td>\n",
              "      <td>72</td>\n",
              "      <td>1420</td>\n",
              "      <td>13747</td>\n",
              "      <td>turnover</td>\n",
              "      <td>unk</td>\n",
              "    </tr>\n",
              "    <tr>\n",
              "      <th>7</th>\n",
              "      <td>8</td>\n",
              "      <td>2015</td>\n",
              "      <td>11</td>\n",
              "      <td>1103</td>\n",
              "      <td>1420</td>\n",
              "      <td>74</td>\n",
              "      <td>57</td>\n",
              "      <td>2</td>\n",
              "      <td>2</td>\n",
              "      <td>75</td>\n",
              "      <td>1420</td>\n",
              "      <td>13770</td>\n",
              "      <td>foul</td>\n",
              "      <td>unk</td>\n",
              "    </tr>\n",
              "    <tr>\n",
              "      <th>8</th>\n",
              "      <td>9</td>\n",
              "      <td>2015</td>\n",
              "      <td>11</td>\n",
              "      <td>1103</td>\n",
              "      <td>1420</td>\n",
              "      <td>74</td>\n",
              "      <td>57</td>\n",
              "      <td>4</td>\n",
              "      <td>2</td>\n",
              "      <td>94</td>\n",
              "      <td>1103</td>\n",
              "      <td>104</td>\n",
              "      <td>made2</td>\n",
              "      <td>jump</td>\n",
              "    </tr>\n",
              "    <tr>\n",
              "      <th>9</th>\n",
              "      <td>10</td>\n",
              "      <td>2015</td>\n",
              "      <td>11</td>\n",
              "      <td>1103</td>\n",
              "      <td>1420</td>\n",
              "      <td>74</td>\n",
              "      <td>57</td>\n",
              "      <td>4</td>\n",
              "      <td>4</td>\n",
              "      <td>101</td>\n",
              "      <td>1420</td>\n",
              "      <td>13753</td>\n",
              "      <td>made2</td>\n",
              "      <td>lay</td>\n",
              "    </tr>\n",
              "    <tr>\n",
              "      <th>...</th>\n",
              "      <td>...</td>\n",
              "      <td>...</td>\n",
              "      <td>...</td>\n",
              "      <td>...</td>\n",
              "      <td>...</td>\n",
              "      <td>...</td>\n",
              "      <td>...</td>\n",
              "      <td>...</td>\n",
              "      <td>...</td>\n",
              "      <td>...</td>\n",
              "      <td>...</td>\n",
              "      <td>...</td>\n",
              "      <td>...</td>\n",
              "      <td>...</td>\n",
              "    </tr>\n",
              "    <tr>\n",
              "      <th>2708421</th>\n",
              "      <td>13154590</td>\n",
              "      <td>2019</td>\n",
              "      <td>154</td>\n",
              "      <td>1438</td>\n",
              "      <td>1403</td>\n",
              "      <td>85</td>\n",
              "      <td>77</td>\n",
              "      <td>9</td>\n",
              "      <td>3</td>\n",
              "      <td>424</td>\n",
              "      <td>1438</td>\n",
              "      <td>14505</td>\n",
              "      <td>sub</td>\n",
              "      <td>in</td>\n",
              "    </tr>\n",
              "    <tr>\n",
              "      <th>2708422</th>\n",
              "      <td>13154591</td>\n",
              "      <td>2019</td>\n",
              "      <td>154</td>\n",
              "      <td>1438</td>\n",
              "      <td>1403</td>\n",
              "      <td>85</td>\n",
              "      <td>77</td>\n",
              "      <td>9</td>\n",
              "      <td>3</td>\n",
              "      <td>424</td>\n",
              "      <td>1403</td>\n",
              "      <td>12983</td>\n",
              "      <td>sub</td>\n",
              "      <td>out</td>\n",
              "    </tr>\n",
              "    <tr>\n",
              "      <th>2708423</th>\n",
              "      <td>13154592</td>\n",
              "      <td>2019</td>\n",
              "      <td>154</td>\n",
              "      <td>1438</td>\n",
              "      <td>1403</td>\n",
              "      <td>85</td>\n",
              "      <td>77</td>\n",
              "      <td>9</td>\n",
              "      <td>3</td>\n",
              "      <td>424</td>\n",
              "      <td>1403</td>\n",
              "      <td>13004</td>\n",
              "      <td>sub</td>\n",
              "      <td>in</td>\n",
              "    </tr>\n",
              "    <tr>\n",
              "      <th>2708424</th>\n",
              "      <td>13154593</td>\n",
              "      <td>2019</td>\n",
              "      <td>154</td>\n",
              "      <td>1438</td>\n",
              "      <td>1403</td>\n",
              "      <td>85</td>\n",
              "      <td>77</td>\n",
              "      <td>9</td>\n",
              "      <td>3</td>\n",
              "      <td>424</td>\n",
              "      <td>1403</td>\n",
              "      <td>13007</td>\n",
              "      <td>sub</td>\n",
              "      <td>out</td>\n",
              "    </tr>\n",
              "    <tr>\n",
              "      <th>2708425</th>\n",
              "      <td>13154594</td>\n",
              "      <td>2019</td>\n",
              "      <td>154</td>\n",
              "      <td>1438</td>\n",
              "      <td>1403</td>\n",
              "      <td>85</td>\n",
              "      <td>77</td>\n",
              "      <td>9</td>\n",
              "      <td>3</td>\n",
              "      <td>424</td>\n",
              "      <td>1403</td>\n",
              "      <td>12980</td>\n",
              "      <td>sub</td>\n",
              "      <td>in</td>\n",
              "    </tr>\n",
              "  </tbody>\n",
              "</table>\n",
              "<p>9451653 rows × 14 columns</p>\n",
              "</div>"
            ],
            "text/plain": [
              "          EventID  Season  DayNum  ...  EventPlayerID  EventType  EventSubType\n",
              "4               5    2015      11  ...             98      made2          jump\n",
              "5               6    2015      11  ...          13747   turnover           unk\n",
              "7               8    2015      11  ...          13770       foul           unk\n",
              "8               9    2015      11  ...            104      made2          jump\n",
              "9              10    2015      11  ...          13753      made2           lay\n",
              "...           ...     ...     ...  ...            ...        ...           ...\n",
              "2708421  13154590    2019     154  ...          14505        sub            in\n",
              "2708422  13154591    2019     154  ...          12983        sub           out\n",
              "2708423  13154592    2019     154  ...          13004        sub            in\n",
              "2708424  13154593    2019     154  ...          13007        sub           out\n",
              "2708425  13154594    2019     154  ...          12980        sub            in\n",
              "\n",
              "[9451653 rows x 14 columns]"
            ]
          },
          "execution_count": 40,
          "metadata": {
            "tags": []
          },
          "output_type": "execute_result"
        }
      ],
      "source": [
        "#by observing the output there we need only made1,made2 and made3 where points will come for predictions\n",
        "#remove remaing data in it\n",
        "# datadup =datadup[(datadup['EventType'] !=\"foul\")]\n",
        "# datadup =datadup[(datadup['EventType'] !=\"jumpb\")]\n",
        "# datadup =datadup[(datadup['EventType'] !=\"miss1\")]\n",
        "# datadup =datadup[(datadup['EventType'] !=\"miss2\")]\n",
        "# datadup =datadup[(datadup['EventType'] !=\"miss3\")]\n",
        "# datadup =datadup[(datadup['EventType'] !=\"sub\")]\n",
        "# datadup =datadup[(datadup['EventType'] !=\"timeout\")]\n",
        "# datadup =datadup[(datadup['EventType'] !=\"turnover\")]\n",
        "datadup['EventType'].replace({'miss1': 'miss','miss2': 'miss','miss3': 'miss'},inplace = True)\n",
        "#reb event type data not usefull as checking in the data set there no effect on class label\n",
        "datadup =datadup[(datadup['EventType'] !=\"reb\")]\n",
        "datadup\n"
      ]
    },
    {
      "cell_type": "code",
      "execution_count": null,
      "metadata": {
        "colab": {
          "base_uri": "https://localhost:8080/"
        },
        "id": "ULaCkt7nSF_v",
        "outputId": "38e2e759-6db7-423b-f2b3-38d2933b9151"
      },
      "outputs": [
        {
          "data": {
            "text/plain": [
              "(9451653, 14)"
            ]
          },
          "execution_count": 41,
          "metadata": {
            "tags": []
          },
          "output_type": "execute_result"
        }
      ],
      "source": [
        "datadup.shape"
      ]
    },
    {
      "cell_type": "code",
      "execution_count": null,
      "metadata": {
        "colab": {
          "base_uri": "https://localhost:8080/"
        },
        "id": "w9mzPWYfRWu_",
        "outputId": "dc634b93-ef3b-497b-93ce-9bf73e13a736"
      },
      "outputs": [
        {
          "data": {
            "text/plain": [
              "(13154594, 14)"
            ]
          },
          "execution_count": 42,
          "metadata": {
            "tags": []
          },
          "output_type": "execute_result"
        }
      ],
      "source": [
        "data.shape"
      ]
    },
    {
      "cell_type": "code",
      "execution_count": null,
      "metadata": {
        "colab": {
          "base_uri": "https://localhost:8080/",
          "height": 282
        },
        "id": "ixAQSwcqTfFM",
        "outputId": "f3eb5969-b25f-4d98-bb86-d49f508ac75c"
      },
      "outputs": [
        {
          "data": {
            "text/plain": [
              "<matplotlib.axes._subplots.AxesSubplot at 0x7f47bae0b828>"
            ]
          },
          "execution_count": 55,
          "metadata": {
            "tags": []
          },
          "output_type": "execute_result"
        },
        {
          "data": {
            "image/png": "[encoded data removed]",
            "text/plain": [
              "<Figure size 432x288 with 1 Axes>"
            ]
          },
          "metadata": {
            "needs_background": "light",
            "tags": []
          },
          "output_type": "display_data"
        }
      ],
      "source": [
        "datadup['EventType'].hist()"
      ]
    },
    {
      "cell_type": "code",
      "execution_count": null,
      "metadata": {
        "colab": {
          "base_uri": "https://localhost:8080/"
        },
        "id": "ZR0rRN2DTj5Z",
        "outputId": "fbd96091-c70a-4334-8840-2e398cd675a8"
      },
      "outputs": [
        {
          "name": "stdout",
          "output_type": "stream",
          "text": [
            "<class 'pandas.core.frame.DataFrame'>\n",
            "Int64Index: 159057 entries, 2236 to 2706967\n",
            "Data columns (total 14 columns):\n",
            " #   Column          Non-Null Count   Dtype \n",
            "---  ------          --------------   ----- \n",
            " 0   EventID         159057 non-null  int64 \n",
            " 1   Season          159057 non-null  int64 \n",
            " 2   DayNum          159057 non-null  int64 \n",
            " 3   WTeamID         159057 non-null  int64 \n",
            " 4   LTeamID         159057 non-null  int64 \n",
            " 5   WFinalScore     159057 non-null  int64 \n",
            " 6   LFinalScore     159057 non-null  int64 \n",
            " 7   WCurrentScore   159057 non-null  int64 \n",
            " 8   LCurrentScore   159057 non-null  int64 \n",
            " 9   ElapsedSeconds  159057 non-null  int64 \n",
            " 10  EventTeamID     159057 non-null  int64 \n",
            " 11  EventPlayerID   159057 non-null  int64 \n",
            " 12  EventType       159057 non-null  object\n",
            " 13  EventSubType    159057 non-null  object\n",
            "dtypes: int64(12), object(2)\n",
            "memory usage: 18.2+ MB\n"
          ]
        }
      ],
      "source": [
        "datadup.info()"
      ]
    },
    {
      "cell_type": "code",
      "execution_count": null,
      "metadata": {
        "colab": {
          "base_uri": "https://localhost:8080/"
        },
        "id": "Mox2IDHuT4Vn",
        "outputId": "8f97b477-63ea-4734-ebd3-87f734eb7498"
      },
      "outputs": [
        {
          "data": {
            "text/plain": [
              "EventType\n",
              "foul        1003608\n",
              "jumpb          2352\n",
              "made1        768608\n",
              "made2        954388\n",
              "made3        387446\n",
              "miss        2000834\n",
              "sub         3323259\n",
              "timeout      338622\n",
              "turnover     672536\n",
              "dtype: int64"
            ]
          },
          "execution_count": 21,
          "metadata": {
            "tags": []
          },
          "output_type": "execute_result"
        }
      ],
      "source": [
        "datadup.groupby('EventType').size()"
      ]
    },
    {
      "cell_type": "code",
      "execution_count": null,
      "metadata": {
        "id": "kzPl419BU0Sc"
      },
      "outputs": [],
      "source": [
        "datadup.groupby('EventSubType').size()"
      ]
    },
    {
      "cell_type": "code",
      "execution_count": null,
      "metadata": {
        "id": "SVOUPxYZT7Pq"
      },
      "outputs": [],
      "source": [
        "#for preprossing to get better predictiong the string value is going to convert to integer so that the system will threat this coloum also as normal \n",
        "#comming to dataset we have to columns which are of object type contain strings \n",
        "#1)above EventType has 3 variables call made1,made2,made3\n",
        "    #remaing all types are removed because we need to calculate the points so made1 means gaining 1 point like that made2 means 2 points and made3 means 3 points\n",
        "#2)EventSubType  "
      ]
    },
    {
      "cell_type": "code",
      "execution_count": null,
      "metadata": {
        "colab": {
          "base_uri": "https://localhost:8080/"
        },
        "id": "a_kVF6VgjEr6",
        "outputId": "6950156a-8c1e-496b-807a-5e08b3b04fe7"
      },
      "outputs": [
        {
          "name": "stderr",
          "output_type": "stream",
          "text": [
            "/usr/local/lib/python3.6/dist-packages/pandas/core/series.py:4581: SettingWithCopyWarning: \n",
            "A value is trying to be set on a copy of a slice from a DataFrame\n",
            "\n",
            "See the caveats in the documentation: https://pandas.pydata.org/pandas-docs/stable/user_guide/indexing.html#returning-a-view-versus-a-copy\n",
            "  method=method,\n"
          ]
        },
        {
          "data": {
            "text/plain": [
              "Season\n",
              "1    1856115\n",
              "2    1916961\n",
              "3    1917637\n",
              "4    1873790\n",
              "5    1887150\n",
              "dtype: int64"
            ]
          },
          "execution_count": 45,
          "metadata": {
            "tags": []
          },
          "output_type": "execute_result"
        }
      ],
      "source": [
        "datadup['Season'].replace({2015: 1, 2016: 2,2017:3,2018:4,2019:5},inplace = True)\n",
        "datadup.groupby('Season').size()"
      ]
    },
    {
      "cell_type": "markdown",
      "metadata": {
        "id": "lcFyJA1LcTak"
      },
      "source": [
        "Like above Preprocess The predictions will not be good so doing in the another way "
      ]
    },
    {
      "cell_type": "code",
      "execution_count": null,
      "metadata": {
        "id": "quNVNqwQciMb"
      },
      "outputs": [],
      "source": [
        "#from above we are loosing so much of data due to event types and null values of the event type colums \n",
        "#so predictions are not good and data loss is more so going with another process of preprocessing tecqnique"
      ]
    },
    {
      "cell_type": "markdown",
      "metadata": {
        "id": "htZdfZxQc8jS"
      },
      "source": [
        "# ***2ND Type of preprocessing procedure***\n"
      ]
    },
    {
      "cell_type": "code",
      "execution_count": null,
      "metadata": {
        "id": "PGy4U8h7cTFj"
      },
      "outputs": [],
      "source": [
        "#Mainly in the data set there are two Class labels called WFinalScore and LFinalScore\n",
        "#comming to the class label there is so much of redundancy data like duplicated values as shown below"
      ]
    },
    {
      "cell_type": "code",
      "execution_count": null,
      "metadata": {
        "id": "8_5gp1RLepHV"
      },
      "outputs": [],
      "source": [
        "import pandas as pd\n",
        "import numpy as np\n",
        "import seaborn as sns\n",
        "import matplotlib.pyplot as plt\n",
        "import sklearn \n",
        "from matplotlib import rcParams\n",
        "from matplotlib.cm import rainbow\n",
        "%matplotlib inline"
      ]
    },
    {
      "cell_type": "code",
      "execution_count": null,
      "metadata": {
        "id": "cXItk-y2d87U"
      },
      "outputs": [],
      "source": [
        "Mevents2015=pd.read_csv(\"/content/drive/MyDrive/Colab Notebooks/MEvents2015.csv\")\n",
        "Mevents2016=pd.read_csv(\"/content/drive/MyDrive/Colab Notebooks/MEvents2016.csv\")\n",
        "Mevents2017=pd.read_csv(\"/content/drive/MyDrive/Colab Notebooks/MEvents2017.csv\")\n",
        "Mevents2018=pd.read_csv(\"/content/drive/MyDrive/Colab Notebooks/MEvents2018.csv\")\n",
        "Mevents2019=pd.read_csv(\"/content/drive/MyDrive/Colab Notebooks/MEvents2019.csv\")"
      ]
    },
    {
      "cell_type": "code",
      "execution_count": null,
      "metadata": {
        "colab": {
          "base_uri": "https://localhost:8080/",
          "height": 190
        },
        "id": "gQB5h2JJeDYO",
        "outputId": "9234a898-7b1e-4240-ee1d-a8646eced76c"
      },
      "outputs": [
        {
          "data": {
            "text/html": [
              "<div>\n",
              "<style scoped>\n",
              "    .dataframe tbody tr th:only-of-type {\n",
              "        vertical-align: middle;\n",
              "    }\n",
              "\n",
              "    .dataframe tbody tr th {\n",
              "        vertical-align: top;\n",
              "    }\n",
              "\n",
              "    .dataframe thead th {\n",
              "        text-align: right;\n",
              "    }\n",
              "</style>\n",
              "<table border=\"1\" class=\"dataframe\">\n",
              "  <thead>\n",
              "    <tr style=\"text-align: right;\">\n",
              "      <th></th>\n",
              "      <th>EventID</th>\n",
              "      <th>Season</th>\n",
              "      <th>DayNum</th>\n",
              "      <th>WTeamID</th>\n",
              "      <th>LTeamID</th>\n",
              "      <th>WFinalScore</th>\n",
              "      <th>LFinalScore</th>\n",
              "      <th>WCurrentScore</th>\n",
              "      <th>LCurrentScore</th>\n",
              "      <th>ElapsedSeconds</th>\n",
              "      <th>EventTeamID</th>\n",
              "      <th>EventPlayerID</th>\n",
              "      <th>EventType</th>\n",
              "      <th>EventSubType</th>\n",
              "      <th>X</th>\n",
              "      <th>Y</th>\n",
              "      <th>Area</th>\n",
              "    </tr>\n",
              "  </thead>\n",
              "  <tbody>\n",
              "    <tr>\n",
              "      <th>2708421</th>\n",
              "      <td>13154590</td>\n",
              "      <td>2019</td>\n",
              "      <td>154</td>\n",
              "      <td>1438</td>\n",
              "      <td>1403</td>\n",
              "      <td>85</td>\n",
              "      <td>77</td>\n",
              "      <td>9</td>\n",
              "      <td>3</td>\n",
              "      <td>424</td>\n",
              "      <td>1438</td>\n",
              "      <td>14505</td>\n",
              "      <td>sub</td>\n",
              "      <td>in</td>\n",
              "      <td>0</td>\n",
              "      <td>0</td>\n",
              "      <td>0</td>\n",
              "    </tr>\n",
              "    <tr>\n",
              "      <th>2708422</th>\n",
              "      <td>13154591</td>\n",
              "      <td>2019</td>\n",
              "      <td>154</td>\n",
              "      <td>1438</td>\n",
              "      <td>1403</td>\n",
              "      <td>85</td>\n",
              "      <td>77</td>\n",
              "      <td>9</td>\n",
              "      <td>3</td>\n",
              "      <td>424</td>\n",
              "      <td>1403</td>\n",
              "      <td>12983</td>\n",
              "      <td>sub</td>\n",
              "      <td>out</td>\n",
              "      <td>0</td>\n",
              "      <td>0</td>\n",
              "      <td>0</td>\n",
              "    </tr>\n",
              "    <tr>\n",
              "      <th>2708423</th>\n",
              "      <td>13154592</td>\n",
              "      <td>2019</td>\n",
              "      <td>154</td>\n",
              "      <td>1438</td>\n",
              "      <td>1403</td>\n",
              "      <td>85</td>\n",
              "      <td>77</td>\n",
              "      <td>9</td>\n",
              "      <td>3</td>\n",
              "      <td>424</td>\n",
              "      <td>1403</td>\n",
              "      <td>13004</td>\n",
              "      <td>sub</td>\n",
              "      <td>in</td>\n",
              "      <td>0</td>\n",
              "      <td>0</td>\n",
              "      <td>0</td>\n",
              "    </tr>\n",
              "    <tr>\n",
              "      <th>2708424</th>\n",
              "      <td>13154593</td>\n",
              "      <td>2019</td>\n",
              "      <td>154</td>\n",
              "      <td>1438</td>\n",
              "      <td>1403</td>\n",
              "      <td>85</td>\n",
              "      <td>77</td>\n",
              "      <td>9</td>\n",
              "      <td>3</td>\n",
              "      <td>424</td>\n",
              "      <td>1403</td>\n",
              "      <td>13007</td>\n",
              "      <td>sub</td>\n",
              "      <td>out</td>\n",
              "      <td>0</td>\n",
              "      <td>0</td>\n",
              "      <td>0</td>\n",
              "    </tr>\n",
              "    <tr>\n",
              "      <th>2708425</th>\n",
              "      <td>13154594</td>\n",
              "      <td>2019</td>\n",
              "      <td>154</td>\n",
              "      <td>1438</td>\n",
              "      <td>1403</td>\n",
              "      <td>85</td>\n",
              "      <td>77</td>\n",
              "      <td>9</td>\n",
              "      <td>3</td>\n",
              "      <td>424</td>\n",
              "      <td>1403</td>\n",
              "      <td>12980</td>\n",
              "      <td>sub</td>\n",
              "      <td>in</td>\n",
              "      <td>0</td>\n",
              "      <td>0</td>\n",
              "      <td>0</td>\n",
              "    </tr>\n",
              "  </tbody>\n",
              "</table>\n",
              "</div>"
            ],
            "text/plain": [
              "          EventID  Season  DayNum  WTeamID  ...  EventSubType  X  Y  Area\n",
              "2708421  13154590    2019     154     1438  ...            in  0  0     0\n",
              "2708422  13154591    2019     154     1438  ...           out  0  0     0\n",
              "2708423  13154592    2019     154     1438  ...            in  0  0     0\n",
              "2708424  13154593    2019     154     1438  ...           out  0  0     0\n",
              "2708425  13154594    2019     154     1438  ...            in  0  0     0\n",
              "\n",
              "[5 rows x 17 columns]"
            ]
          },
          "execution_count": 4,
          "metadata": {
            "tags": []
          },
          "output_type": "execute_result"
        }
      ],
      "source": [
        "data=pd.concat([Mevents2015,Mevents2016])\n",
        "#data.head(10) #two files merged\n",
        "#so concat all the csv file to do preprocess \n",
        "#every file is continution to another file as shown above\n",
        "data=pd.concat([data,Mevents2017])\n",
        "data=pd.concat([data,Mevents2018])\n",
        "data=pd.concat([data,Mevents2019])\n",
        "data.tail(5)"
      ]
    },
    {
      "cell_type": "code",
      "execution_count": null,
      "metadata": {
        "colab": {
          "base_uri": "https://localhost:8080/"
        },
        "id": "dQiTHCS_fDny",
        "outputId": "0d3e138e-e767-4833-d958-c44151a60ec3"
      },
      "outputs": [
        {
          "data": {
            "text/plain": [
              "(13154594, 17)"
            ]
          },
          "execution_count": 5,
          "metadata": {
            "tags": []
          },
          "output_type": "execute_result"
        }
      ],
      "source": [
        "data.shape"
      ]
    },
    {
      "cell_type": "code",
      "execution_count": null,
      "metadata": {
        "id": "J4GWBUl1g-jS"
      },
      "outputs": [],
      "source": [
        "datapro1=data"
      ]
    },
    {
      "cell_type": "code",
      "execution_count": null,
      "metadata": {
        "id": "LcIK_dTw_jzZ"
      },
      "outputs": [],
      "source": [
        "#@title dropping not useful columns from the data set { form-width: \"20%\" }\n",
        "#X.Y.Area columns are going to removed\n",
        "datapro1.drop([\"X\", \"Y\",\"Area\"], axis = 1, inplace = True)"
      ]
    },
    {
      "cell_type": "code",
      "execution_count": null,
      "metadata": {
        "colab": {
          "base_uri": "https://localhost:8080/"
        },
        "id": "KxUvr3AdgixE",
        "outputId": "bb0f8850-91ca-4498-85f1-9b64c270f0f4"
      },
      "outputs": [
        {
          "data": {
            "text/plain": [
              "EventID                 0\n",
              "Season                  0\n",
              "DayNum                  0\n",
              "WTeamID                 0\n",
              "LTeamID                 0\n",
              "WFinalScore             0\n",
              "LFinalScore             0\n",
              "WCurrentScore           0\n",
              "LCurrentScore           0\n",
              "ElapsedSeconds          0\n",
              "EventTeamID             0\n",
              "EventPlayerID           0\n",
              "EventType               0\n",
              "EventSubType      1325244\n",
              "dtype: int64"
            ]
          },
          "execution_count": 37,
          "metadata": {
            "tags": []
          },
          "output_type": "execute_result"
        }
      ],
      "source": [
        "#@title Removing NAN Values { form-width: \"20%\" }\n",
        "#Removing NAN values in the event type column checking howmany are there in the dataset with null values\n",
        "datapro1.isna().sum()\n",
        "#so there are 1324605 rows are removing"
      ]
    },
    {
      "cell_type": "code",
      "execution_count": null,
      "metadata": {
        "colab": {
          "base_uri": "https://localhost:8080/"
        },
        "id": "FMyGdVnggjsS",
        "outputId": "b8183a7e-404c-4e12-b4d5-cc49fe249745"
      },
      "outputs": [
        {
          "data": {
            "text/plain": [
              "EventID           0\n",
              "Season            0\n",
              "DayNum            0\n",
              "WTeamID           0\n",
              "LTeamID           0\n",
              "WFinalScore       0\n",
              "LFinalScore       0\n",
              "WCurrentScore     0\n",
              "LCurrentScore     0\n",
              "ElapsedSeconds    0\n",
              "EventTeamID       0\n",
              "EventPlayerID     0\n",
              "EventType         0\n",
              "EventSubType      0\n",
              "dtype: int64"
            ]
          },
          "execution_count": 38,
          "metadata": {
            "tags": []
          },
          "output_type": "execute_result"
        }
      ],
      "source": [
        "#Because it is a type of string and there is no class that we can predict the value of missing data so there is another when there is more data and after deleting also the prediction result doest effect anything\n",
        "datapro1=datapro1.dropna()\n",
        "# checking after removing the NA values from the column EventSubType\n",
        "datapro1.isna().sum()"
      ]
    },
    {
      "cell_type": "code",
      "execution_count": null,
      "metadata": {
        "id": "v0T483N878F-"
      },
      "outputs": [],
      "source": [
        "#removing 0's in the EventPlayerID because we cant predict the eventids\n",
        "datapro1=datapro1[datapro1['EventPlayerID']!=0]"
      ]
    },
    {
      "cell_type": "code",
      "execution_count": null,
      "metadata": {
        "colab": {
          "base_uri": "https://localhost:8080/",
          "height": 392
        },
        "id": "uSDV8rHjharu",
        "outputId": "40239a0d-4b90-471c-c9a4-911fe30bb8bc"
      },
      "outputs": [
        {
          "data": {
            "text/html": [
              "<div>\n",
              "<style scoped>\n",
              "    .dataframe tbody tr th:only-of-type {\n",
              "        vertical-align: middle;\n",
              "    }\n",
              "\n",
              "    .dataframe tbody tr th {\n",
              "        vertical-align: top;\n",
              "    }\n",
              "\n",
              "    .dataframe thead th {\n",
              "        text-align: right;\n",
              "    }\n",
              "</style>\n",
              "<table border=\"1\" class=\"dataframe\">\n",
              "  <thead>\n",
              "    <tr style=\"text-align: right;\">\n",
              "      <th></th>\n",
              "      <th>EventID</th>\n",
              "      <th>Season</th>\n",
              "      <th>DayNum</th>\n",
              "      <th>WTeamID</th>\n",
              "      <th>LTeamID</th>\n",
              "      <th>WFinalScore</th>\n",
              "      <th>LFinalScore</th>\n",
              "      <th>WCurrentScore</th>\n",
              "      <th>LCurrentScore</th>\n",
              "      <th>ElapsedSeconds</th>\n",
              "      <th>EventTeamID</th>\n",
              "      <th>EventPlayerID</th>\n",
              "      <th>EventType</th>\n",
              "      <th>EventSubType</th>\n",
              "    </tr>\n",
              "  </thead>\n",
              "  <tbody>\n",
              "    <tr>\n",
              "      <th>62265</th>\n",
              "      <td>2623485</td>\n",
              "      <td>2016</td>\n",
              "      <td>12</td>\n",
              "      <td>1139</td>\n",
              "      <td>1154</td>\n",
              "      <td>144</td>\n",
              "      <td>71</td>\n",
              "      <td>0</td>\n",
              "      <td>0</td>\n",
              "      <td>14</td>\n",
              "      <td>1139</td>\n",
              "      <td>1482</td>\n",
              "      <td>miss2</td>\n",
              "      <td>lay</td>\n",
              "    </tr>\n",
              "    <tr>\n",
              "      <th>62266</th>\n",
              "      <td>2623486</td>\n",
              "      <td>2016</td>\n",
              "      <td>12</td>\n",
              "      <td>1139</td>\n",
              "      <td>1154</td>\n",
              "      <td>144</td>\n",
              "      <td>71</td>\n",
              "      <td>0</td>\n",
              "      <td>0</td>\n",
              "      <td>14</td>\n",
              "      <td>1154</td>\n",
              "      <td>2091</td>\n",
              "      <td>reb</td>\n",
              "      <td>def</td>\n",
              "    </tr>\n",
              "    <tr>\n",
              "      <th>62267</th>\n",
              "      <td>2623487</td>\n",
              "      <td>2016</td>\n",
              "      <td>12</td>\n",
              "      <td>1139</td>\n",
              "      <td>1154</td>\n",
              "      <td>144</td>\n",
              "      <td>71</td>\n",
              "      <td>0</td>\n",
              "      <td>0</td>\n",
              "      <td>23</td>\n",
              "      <td>1154</td>\n",
              "      <td>2114</td>\n",
              "      <td>miss3</td>\n",
              "      <td>unk</td>\n",
              "    </tr>\n",
              "    <tr>\n",
              "      <th>62268</th>\n",
              "      <td>2623488</td>\n",
              "      <td>2016</td>\n",
              "      <td>12</td>\n",
              "      <td>1139</td>\n",
              "      <td>1154</td>\n",
              "      <td>144</td>\n",
              "      <td>71</td>\n",
              "      <td>0</td>\n",
              "      <td>0</td>\n",
              "      <td>23</td>\n",
              "      <td>1139</td>\n",
              "      <td>1495</td>\n",
              "      <td>reb</td>\n",
              "      <td>def</td>\n",
              "    </tr>\n",
              "    <tr>\n",
              "      <th>62269</th>\n",
              "      <td>2623489</td>\n",
              "      <td>2016</td>\n",
              "      <td>12</td>\n",
              "      <td>1139</td>\n",
              "      <td>1154</td>\n",
              "      <td>144</td>\n",
              "      <td>71</td>\n",
              "      <td>3</td>\n",
              "      <td>0</td>\n",
              "      <td>37</td>\n",
              "      <td>1139</td>\n",
              "      <td>1475</td>\n",
              "      <td>made3</td>\n",
              "      <td>unk</td>\n",
              "    </tr>\n",
              "    <tr>\n",
              "      <th>...</th>\n",
              "      <td>...</td>\n",
              "      <td>...</td>\n",
              "      <td>...</td>\n",
              "      <td>...</td>\n",
              "      <td>...</td>\n",
              "      <td>...</td>\n",
              "      <td>...</td>\n",
              "      <td>...</td>\n",
              "      <td>...</td>\n",
              "      <td>...</td>\n",
              "      <td>...</td>\n",
              "      <td>...</td>\n",
              "      <td>...</td>\n",
              "      <td>...</td>\n",
              "    </tr>\n",
              "    <tr>\n",
              "      <th>2492237</th>\n",
              "      <td>2492238</td>\n",
              "      <td>2015</td>\n",
              "      <td>132</td>\n",
              "      <td>1209</td>\n",
              "      <td>1204</td>\n",
              "      <td>38</td>\n",
              "      <td>36</td>\n",
              "      <td>37</td>\n",
              "      <td>36</td>\n",
              "      <td>2379</td>\n",
              "      <td>1209</td>\n",
              "      <td>4524</td>\n",
              "      <td>made1</td>\n",
              "      <td>unk</td>\n",
              "    </tr>\n",
              "    <tr>\n",
              "      <th>2492238</th>\n",
              "      <td>2492239</td>\n",
              "      <td>2015</td>\n",
              "      <td>132</td>\n",
              "      <td>1209</td>\n",
              "      <td>1204</td>\n",
              "      <td>38</td>\n",
              "      <td>36</td>\n",
              "      <td>38</td>\n",
              "      <td>36</td>\n",
              "      <td>2379</td>\n",
              "      <td>1209</td>\n",
              "      <td>4524</td>\n",
              "      <td>made1</td>\n",
              "      <td>unk</td>\n",
              "    </tr>\n",
              "    <tr>\n",
              "      <th>2492239</th>\n",
              "      <td>2492240</td>\n",
              "      <td>2015</td>\n",
              "      <td>132</td>\n",
              "      <td>1209</td>\n",
              "      <td>1204</td>\n",
              "      <td>38</td>\n",
              "      <td>36</td>\n",
              "      <td>38</td>\n",
              "      <td>36</td>\n",
              "      <td>2393</td>\n",
              "      <td>1204</td>\n",
              "      <td>4323</td>\n",
              "      <td>miss3</td>\n",
              "      <td>unk</td>\n",
              "    </tr>\n",
              "    <tr>\n",
              "      <th>2492240</th>\n",
              "      <td>2492241</td>\n",
              "      <td>2015</td>\n",
              "      <td>132</td>\n",
              "      <td>1209</td>\n",
              "      <td>1204</td>\n",
              "      <td>38</td>\n",
              "      <td>36</td>\n",
              "      <td>38</td>\n",
              "      <td>36</td>\n",
              "      <td>2393</td>\n",
              "      <td>1204</td>\n",
              "      <td>4314</td>\n",
              "      <td>reb</td>\n",
              "      <td>off</td>\n",
              "    </tr>\n",
              "    <tr>\n",
              "      <th>2492243</th>\n",
              "      <td>2492244</td>\n",
              "      <td>2015</td>\n",
              "      <td>132</td>\n",
              "      <td>1209</td>\n",
              "      <td>1204</td>\n",
              "      <td>38</td>\n",
              "      <td>36</td>\n",
              "      <td>38</td>\n",
              "      <td>36</td>\n",
              "      <td>2399</td>\n",
              "      <td>1204</td>\n",
              "      <td>4316</td>\n",
              "      <td>miss3</td>\n",
              "      <td>unk</td>\n",
              "    </tr>\n",
              "  </tbody>\n",
              "</table>\n",
              "<p>11078086 rows × 14 columns</p>\n",
              "</div>"
            ],
            "text/plain": [
              "         EventID  Season  DayNum  ...  EventPlayerID  EventType  EventSubType\n",
              "62265    2623485    2016      12  ...           1482      miss2           lay\n",
              "62266    2623486    2016      12  ...           2091        reb           def\n",
              "62267    2623487    2016      12  ...           2114      miss3           unk\n",
              "62268    2623488    2016      12  ...           1495        reb           def\n",
              "62269    2623489    2016      12  ...           1475      made3           unk\n",
              "...          ...     ...     ...  ...            ...        ...           ...\n",
              "2492237  2492238    2015     132  ...           4524      made1           unk\n",
              "2492238  2492239    2015     132  ...           4524      made1           unk\n",
              "2492239  2492240    2015     132  ...           4323      miss3           unk\n",
              "2492240  2492241    2015     132  ...           4314        reb           off\n",
              "2492243  2492244    2015     132  ...           4316      miss3           unk\n",
              "\n",
              "[11078086 rows x 14 columns]"
            ]
          },
          "execution_count": 40,
          "metadata": {
            "tags": []
          },
          "output_type": "execute_result"
        }
      ],
      "source": [
        "datapro1.sort_values([\"WFinalScore\", \"LFinalScore\"], ascending = (False, True))"
      ]
    },
    {
      "cell_type": "code",
      "execution_count": null,
      "metadata": {
        "id": "6U8K0afIrw5J"
      },
      "outputs": [],
      "source": [
        "final_data = datapro1.drop_duplicates(subset={\"WTeamID\",\"LTeamID\"})"
      ]
    },
    {
      "cell_type": "code",
      "execution_count": null,
      "metadata": {
        "colab": {
          "base_uri": "https://localhost:8080/",
          "height": 392
        },
        "id": "6a-UDwNysbRq",
        "outputId": "a11330fe-2d37-4daa-9771-d96779211ba2"
      },
      "outputs": [
        {
          "data": {
            "text/html": [
              "<div>\n",
              "<style scoped>\n",
              "    .dataframe tbody tr th:only-of-type {\n",
              "        vertical-align: middle;\n",
              "    }\n",
              "\n",
              "    .dataframe tbody tr th {\n",
              "        vertical-align: top;\n",
              "    }\n",
              "\n",
              "    .dataframe thead th {\n",
              "        text-align: right;\n",
              "    }\n",
              "</style>\n",
              "<table border=\"1\" class=\"dataframe\">\n",
              "  <thead>\n",
              "    <tr style=\"text-align: right;\">\n",
              "      <th></th>\n",
              "      <th>EventID</th>\n",
              "      <th>Season</th>\n",
              "      <th>DayNum</th>\n",
              "      <th>WTeamID</th>\n",
              "      <th>LTeamID</th>\n",
              "      <th>WFinalScore</th>\n",
              "      <th>LFinalScore</th>\n",
              "      <th>WCurrentScore</th>\n",
              "      <th>LCurrentScore</th>\n",
              "      <th>ElapsedSeconds</th>\n",
              "      <th>EventTeamID</th>\n",
              "      <th>EventPlayerID</th>\n",
              "      <th>EventType</th>\n",
              "      <th>EventSubType</th>\n",
              "    </tr>\n",
              "  </thead>\n",
              "  <tbody>\n",
              "    <tr>\n",
              "      <th>0</th>\n",
              "      <td>1</td>\n",
              "      <td>2015</td>\n",
              "      <td>11</td>\n",
              "      <td>1103</td>\n",
              "      <td>1420</td>\n",
              "      <td>74</td>\n",
              "      <td>57</td>\n",
              "      <td>0</td>\n",
              "      <td>0</td>\n",
              "      <td>19</td>\n",
              "      <td>1103</td>\n",
              "      <td>112</td>\n",
              "      <td>miss3</td>\n",
              "      <td>unk</td>\n",
              "    </tr>\n",
              "    <tr>\n",
              "      <th>488</th>\n",
              "      <td>489</td>\n",
              "      <td>2015</td>\n",
              "      <td>11</td>\n",
              "      <td>1104</td>\n",
              "      <td>1406</td>\n",
              "      <td>82</td>\n",
              "      <td>54</td>\n",
              "      <td>0</td>\n",
              "      <td>0</td>\n",
              "      <td>4</td>\n",
              "      <td>1406</td>\n",
              "      <td>13121</td>\n",
              "      <td>miss2</td>\n",
              "      <td>lay</td>\n",
              "    </tr>\n",
              "    <tr>\n",
              "      <th>992</th>\n",
              "      <td>993</td>\n",
              "      <td>2015</td>\n",
              "      <td>11</td>\n",
              "      <td>1112</td>\n",
              "      <td>1291</td>\n",
              "      <td>78</td>\n",
              "      <td>55</td>\n",
              "      <td>3</td>\n",
              "      <td>0</td>\n",
              "      <td>18</td>\n",
              "      <td>1112</td>\n",
              "      <td>506</td>\n",
              "      <td>made3</td>\n",
              "      <td>unk</td>\n",
              "    </tr>\n",
              "    <tr>\n",
              "      <th>1480</th>\n",
              "      <td>1481</td>\n",
              "      <td>2015</td>\n",
              "      <td>11</td>\n",
              "      <td>1113</td>\n",
              "      <td>1152</td>\n",
              "      <td>86</td>\n",
              "      <td>50</td>\n",
              "      <td>0</td>\n",
              "      <td>0</td>\n",
              "      <td>30</td>\n",
              "      <td>1113</td>\n",
              "      <td>511</td>\n",
              "      <td>miss3</td>\n",
              "      <td>unk</td>\n",
              "    </tr>\n",
              "    <tr>\n",
              "      <th>1966</th>\n",
              "      <td>1967</td>\n",
              "      <td>2015</td>\n",
              "      <td>11</td>\n",
              "      <td>1119</td>\n",
              "      <td>1102</td>\n",
              "      <td>84</td>\n",
              "      <td>78</td>\n",
              "      <td>3</td>\n",
              "      <td>0</td>\n",
              "      <td>16</td>\n",
              "      <td>1119</td>\n",
              "      <td>787</td>\n",
              "      <td>made3</td>\n",
              "      <td>unk</td>\n",
              "    </tr>\n",
              "    <tr>\n",
              "      <th>...</th>\n",
              "      <td>...</td>\n",
              "      <td>...</td>\n",
              "      <td>...</td>\n",
              "      <td>...</td>\n",
              "      <td>...</td>\n",
              "      <td>...</td>\n",
              "      <td>...</td>\n",
              "      <td>...</td>\n",
              "      <td>...</td>\n",
              "      <td>...</td>\n",
              "      <td>...</td>\n",
              "      <td>...</td>\n",
              "      <td>...</td>\n",
              "      <td>...</td>\n",
              "    </tr>\n",
              "    <tr>\n",
              "      <th>2704928</th>\n",
              "      <td>13151097</td>\n",
              "      <td>2019</td>\n",
              "      <td>149</td>\n",
              "      <td>1177</td>\n",
              "      <td>1378</td>\n",
              "      <td>100</td>\n",
              "      <td>96</td>\n",
              "      <td>0</td>\n",
              "      <td>0</td>\n",
              "      <td>38</td>\n",
              "      <td>1177</td>\n",
              "      <td>3112</td>\n",
              "      <td>miss2</td>\n",
              "      <td>lay</td>\n",
              "    </tr>\n",
              "    <tr>\n",
              "      <th>2705470</th>\n",
              "      <td>13151639</td>\n",
              "      <td>2019</td>\n",
              "      <td>150</td>\n",
              "      <td>1267</td>\n",
              "      <td>1453</td>\n",
              "      <td>90</td>\n",
              "      <td>70</td>\n",
              "      <td>0</td>\n",
              "      <td>0</td>\n",
              "      <td>13</td>\n",
              "      <td>1453</td>\n",
              "      <td>15035</td>\n",
              "      <td>miss2</td>\n",
              "      <td>jump</td>\n",
              "    </tr>\n",
              "    <tr>\n",
              "      <th>2707073</th>\n",
              "      <td>13153242</td>\n",
              "      <td>2019</td>\n",
              "      <td>152</td>\n",
              "      <td>1403</td>\n",
              "      <td>1277</td>\n",
              "      <td>61</td>\n",
              "      <td>51</td>\n",
              "      <td>8</td>\n",
              "      <td>8</td>\n",
              "      <td>367</td>\n",
              "      <td>1277</td>\n",
              "      <td>7508</td>\n",
              "      <td>sub</td>\n",
              "      <td>out</td>\n",
              "    </tr>\n",
              "    <tr>\n",
              "      <th>2707519</th>\n",
              "      <td>13153688</td>\n",
              "      <td>2019</td>\n",
              "      <td>152</td>\n",
              "      <td>1438</td>\n",
              "      <td>1120</td>\n",
              "      <td>63</td>\n",
              "      <td>62</td>\n",
              "      <td>10</td>\n",
              "      <td>13</td>\n",
              "      <td>472</td>\n",
              "      <td>1438</td>\n",
              "      <td>14480</td>\n",
              "      <td>miss2</td>\n",
              "      <td>jump</td>\n",
              "    </tr>\n",
              "    <tr>\n",
              "      <th>2707920</th>\n",
              "      <td>13154089</td>\n",
              "      <td>2019</td>\n",
              "      <td>154</td>\n",
              "      <td>1438</td>\n",
              "      <td>1403</td>\n",
              "      <td>85</td>\n",
              "      <td>77</td>\n",
              "      <td>0</td>\n",
              "      <td>0</td>\n",
              "      <td>64</td>\n",
              "      <td>1403</td>\n",
              "      <td>13007</td>\n",
              "      <td>reb</td>\n",
              "      <td>def</td>\n",
              "    </tr>\n",
              "  </tbody>\n",
              "</table>\n",
              "<p>12139 rows × 14 columns</p>\n",
              "</div>"
            ],
            "text/plain": [
              "          EventID  Season  DayNum  ...  EventPlayerID  EventType  EventSubType\n",
              "0               1    2015      11  ...            112      miss3           unk\n",
              "488           489    2015      11  ...          13121      miss2           lay\n",
              "992           993    2015      11  ...            506      made3           unk\n",
              "1480         1481    2015      11  ...            511      miss3           unk\n",
              "1966         1967    2015      11  ...            787      made3           unk\n",
              "...           ...     ...     ...  ...            ...        ...           ...\n",
              "2704928  13151097    2019     149  ...           3112      miss2           lay\n",
              "2705470  13151639    2019     150  ...          15035      miss2          jump\n",
              "2707073  13153242    2019     152  ...           7508        sub           out\n",
              "2707519  13153688    2019     152  ...          14480      miss2          jump\n",
              "2707920  13154089    2019     154  ...          13007        reb           def\n",
              "\n",
              "[12139 rows x 14 columns]"
            ]
          },
          "execution_count": 42,
          "metadata": {
            "tags": []
          },
          "output_type": "execute_result"
        }
      ],
      "source": [
        "final_data"
      ]
    },
    {
      "cell_type": "code",
      "execution_count": null,
      "metadata": {
        "colab": {
          "base_uri": "https://localhost:8080/"
        },
        "id": "93vVi9yOseuu",
        "outputId": "54ef5756-7151-497d-f8c1-68a3c40852c9"
      },
      "outputs": [
        {
          "data": {
            "text/plain": [
              "(11078086, 14)"
            ]
          },
          "execution_count": 14,
          "metadata": {
            "tags": []
          },
          "output_type": "execute_result"
        }
      ],
      "source": [
        "datapro1.shape"
      ]
    },
    {
      "cell_type": "code",
      "execution_count": null,
      "metadata": {
        "colab": {
          "base_uri": "https://localhost:8080/"
        },
        "id": "dV-7b6DKDWRE",
        "outputId": "653326b6-91ab-4970-a97d-77b0302e6402"
      },
      "outputs": [
        {
          "data": {
            "text/plain": [
              "(12139, 14)"
            ]
          },
          "execution_count": 15,
          "metadata": {
            "tags": []
          },
          "output_type": "execute_result"
        }
      ],
      "source": [
        "final_data.shape"
      ]
    },
    {
      "cell_type": "code",
      "execution_count": null,
      "metadata": {
        "id": "yynLbhVTtAxz"
      },
      "outputs": [],
      "source": [
        "#here by seeing above data reduction just i removed duplicates of data and it is reduced to 100lakh data to 10k  rows of data \n",
        "#lets check for more pre process tecqnique for better process\n",
        "#here there is no need of current scores \n",
        "#Event player id also no need because duplicate rows are removed so the data of player id also lost\n",
        "#Event Team Id also no need so i am gonna remove that also\n"
      ]
    },
    {
      "cell_type": "code",
      "execution_count": null,
      "metadata": {
        "colab": {
          "base_uri": "https://localhost:8080/"
        },
        "id": "lGk8YrG9xKMq",
        "outputId": "2641e66c-108e-48b1-efc0-4cdb1955e431"
      },
      "outputs": [
        {
          "name": "stdout",
          "output_type": "stream",
          "text": [
            "<class 'pandas.core.frame.DataFrame'>\n",
            "Int64Index: 12139 entries, 0 to 2707920\n",
            "Data columns (total 14 columns):\n",
            " #   Column          Non-Null Count  Dtype \n",
            "---  ------          --------------  ----- \n",
            " 0   EventID         12139 non-null  int64 \n",
            " 1   Season          12139 non-null  int64 \n",
            " 2   DayNum          12139 non-null  int64 \n",
            " 3   WTeamID         12139 non-null  int64 \n",
            " 4   LTeamID         12139 non-null  int64 \n",
            " 5   WFinalScore     12139 non-null  int64 \n",
            " 6   LFinalScore     12139 non-null  int64 \n",
            " 7   WCurrentScore   12139 non-null  int64 \n",
            " 8   LCurrentScore   12139 non-null  int64 \n",
            " 9   ElapsedSeconds  12139 non-null  int64 \n",
            " 10  EventTeamID     12139 non-null  int64 \n",
            " 11  EventPlayerID   12139 non-null  int64 \n",
            " 12  EventType       12139 non-null  object\n",
            " 13  EventSubType    12139 non-null  object\n",
            "dtypes: int64(12), object(2)\n",
            "memory usage: 1.4+ MB\n"
          ]
        }
      ],
      "source": [
        "final_data.info()"
      ]
    },
    {
      "cell_type": "code",
      "execution_count": null,
      "metadata": {
        "colab": {
          "base_uri": "https://localhost:8080/"
        },
        "id": "6fmv2LCztZ_r",
        "outputId": "e1e427b5-60af-48bb-cc83-5e30818a3eaa"
      },
      "outputs": [
        {
          "name": "stderr",
          "output_type": "stream",
          "text": [
            "/usr/local/lib/python3.6/dist-packages/pandas/core/frame.py:4174: SettingWithCopyWarning: \n",
            "A value is trying to be set on a copy of a slice from a DataFrame\n",
            "\n",
            "See the caveats in the documentation: https://pandas.pydata.org/pandas-docs/stable/user_guide/indexing.html#returning-a-view-versus-a-copy\n",
            "  errors=errors,\n"
          ]
        }
      ],
      "source": [
        "final_data.drop([\"EventSubType\",\"WCurrentScore\",\"LCurrentScore\",\"EventID\"], axis = 1, inplace = True)"
      ]
    },
    {
      "cell_type": "code",
      "execution_count": null,
      "metadata": {
        "colab": {
          "base_uri": "https://localhost:8080/"
        },
        "id": "Hp7Tgxopy5es",
        "outputId": "e29854ad-c360-4202-cfa8-21dd5e44d7e1"
      },
      "outputs": [
        {
          "name": "stdout",
          "output_type": "stream",
          "text": [
            "<class 'pandas.core.frame.DataFrame'>\n",
            "Int64Index: 12139 entries, 0 to 2707920\n",
            "Data columns (total 10 columns):\n",
            " #   Column          Non-Null Count  Dtype \n",
            "---  ------          --------------  ----- \n",
            " 0   Season          12139 non-null  int64 \n",
            " 1   DayNum          12139 non-null  int64 \n",
            " 2   WTeamID         12139 non-null  int64 \n",
            " 3   LTeamID         12139 non-null  int64 \n",
            " 4   WFinalScore     12139 non-null  int64 \n",
            " 5   LFinalScore     12139 non-null  int64 \n",
            " 6   ElapsedSeconds  12139 non-null  int64 \n",
            " 7   EventTeamID     12139 non-null  int64 \n",
            " 8   EventPlayerID   12139 non-null  int64 \n",
            " 9   EventType       12139 non-null  object\n",
            "dtypes: int64(9), object(1)\n",
            "memory usage: 1.0+ MB\n"
          ]
        },
        {
          "name": "stderr",
          "output_type": "stream",
          "text": [
            "/usr/local/lib/python3.6/dist-packages/pandas/core/frame.py:4174: SettingWithCopyWarning: \n",
            "A value is trying to be set on a copy of a slice from a DataFrame\n",
            "\n",
            "See the caveats in the documentation: https://pandas.pydata.org/pandas-docs/stable/user_guide/indexing.html#returning-a-view-versus-a-copy\n",
            "  errors=errors,\n"
          ]
        }
      ],
      "source": [
        "final_data.info()"
      ]
    },
    {
      "cell_type": "code",
      "execution_count": null,
      "metadata": {
        "colab": {
          "base_uri": "https://localhost:8080/",
          "height": 284
        },
        "id": "x7r-CnUk972B",
        "outputId": "1609e6da-9e4b-4123-8616-46864a886b8a"
      },
      "outputs": [
        {
          "data": {
            "image/png": "[encoded data removed]",
            "text/plain": [
              "<Figure size 432x288 with 1 Axes>"
            ]
          },
          "metadata": {
            "tags": []
          },
          "output_type": "display_data"
        }
      ],
      "source": [
        "import seaborn as sns\n",
        "sns.set_theme(style=\"whitegrid\")\n",
        "ax = sns.boxplot(x=final_data[\"WFinalScore\"])"
      ]
    },
    {
      "cell_type": "code",
      "execution_count": null,
      "metadata": {
        "id": "rwo0QkIq-Pu5"
      },
      "outputs": [],
      "source": [
        "# removing Outliers\n",
        "final_data=final_data[final_data['WFinalScore']>47]\n",
        "final_data=final_data[ final_data['WFinalScore']<105]"
      ]
    },
    {
      "cell_type": "code",
      "execution_count": null,
      "metadata": {
        "colab": {
          "base_uri": "https://localhost:8080/",
          "height": 284
        },
        "id": "VNxkCc9D--Rv",
        "outputId": "4f746bc0-abdf-4fa8-beea-d62f2d84226e"
      },
      "outputs": [
        {
          "data": {
            "image/png": "[encoded data removed]",
            "text/plain": [
              "<Figure size 432x288 with 1 Axes>"
            ]
          },
          "metadata": {
            "tags": []
          },
          "output_type": "display_data"
        }
      ],
      "source": [
        "ax = sns.boxplot(x=final_data[\"WFinalScore\"])"
      ]
    },
    {
      "cell_type": "code",
      "execution_count": null,
      "metadata": {
        "colab": {
          "base_uri": "https://localhost:8080/",
          "height": 284
        },
        "id": "5efsFD5J972D",
        "outputId": "d29aa4a0-9104-4ad2-e3ef-0af1e0d2551c"
      },
      "outputs": [
        {
          "data": {
            "image/png": "[encoded data removed]",
            "text/plain": [
              "<Figure size 432x288 with 1 Axes>"
            ]
          },
          "metadata": {
            "tags": []
          },
          "output_type": "display_data"
        }
      ],
      "source": [
        "ax = sns.boxplot(x=final_data[\"LFinalScore\"])"
      ]
    },
    {
      "cell_type": "code",
      "execution_count": null,
      "metadata": {
        "colab": {
          "base_uri": "https://localhost:8080/",
          "height": 284
        },
        "id": "Qw08Ncps_JvX",
        "outputId": "b18c102d-69c9-4ec2-dab3-39b295041b11"
      },
      "outputs": [
        {
          "data": {
            "image/png": "[encoded data removed]",
            "text/plain": [
              "<Figure size 432x288 with 1 Axes>"
            ]
          },
          "metadata": {
            "tags": []
          },
          "output_type": "display_data"
        }
      ],
      "source": [
        "# removing Outliers\n",
        "final_data=final_data[final_data['LFinalScore']>36]\n",
        "final_data=final_data[ final_data['LFinalScore']<92]\n",
        "ax = sns.boxplot(x=final_data[\"LFinalScore\"])"
      ]
    },
    {
      "cell_type": "code",
      "execution_count": null,
      "metadata": {
        "colab": {
          "base_uri": "https://localhost:8080/"
        },
        "id": "JZysWAJUH3Ew",
        "outputId": "cf561bf3-0d30-44eb-8d14-a5a11755a5bb"
      },
      "outputs": [
        {
          "data": {
            "text/plain": [
              "Season\n",
              "2015    4368\n",
              "2016    2360\n",
              "2017    1848\n",
              "2018    1663\n",
              "2019    1558\n",
              "dtype: int64"
            ]
          },
          "execution_count": 49,
          "metadata": {
            "tags": []
          },
          "output_type": "execute_result"
        }
      ],
      "source": [
        "final_data.groupby('Season').size()"
      ]
    },
    {
      "cell_type": "code",
      "execution_count": null,
      "metadata": {
        "colab": {
          "base_uri": "https://localhost:8080/"
        },
        "id": "SkYD9EYgHwYj",
        "outputId": "72a2b48a-4252-4463-d9ad-ff8f8b9fd54a"
      },
      "outputs": [
        {
          "data": {
            "text/plain": [
              "Season\n",
              "1    4368\n",
              "2    2360\n",
              "3    1848\n",
              "4    1663\n",
              "5    1558\n",
              "dtype: int64"
            ]
          },
          "execution_count": 50,
          "metadata": {
            "tags": []
          },
          "output_type": "execute_result"
        }
      ],
      "source": [
        "#@title rescaling the data for better predictions { form-width: \"20%\" }\n",
        "final_data['Season'].replace({2015: 1, 2016: 2,2017:3,2018:4,2019:5},inplace = True)\n",
        "final_data.groupby('Season').size()"
      ]
    },
    {
      "cell_type": "markdown",
      "metadata": {
        "id": "mYIo3WOAzDip"
      },
      "source": [
        "# ***ML Algorithims***"
      ]
    },
    {
      "cell_type": "markdown",
      "metadata": {
        "id": "QITbfg3VzgHh"
      },
      "source": [
        "# 1.Linear Regression"
      ]
    },
    {
      "cell_type": "code",
      "execution_count": null,
      "metadata": {
        "id": "pj1gPyk6zedm"
      },
      "outputs": [],
      "source": [
        "from sklearn.model_selection import train_test_split\n",
        "from sklearn.linear_model import LinearRegression\n",
        "import matplotlib.pyplot as plt\n",
        "from sklearn.metrics import accuracy_score"
      ]
    },
    {
      "cell_type": "code",
      "execution_count": null,
      "metadata": {
        "colab": {
          "base_uri": "https://localhost:8080/"
        },
        "id": "4Ku1RYSIEYkg",
        "outputId": "d41b3da8-c58a-44e4-c040-d1dfccd6d73a"
      },
      "outputs": [
        {
          "data": {
            "text/plain": [
              "(11797, 10)"
            ]
          },
          "execution_count": 52,
          "metadata": {
            "tags": []
          },
          "output_type": "execute_result"
        }
      ],
      "source": [
        "dataml1=final_data\n",
        "dataml1.shape"
      ]
    },
    {
      "cell_type": "code",
      "execution_count": null,
      "metadata": {
        "colab": {
          "base_uri": "https://localhost:8080/"
        },
        "id": "p3MtnewiEYkj",
        "outputId": "05f239d6-0e46-442d-bf78-90f6c74d3eab"
      },
      "outputs": [
        {
          "data": {
            "text/plain": [
              "Index(['Season', 'DayNum', 'WTeamID', 'LTeamID', 'WFinalScore', 'LFinalScore',\n",
              "       'ElapsedSeconds', 'EventTeamID', 'EventPlayerID', 'EventType'],\n",
              "      dtype='object')"
            ]
          },
          "execution_count": 53,
          "metadata": {
            "tags": []
          },
          "output_type": "execute_result"
        }
      ],
      "source": [
        "final_data.columns"
      ]
    },
    {
      "cell_type": "code",
      "execution_count": null,
      "metadata": {
        "id": "vNsb49RcEYkj"
      },
      "outputs": [],
      "source": [
        "#@title dividing Data for WFinal Score { form-width: \"20%\" }\n",
        "dataw_y1=final_data[['WFinalScore']]\n",
        "dataw_x1=final_data[['Season','DayNum','WTeamID','LTeamID','ElapsedSeconds','EventPlayerID']]"
      ]
    },
    {
      "cell_type": "code",
      "execution_count": null,
      "metadata": {
        "colab": {
          "base_uri": "https://localhost:8080/"
        },
        "id": "VVg4nHJsEYkk",
        "outputId": "05c6fbf8-7d7b-4832-ea7e-848d39101d0a"
      },
      "outputs": [
        {
          "name": "stdout",
          "output_type": "stream",
          "text": [
            "         Season  DayNum  WTeamID  LTeamID  ElapsedSeconds  EventPlayerID\n",
            "2671000       5     137     1332     1458              36          15271\n",
            "799185        1      48     1209     1379              25          11918\n",
            "390917        1      25     1458     1328              16          15250\n",
            "232284        4      19     1403     1130              23          12987\n",
            "2610967       3     138     1196     1438              14           3950\n",
            "...         ...     ...      ...      ...             ...            ...\n",
            "287800        2      21     1451     1141              18           1586\n",
            "1629108       1      89     1313     1214              16           9063\n",
            "920361        4      53     1305     1356              26          10875\n",
            "398112        5      18     1296     1331              20           9790\n",
            "1348947       1      75     1453     1178              27           3151\n",
            "\n",
            "[9437 rows x 6 columns]\n",
            "         Season  DayNum  WTeamID  LTeamID  ElapsedSeconds  EventPlayerID\n",
            "434096        5      19     1317     1389              18          12381\n",
            "796366        1      48     1136     1176              16           1354\n",
            "293445        3      22     1102     1391              12             57\n",
            "1046800       1      62     1442     1303              30          14661\n",
            "134704        2      15     1303     1282              25           8625\n",
            "...         ...     ...      ...      ...             ...            ...\n",
            "592539        3      33     1422     1251              14          13849\n",
            "2601815       3     136     1458     1439              16          14542\n",
            "688191        5      33     1160     1227             406           2349\n",
            "1391792       1      79     1296     1103              25           8320\n",
            "1644283       1      89     1384     1192              17          12154\n",
            "\n",
            "[2360 rows x 6 columns]\n",
            "         WFinalScore\n",
            "2671000           72\n",
            "799185            68\n",
            "390917            69\n",
            "232284            75\n",
            "2610967           65\n",
            "...              ...\n",
            "287800            63\n",
            "1629108           63\n",
            "920361            86\n",
            "398112            87\n",
            "1348947           70\n",
            "\n",
            "[9437 rows x 1 columns]\n",
            "         WFinalScore\n",
            "434096            75\n",
            "796366            48\n",
            "293445            85\n",
            "1046800           80\n",
            "134704            95\n",
            "...              ...\n",
            "592539            72\n",
            "2601815           84\n",
            "688191            84\n",
            "1391792           64\n",
            "1644283           68\n",
            "\n",
            "[2360 rows x 1 columns]\n"
          ]
        }
      ],
      "source": [
        "x_wtrain,x_wtest,y_wtrain,y_wtest=train_test_split(dataw_x1,dataw_y1,test_size=0.2,random_state=0)\n",
        "print(x_wtrain)\n",
        "print(x_wtest)\n",
        "print(y_wtrain)\n",
        "print(y_wtest)"
      ]
    },
    {
      "cell_type": "code",
      "execution_count": null,
      "metadata": {
        "id": "gwkMkI1SEYkk"
      },
      "outputs": [],
      "source": [
        "#@title dividing Data for LFinal Score { form-width: \"20%\" }\n",
        "datal_y1=final_data[['LFinalScore']]\n",
        "datal_x1=final_data[['Season','DayNum','WTeamID','LTeamID','ElapsedSeconds']]"
      ]
    },
    {
      "cell_type": "code",
      "execution_count": null,
      "metadata": {
        "colab": {
          "base_uri": "https://localhost:8080/"
        },
        "id": "yCIjHtHYEYkl",
        "outputId": "92865266-f14b-4430-ec19-c266dbd03423"
      },
      "outputs": [
        {
          "name": "stdout",
          "output_type": "stream",
          "text": [
            "         Season  DayNum  WTeamID  LTeamID  ElapsedSeconds\n",
            "2671000       5     137     1332     1458              36\n",
            "799185        1      48     1209     1379              25\n",
            "390917        1      25     1458     1328              16\n",
            "232284        4      19     1403     1130              23\n",
            "2610967       3     138     1196     1438              14\n",
            "...         ...     ...      ...      ...             ...\n",
            "287800        2      21     1451     1141              18\n",
            "1629108       1      89     1313     1214              16\n",
            "920361        4      53     1305     1356              26\n",
            "398112        5      18     1296     1331              20\n",
            "1348947       1      75     1453     1178              27\n",
            "\n",
            "[9437 rows x 5 columns]\n",
            "         Season  DayNum  WTeamID  LTeamID  ElapsedSeconds\n",
            "434096        5      19     1317     1389              18\n",
            "796366        1      48     1136     1176              16\n",
            "293445        3      22     1102     1391              12\n",
            "1046800       1      62     1442     1303              30\n",
            "134704        2      15     1303     1282              25\n",
            "...         ...     ...      ...      ...             ...\n",
            "592539        3      33     1422     1251              14\n",
            "2601815       3     136     1458     1439              16\n",
            "688191        5      33     1160     1227             406\n",
            "1391792       1      79     1296     1103              25\n",
            "1644283       1      89     1384     1192              17\n",
            "\n",
            "[2360 rows x 5 columns]\n",
            "         LFinalScore\n",
            "2671000           54\n",
            "799185            55\n",
            "390917            56\n",
            "232284            64\n",
            "2610967           39\n",
            "...              ...\n",
            "287800            60\n",
            "1629108           60\n",
            "920361            64\n",
            "398112            66\n",
            "1348947           64\n",
            "\n",
            "[9437 rows x 1 columns]\n",
            "         LFinalScore\n",
            "434096            66\n",
            "796366            46\n",
            "293445            72\n",
            "1046800           78\n",
            "134704            89\n",
            "...              ...\n",
            "592539            65\n",
            "2601815           74\n",
            "688191            72\n",
            "1391792           61\n",
            "1644283           63\n",
            "\n",
            "[2360 rows x 1 columns]\n"
          ]
        }
      ],
      "source": [
        "x_ltrain,x_ltest,y_ltrain,y_ltest=train_test_split(datal_x1,datal_y1,test_size=0.2,random_state=0)\n",
        "print(x_ltrain)\n",
        "print(x_ltest)\n",
        "print(y_ltrain)\n",
        "print(y_ltest)"
      ]
    },
    {
      "cell_type": "code",
      "execution_count": null,
      "metadata": {
        "colab": {
          "base_uri": "https://localhost:8080/"
        },
        "id": "CXW_qN97EYkl",
        "outputId": "54bffa37-9542-4afc-a153-7027b5be337c"
      },
      "outputs": [
        {
          "data": {
            "text/plain": [
              "434096     True\n",
              "796366     True\n",
              "293445     True\n",
              "1046800    True\n",
              "134704     True\n",
              "           ... \n",
              "592539     True\n",
              "2601815    True\n",
              "688191     True\n",
              "1391792    True\n",
              "1644283    True\n",
              "Length: 2360, dtype: bool"
            ]
          },
          "execution_count": 59,
          "metadata": {
            "tags": []
          },
          "output_type": "execute_result"
        }
      ],
      "source": [
        "#@title Calculated win or loose in the form of true or false for test data { form-width: \"20%\" }\n",
        "Trainingresult=y_wtest['WFinalScore']>y_ltest['LFinalScore']\n",
        "Trainingresult"
      ]
    },
    {
      "cell_type": "markdown",
      "metadata": {
        "id": "FKqScKH5EYkl"
      },
      "source": [
        "Applying Naive Bayes Algorithim for the Class Labels WfinalScore and LFinalScore to predict WIN or LOOSE "
      ]
    },
    {
      "cell_type": "code",
      "execution_count": null,
      "metadata": {
        "colab": {
          "base_uri": "https://localhost:8080/"
        },
        "id": "IcpgulunEYkl",
        "outputId": "ca8479fe-9d43-46ac-f6a6-f156217183d5"
      },
      "outputs": [
        {
          "name": "stdout",
          "output_type": "stream",
          "text": [
            "[[80.85722408]\n",
            " [74.38508778]\n",
            " [77.841816  ]\n",
            " ...\n",
            " [79.85033417]\n",
            " [73.74775853]\n",
            " [73.48240672]]\n",
            "[[ 1.52977401e+00 -2.06625852e-02  6.69965557e-04 -7.05730772e-04\n",
            "  -2.37105644e-03 -1.92596085e-05]]\n",
            "Mean Absolute Error: 8.054187156822364\n",
            "Mean Squared Error: 99.31987997414375\n",
            "Root Mean Squared Error: 9.965935980837111\n"
          ]
        }
      ],
      "source": [
        "#@title WFinalScore Prediction { form-width: \"20%\" }\n",
        "linear_regressor = LinearRegression()  # create object for the class\n",
        "linear_regressor.fit(x_wtrain,y_wtrain)  # perform linear regression\n",
        "yw_pred = linear_regressor.predict(x_wtest)\n",
        "print(yw_pred)\n",
        "print(linear_regressor.coef_)\n",
        "from sklearn import metrics\n",
        "print('Mean Absolute Error:', metrics.mean_absolute_error(y_wtest, yw_pred))\n",
        "print('Mean Squared Error:', metrics.mean_squared_error(y_wtest, yw_pred))\n",
        "print('Root Mean Squared Error:', np.sqrt(metrics.mean_squared_error(y_wtest, yw_pred)))"
      ]
    },
    {
      "cell_type": "code",
      "execution_count": null,
      "metadata": {
        "colab": {
          "base_uri": "https://localhost:8080/"
        },
        "id": "Bnh71UlGEYkm",
        "outputId": "9c4be02e-92d6-4f17-ade2-746192b6f809"
      },
      "outputs": [
        {
          "name": "stdout",
          "output_type": "stream",
          "text": [
            "[[66.70193128]\n",
            " [62.32025116]\n",
            " [64.89801591]\n",
            " ...\n",
            " [66.09069774]\n",
            " [62.25334625]\n",
            " [62.34655238]]\n",
            "[[ 1.29057387  0.01963857 -0.00324484  0.00179303 -0.0028483 ]]\n",
            "Mean Absolute Error: 8.065494294138466\n",
            "Mean Squared Error: 99.26444403266791\n",
            "Root Mean Squared Error: 9.963154321431938\n"
          ]
        }
      ],
      "source": [
        "#@title WFinalScore Prediction { form-width: \"20%\" }\n",
        "linear_regressor = LinearRegression()  # create object for the class\n",
        "linear_regressor.fit(x_ltrain,y_ltrain)  # perform linear regression\n",
        "yl_pred = linear_regressor.predict(x_ltest)\n",
        "print(yl_pred)\n",
        "print(linear_regressor.coef_)\n",
        "from sklearn import metrics\n",
        "print('Mean Absolute Error:', metrics.mean_absolute_error(y_ltest, yl_pred))\n",
        "print('Mean Squared Error:', metrics.mean_squared_error(y_ltest, yl_pred))\n",
        "print('Root Mean Squared Error:', np.sqrt(metrics.mean_squared_error(y_ltest, yl_pred)))"
      ]
    },
    {
      "cell_type": "markdown",
      "metadata": {
        "id": "3Q08vAJGLhGp"
      },
      "source": [
        "By seeing above results Mean Squared error say it is highly predictions we got but it is final score so may there will be more variance but comparing these Wfinal score and LFinalScore\n",
        "\n",
        "But calculating Win or Loose is the main task for our predictions that after calculating the win and loose data of accuracy.we got 100% accuracy"
      ]
    },
    {
      "cell_type": "markdown",
      "metadata": {
        "id": "egdZiM0EEYkn"
      },
      "source": [
        "Predicting The Win or Loose Accuracy"
      ]
    },
    {
      "cell_type": "code",
      "execution_count": null,
      "metadata": {
        "colab": {
          "base_uri": "https://localhost:8080/"
        },
        "id": "WRkJniA2EYkn",
        "outputId": "715149e3-5a19-48ba-81e2-7283522f9a33"
      },
      "outputs": [
        {
          "data": {
            "text/plain": [
              "array([[ True],\n",
              "       [ True],\n",
              "       [ True],\n",
              "       ...,\n",
              "       [ True],\n",
              "       [ True],\n",
              "       [ True]])"
            ]
          },
          "execution_count": 63,
          "metadata": {
            "tags": []
          },
          "output_type": "execute_result"
        }
      ],
      "source": [
        "testingresult=yw_pred>yl_pred\n",
        "testingresult"
      ]
    },
    {
      "cell_type": "code",
      "execution_count": null,
      "metadata": {
        "colab": {
          "base_uri": "https://localhost:8080/"
        },
        "id": "7GKJYnpjH_Wo",
        "outputId": "3776456d-e8cf-41a4-c637-b3b6f6bab37f"
      },
      "outputs": [
        {
          "name": "stdout",
          "output_type": "stream",
          "text": [
            "Accuracy 100.0\n"
          ]
        }
      ],
      "source": [
        "print(\"Accuracy\",accuracy_score(Trainingresult,testingresult)*100)"
      ]
    },
    {
      "cell_type": "markdown",
      "metadata": {
        "id": "swMWdiL4Pvrn"
      },
      "source": [
        "# ***2.KNN***"
      ]
    },
    {
      "cell_type": "markdown",
      "metadata": {
        "id": "7n2sQIyYPwzJ"
      },
      "source": [
        "*For Class Label's WFinal Score And LFinalScore*"
      ]
    },
    {
      "cell_type": "markdown",
      "metadata": {
        "id": "LHZeeteC6C5B"
      },
      "source": [
        "We are predicting the **WIN** or ***LOOSE***"
      ]
    },
    {
      "cell_type": "code",
      "execution_count": null,
      "metadata": {
        "id": "DPu5ZP4nTVQm"
      },
      "outputs": [],
      "source": [
        "#import required packages\n",
        "from sklearn.neighbors import KNeighborsClassifier\n",
        "from sklearn.model_selection import train_test_split\n",
        "from sklearn.metrics import accuracy_score"
      ]
    },
    {
      "cell_type": "code",
      "execution_count": null,
      "metadata": {
        "id": "cv74M11w0dID"
      },
      "outputs": [],
      "source": [
        "datapro1=final_data"
      ]
    },
    {
      "cell_type": "code",
      "execution_count": null,
      "metadata": {
        "colab": {
          "base_uri": "https://localhost:8080/"
        },
        "id": "c82J88SAYHg2",
        "outputId": "d1d06eac-2597-4472-ff31-b386ebd19583"
      },
      "outputs": [
        {
          "data": {
            "text/plain": [
              "Index(['Season', 'DayNum', 'WTeamID', 'LTeamID', 'WFinalScore', 'LFinalScore',\n",
              "       'ElapsedSeconds', 'EventTeamID', 'EventPlayerID', 'EventType'],\n",
              "      dtype='object')"
            ]
          },
          "execution_count": 67,
          "metadata": {
            "tags": []
          },
          "output_type": "execute_result"
        }
      ],
      "source": [
        "datapro1.columns"
      ]
    },
    {
      "cell_type": "code",
      "execution_count": null,
      "metadata": {
        "id": "KYgBqIrQYML-"
      },
      "outputs": [],
      "source": [
        "#@title dividing Data for WFinal Score { form-width: \"20%\" }\n",
        "dataw_y1=datapro1[['WFinalScore']]\n",
        "dataw_x1=datapro1[['Season','DayNum','WTeamID','LTeamID','ElapsedSeconds','EventTeamID','EventPlayerID']]"
      ]
    },
    {
      "cell_type": "code",
      "execution_count": null,
      "metadata": {
        "colab": {
          "base_uri": "https://localhost:8080/"
        },
        "id": "RnjCiNl51qNv",
        "outputId": "fdd54589-68de-4c61-caa4-9259682da0af"
      },
      "outputs": [
        {
          "name": "stdout",
          "output_type": "stream",
          "text": [
            "         Season  DayNum  WTeamID  ...  ElapsedSeconds  EventTeamID  EventPlayerID\n",
            "2671000       5     137     1332  ...              36         1458          15271\n",
            "799185        1      48     1209  ...              25         1379          11918\n",
            "390917        1      25     1458  ...              16         1458          15250\n",
            "232284        4      19     1403  ...              23         1403          12987\n",
            "2610967       3     138     1196  ...              14         1196           3950\n",
            "...         ...     ...      ...  ...             ...          ...            ...\n",
            "287800        2      21     1451  ...              18         1141           1586\n",
            "1629108       1      89     1313  ...              16         1313           9063\n",
            "920361        4      53     1305  ...              26         1356          10875\n",
            "398112        5      18     1296  ...              20         1331           9790\n",
            "1348947       1      75     1453  ...              27         1178           3151\n",
            "\n",
            "[9437 rows x 7 columns]\n",
            "         Season  DayNum  WTeamID  ...  ElapsedSeconds  EventTeamID  EventPlayerID\n",
            "434096        5      19     1317  ...              18         1389          12381\n",
            "796366        1      48     1136  ...              16         1136           1354\n",
            "293445        3      22     1102  ...              12         1102             57\n",
            "1046800       1      62     1442  ...              30         1442          14661\n",
            "134704        2      15     1303  ...              25         1303           8625\n",
            "...         ...     ...      ...  ...             ...          ...            ...\n",
            "592539        3      33     1422  ...              14         1422          13849\n",
            "2601815       3     136     1458  ...              16         1439          14542\n",
            "688191        5      33     1160  ...             406         1160           2349\n",
            "1391792       1      79     1296  ...              25         1296           8320\n",
            "1644283       1      89     1384  ...              17         1384          12154\n",
            "\n",
            "[2360 rows x 7 columns]\n",
            "         WFinalScore\n",
            "2671000           72\n",
            "799185            68\n",
            "390917            69\n",
            "232284            75\n",
            "2610967           65\n",
            "...              ...\n",
            "287800            63\n",
            "1629108           63\n",
            "920361            86\n",
            "398112            87\n",
            "1348947           70\n",
            "\n",
            "[9437 rows x 1 columns]\n",
            "         WFinalScore\n",
            "434096            75\n",
            "796366            48\n",
            "293445            85\n",
            "1046800           80\n",
            "134704            95\n",
            "...              ...\n",
            "592539            72\n",
            "2601815           84\n",
            "688191            84\n",
            "1391792           64\n",
            "1644283           68\n",
            "\n",
            "[2360 rows x 1 columns]\n"
          ]
        }
      ],
      "source": [
        "x_wtrain,x_wtest,y_wtrain,y_wtest=train_test_split(dataw_x1,dataw_y1,test_size=0.2,random_state=0)\n",
        "print(x_wtrain)\n",
        "print(x_wtest)\n",
        "print(y_wtrain)\n",
        "print(y_wtest)"
      ]
    },
    {
      "cell_type": "code",
      "execution_count": null,
      "metadata": {
        "id": "9fOTJtHfZEza"
      },
      "outputs": [],
      "source": [
        "#@title dividing Data for LFinal Score { form-width: \"20%\" }\n",
        "datal_y1=datapro1[['LFinalScore']]\n",
        "datal_x1=datapro1[['Season','DayNum','WTeamID','LTeamID','ElapsedSeconds','EventTeamID','EventPlayerID']]"
      ]
    },
    {
      "cell_type": "code",
      "execution_count": null,
      "metadata": {
        "colab": {
          "base_uri": "https://localhost:8080/"
        },
        "id": "nj7aqRt9DKZH",
        "outputId": "b8d7a1b5-159e-4e46-a769-86812e2503a4"
      },
      "outputs": [
        {
          "name": "stdout",
          "output_type": "stream",
          "text": [
            "         Season  DayNum  WTeamID  ...  ElapsedSeconds  EventTeamID  EventPlayerID\n",
            "2671000       5     137     1332  ...              36         1458          15271\n",
            "799185        1      48     1209  ...              25         1379          11918\n",
            "390917        1      25     1458  ...              16         1458          15250\n",
            "232284        4      19     1403  ...              23         1403          12987\n",
            "2610967       3     138     1196  ...              14         1196           3950\n",
            "...         ...     ...      ...  ...             ...          ...            ...\n",
            "287800        2      21     1451  ...              18         1141           1586\n",
            "1629108       1      89     1313  ...              16         1313           9063\n",
            "920361        4      53     1305  ...              26         1356          10875\n",
            "398112        5      18     1296  ...              20         1331           9790\n",
            "1348947       1      75     1453  ...              27         1178           3151\n",
            "\n",
            "[9437 rows x 7 columns]\n",
            "         Season  DayNum  WTeamID  ...  ElapsedSeconds  EventTeamID  EventPlayerID\n",
            "434096        5      19     1317  ...              18         1389          12381\n",
            "796366        1      48     1136  ...              16         1136           1354\n",
            "293445        3      22     1102  ...              12         1102             57\n",
            "1046800       1      62     1442  ...              30         1442          14661\n",
            "134704        2      15     1303  ...              25         1303           8625\n",
            "...         ...     ...      ...  ...             ...          ...            ...\n",
            "592539        3      33     1422  ...              14         1422          13849\n",
            "2601815       3     136     1458  ...              16         1439          14542\n",
            "688191        5      33     1160  ...             406         1160           2349\n",
            "1391792       1      79     1296  ...              25         1296           8320\n",
            "1644283       1      89     1384  ...              17         1384          12154\n",
            "\n",
            "[2360 rows x 7 columns]\n",
            "         LFinalScore\n",
            "2671000           54\n",
            "799185            55\n",
            "390917            56\n",
            "232284            64\n",
            "2610967           39\n",
            "...              ...\n",
            "287800            60\n",
            "1629108           60\n",
            "920361            64\n",
            "398112            66\n",
            "1348947           64\n",
            "\n",
            "[9437 rows x 1 columns]\n",
            "         LFinalScore\n",
            "434096            66\n",
            "796366            46\n",
            "293445            72\n",
            "1046800           78\n",
            "134704            89\n",
            "...              ...\n",
            "592539            65\n",
            "2601815           74\n",
            "688191            72\n",
            "1391792           61\n",
            "1644283           63\n",
            "\n",
            "[2360 rows x 1 columns]\n"
          ]
        }
      ],
      "source": [
        "x_ltrain,x_ltest,y_ltrain,y_ltest=train_test_split(datal_x1,datal_y1,test_size=0.2,random_state=0)\n",
        "print(x_ltrain)\n",
        "print(x_ltest)\n",
        "print(y_ltrain)\n",
        "print(y_ltest)"
      ]
    },
    {
      "cell_type": "code",
      "execution_count": null,
      "metadata": {
        "id": "8_xLKqjuDrej"
      },
      "outputs": [],
      "source": [
        "#@title Calculated win or loose in the form of true or false for test data { form-width: \"20%\" }\n",
        "Trainingresult=y_wtest['WFinalScore']>y_ltest['LFinalScore']\n",
        "Trainingresult"
      ]
    },
    {
      "cell_type": "code",
      "execution_count": null,
      "metadata": {
        "colab": {
          "base_uri": "https://localhost:8080/"
        },
        "id": "2ecZI1LpZNzR",
        "outputId": "bf870cf0-8496-481f-bd0f-9a5c89b64513"
      },
      "outputs": [
        {
          "name": "stderr",
          "output_type": "stream",
          "text": [
            "/usr/local/lib/python3.6/dist-packages/ipykernel_launcher.py:3: DataConversionWarning: A column-vector y was passed when a 1d array was expected. Please change the shape of y to (n_samples, ), for example using ravel().\n",
            "  This is separate from the ipykernel package so we can avoid doing imports until\n"
          ]
        },
        {
          "data": {
            "text/plain": [
              "array([61, 62, 60, ..., 82, 61, 63])"
            ]
          },
          "execution_count": 75,
          "metadata": {
            "tags": []
          },
          "output_type": "execute_result"
        }
      ],
      "source": [
        "#@title WFinalScore Prediction { form-width: \"20%\" }\n",
        "classifier = KNeighborsClassifier(n_neighbors =5 , metric = 'minkowski',p = 2)\n",
        "classifier.fit(x_wtrain,y_wtrain)\n",
        "y_wpredict = classifier.predict(x_wtest)\n",
        "y_wpredict"
      ]
    },
    {
      "cell_type": "code",
      "execution_count": null,
      "metadata": {
        "colab": {
          "base_uri": "https://localhost:8080/"
        },
        "id": "HBrWWk0V1ORW",
        "outputId": "43919616-2562-42d2-cdaf-6a22f83e4ab9"
      },
      "outputs": [
        {
          "name": "stderr",
          "output_type": "stream",
          "text": [
            "/usr/local/lib/python3.6/dist-packages/ipykernel_launcher.py:3: DataConversionWarning: A column-vector y was passed when a 1d array was expected. Please change the shape of y to (n_samples, ), for example using ravel().\n",
            "  This is separate from the ipykernel package so we can avoid doing imports until\n"
          ]
        },
        {
          "data": {
            "text/plain": [
              "array([55, 60, 60, ..., 58, 50, 47])"
            ]
          },
          "execution_count": 76,
          "metadata": {
            "tags": []
          },
          "output_type": "execute_result"
        }
      ],
      "source": [
        "#@title LFinalScore Prediction { form-width: \"20%\" }\n",
        "classifier = KNeighborsClassifier(n_neighbors =5 , metric = 'minkowski',p = 2)\n",
        "classifier.fit(x_ltrain,y_ltrain)\n",
        "y_lpredict = classifier.predict(x_ltest)\n",
        "y_lpredict"
      ]
    },
    {
      "cell_type": "code",
      "execution_count": null,
      "metadata": {
        "colab": {
          "base_uri": "https://localhost:8080/"
        },
        "id": "PYkVzlA62mur",
        "outputId": "244de878-cfa4-4b3c-b162-4a3c4c40e776"
      },
      "outputs": [
        {
          "data": {
            "text/plain": [
              "array([ True,  True, False, ...,  True,  True,  True])"
            ]
          },
          "execution_count": 77,
          "metadata": {
            "tags": []
          },
          "output_type": "execute_result"
        }
      ],
      "source": [
        "testingresult=y_wpredict>y_lpredict\n",
        "testingresult"
      ]
    },
    {
      "cell_type": "markdown",
      "metadata": {
        "id": "zbnWYhirK8Ii"
      },
      "source": [
        "Accuracy of winning and loosing data\n"
      ]
    },
    {
      "cell_type": "code",
      "execution_count": null,
      "metadata": {
        "colab": {
          "base_uri": "https://localhost:8080/"
        },
        "id": "-ghSvnIVGOUH",
        "outputId": "d5a3a26d-364b-493a-a4c8-cd2ce5aac66a"
      },
      "outputs": [
        {
          "data": {
            "text/plain": [
              "0.9165254237288135"
            ]
          },
          "execution_count": 78,
          "metadata": {
            "tags": []
          },
          "output_type": "execute_result"
        }
      ],
      "source": [
        "#@title We got the accuracy 91.6% { form-width: \"20%\" }\n",
        "accuracy_score(Trainingresult,testingresult)"
      ]
    },
    {
      "cell_type": "markdown",
      "metadata": {
        "id": "BStvQrw5L_eM"
      },
      "source": [
        "# ***3.RANDOM FOREST***"
      ]
    },
    {
      "cell_type": "code",
      "execution_count": null,
      "metadata": {
        "id": "JeGkmucJMHNv"
      },
      "outputs": [],
      "source": [
        "#Required Packages for this Algorithim\n",
        "from sklearn.ensemble import RandomForestClassifier"
      ]
    },
    {
      "cell_type": "markdown",
      "metadata": {
        "id": "-A2KfU1dMgew"
      },
      "source": [
        "Class Labels are WFinalScore and LFinalScore\n",
        "\n",
        "finally based on two class labels we are going to predict the win loose based on win or loose accuracy we are deciding"
      ]
    },
    {
      "cell_type": "code",
      "execution_count": null,
      "metadata": {
        "id": "bTJq68xQNJ82"
      },
      "outputs": [],
      "source": [
        "dataml3=final_data"
      ]
    },
    {
      "cell_type": "code",
      "execution_count": null,
      "metadata": {
        "colab": {
          "base_uri": "https://localhost:8080/"
        },
        "id": "mad8amUgNJ83",
        "outputId": "d14bad55-8feb-4e04-a7f0-be5f4ed7a2e1"
      },
      "outputs": [
        {
          "data": {
            "text/plain": [
              "Index(['Season', 'DayNum', 'WTeamID', 'LTeamID', 'WFinalScore', 'LFinalScore',\n",
              "       'ElapsedSeconds', 'EventTeamID', 'EventPlayerID', 'EventType'],\n",
              "      dtype='object')"
            ]
          },
          "execution_count": 81,
          "metadata": {
            "tags": []
          },
          "output_type": "execute_result"
        }
      ],
      "source": [
        "final_data.columns"
      ]
    },
    {
      "cell_type": "code",
      "execution_count": null,
      "metadata": {
        "id": "hTYMQpVMNJ83"
      },
      "outputs": [],
      "source": [
        "#@title dividing Data for WFinal Score { form-width: \"20%\" }\n",
        "dataw_y1=final_data[['WFinalScore']]\n",
        "dataw_x1=final_data[['Season','DayNum','WTeamID','LTeamID','ElapsedSeconds','EventTeamID','EventPlayerID']]"
      ]
    },
    {
      "cell_type": "code",
      "execution_count": null,
      "metadata": {
        "colab": {
          "base_uri": "https://localhost:8080/"
        },
        "id": "4Y0OYV55NJ83",
        "outputId": "bee81a09-237e-4864-8cf0-f0e9232d94bc"
      },
      "outputs": [
        {
          "name": "stdout",
          "output_type": "stream",
          "text": [
            "         Season  DayNum  WTeamID  ...  ElapsedSeconds  EventTeamID  EventPlayerID\n",
            "2671000       5     137     1332  ...              36         1458          15271\n",
            "799185        1      48     1209  ...              25         1379          11918\n",
            "390917        1      25     1458  ...              16         1458          15250\n",
            "232284        4      19     1403  ...              23         1403          12987\n",
            "2610967       3     138     1196  ...              14         1196           3950\n",
            "...         ...     ...      ...  ...             ...          ...            ...\n",
            "287800        2      21     1451  ...              18         1141           1586\n",
            "1629108       1      89     1313  ...              16         1313           9063\n",
            "920361        4      53     1305  ...              26         1356          10875\n",
            "398112        5      18     1296  ...              20         1331           9790\n",
            "1348947       1      75     1453  ...              27         1178           3151\n",
            "\n",
            "[9437 rows x 7 columns]\n",
            "         Season  DayNum  WTeamID  ...  ElapsedSeconds  EventTeamID  EventPlayerID\n",
            "434096        5      19     1317  ...              18         1389          12381\n",
            "796366        1      48     1136  ...              16         1136           1354\n",
            "293445        3      22     1102  ...              12         1102             57\n",
            "1046800       1      62     1442  ...              30         1442          14661\n",
            "134704        2      15     1303  ...              25         1303           8625\n",
            "...         ...     ...      ...  ...             ...          ...            ...\n",
            "592539        3      33     1422  ...              14         1422          13849\n",
            "2601815       3     136     1458  ...              16         1439          14542\n",
            "688191        5      33     1160  ...             406         1160           2349\n",
            "1391792       1      79     1296  ...              25         1296           8320\n",
            "1644283       1      89     1384  ...              17         1384          12154\n",
            "\n",
            "[2360 rows x 7 columns]\n",
            "         WFinalScore\n",
            "2671000           72\n",
            "799185            68\n",
            "390917            69\n",
            "232284            75\n",
            "2610967           65\n",
            "...              ...\n",
            "287800            63\n",
            "1629108           63\n",
            "920361            86\n",
            "398112            87\n",
            "1348947           70\n",
            "\n",
            "[9437 rows x 1 columns]\n",
            "         WFinalScore\n",
            "434096            75\n",
            "796366            48\n",
            "293445            85\n",
            "1046800           80\n",
            "134704            95\n",
            "...              ...\n",
            "592539            72\n",
            "2601815           84\n",
            "688191            84\n",
            "1391792           64\n",
            "1644283           68\n",
            "\n",
            "[2360 rows x 1 columns]\n"
          ]
        }
      ],
      "source": [
        "x_wtrain,x_wtest,y_wtrain,y_wtest=train_test_split(dataw_x1,dataw_y1,test_size=0.2,random_state=0)\n",
        "print(x_wtrain)\n",
        "print(x_wtest)\n",
        "print(y_wtrain)\n",
        "print(y_wtest)"
      ]
    },
    {
      "cell_type": "code",
      "execution_count": null,
      "metadata": {
        "id": "78oR7MJeNJ83"
      },
      "outputs": [],
      "source": [
        "#@title dividing Data for LFinal Score { form-width: \"20%\" }\n",
        "datal_y1=final_data[['LFinalScore']]\n",
        "# datal_y1\n",
        "datal_x1=final_data[['Season','DayNum','WTeamID','LTeamID','ElapsedSeconds','EventTeamID','EventPlayerID']]\n",
        "# datal_x1"
      ]
    },
    {
      "cell_type": "code",
      "execution_count": null,
      "metadata": {
        "colab": {
          "base_uri": "https://localhost:8080/"
        },
        "id": "0UOCowSzNJ83",
        "outputId": "bcdeb894-d73b-4e91-96d7-5428536fb064"
      },
      "outputs": [
        {
          "name": "stdout",
          "output_type": "stream",
          "text": [
            "         Season  DayNum  WTeamID  ...  ElapsedSeconds  EventTeamID  EventPlayerID\n",
            "2671000       5     137     1332  ...              36         1458          15271\n",
            "799185        1      48     1209  ...              25         1379          11918\n",
            "390917        1      25     1458  ...              16         1458          15250\n",
            "232284        4      19     1403  ...              23         1403          12987\n",
            "2610967       3     138     1196  ...              14         1196           3950\n",
            "...         ...     ...      ...  ...             ...          ...            ...\n",
            "287800        2      21     1451  ...              18         1141           1586\n",
            "1629108       1      89     1313  ...              16         1313           9063\n",
            "920361        4      53     1305  ...              26         1356          10875\n",
            "398112        5      18     1296  ...              20         1331           9790\n",
            "1348947       1      75     1453  ...              27         1178           3151\n",
            "\n",
            "[9437 rows x 7 columns]\n",
            "         Season  DayNum  WTeamID  ...  ElapsedSeconds  EventTeamID  EventPlayerID\n",
            "434096        5      19     1317  ...              18         1389          12381\n",
            "796366        1      48     1136  ...              16         1136           1354\n",
            "293445        3      22     1102  ...              12         1102             57\n",
            "1046800       1      62     1442  ...              30         1442          14661\n",
            "134704        2      15     1303  ...              25         1303           8625\n",
            "...         ...     ...      ...  ...             ...          ...            ...\n",
            "592539        3      33     1422  ...              14         1422          13849\n",
            "2601815       3     136     1458  ...              16         1439          14542\n",
            "688191        5      33     1160  ...             406         1160           2349\n",
            "1391792       1      79     1296  ...              25         1296           8320\n",
            "1644283       1      89     1384  ...              17         1384          12154\n",
            "\n",
            "[2360 rows x 7 columns]\n",
            "         LFinalScore\n",
            "2671000           54\n",
            "799185            55\n",
            "390917            56\n",
            "232284            64\n",
            "2610967           39\n",
            "...              ...\n",
            "287800            60\n",
            "1629108           60\n",
            "920361            64\n",
            "398112            66\n",
            "1348947           64\n",
            "\n",
            "[9437 rows x 1 columns]\n",
            "         LFinalScore\n",
            "434096            66\n",
            "796366            46\n",
            "293445            72\n",
            "1046800           78\n",
            "134704            89\n",
            "...              ...\n",
            "592539            65\n",
            "2601815           74\n",
            "688191            72\n",
            "1391792           61\n",
            "1644283           63\n",
            "\n",
            "[2360 rows x 1 columns]\n"
          ]
        }
      ],
      "source": [
        "x_ltrain,x_ltest,y_ltrain,y_ltest=train_test_split(datal_x1,datal_y1,test_size=0.2,random_state=0)\n",
        "print(x_ltrain)\n",
        "print(x_ltest)\n",
        "print(y_ltrain)\n",
        "print(y_ltest)"
      ]
    },
    {
      "cell_type": "code",
      "execution_count": null,
      "metadata": {
        "colab": {
          "base_uri": "https://localhost:8080/"
        },
        "id": "o9UX0OnQNJ83",
        "outputId": "6854b5b9-46dc-467e-8556-7d843faa7e81"
      },
      "outputs": [
        {
          "data": {
            "text/plain": [
              "434096     True\n",
              "796366     True\n",
              "293445     True\n",
              "1046800    True\n",
              "134704     True\n",
              "           ... \n",
              "592539     True\n",
              "2601815    True\n",
              "688191     True\n",
              "1391792    True\n",
              "1644283    True\n",
              "Length: 2360, dtype: bool"
            ]
          },
          "execution_count": 86,
          "metadata": {
            "tags": []
          },
          "output_type": "execute_result"
        }
      ],
      "source": [
        "#@title Calculated win or loose in the form of true or false for test data { form-width: \"20%\" }\n",
        "Trainingresult=y_wtest['WFinalScore']>y_ltest['LFinalScore']\n",
        "Trainingresult"
      ]
    },
    {
      "cell_type": "markdown",
      "metadata": {
        "id": "qnEJJv6kOcEA"
      },
      "source": [
        "**Applying Random Forest Algorithim for the Class Labels**"
      ]
    },
    {
      "cell_type": "markdown",
      "metadata": {
        "id": "h7AoPcD3PgjL"
      },
      "source": [
        "**Prediction for WFinalScore**"
      ]
    },
    {
      "cell_type": "code",
      "execution_count": null,
      "metadata": {
        "colab": {
          "base_uri": "https://localhost:8080/"
        },
        "id": "M_MQAnviMfVk",
        "outputId": "1d73c431-3dff-4dbb-9b5c-cc2cbe8a1bd9"
      },
      "outputs": [
        {
          "name": "stderr",
          "output_type": "stream",
          "text": [
            "/usr/local/lib/python3.6/dist-packages/ipykernel_launcher.py:2: DataConversionWarning: A column-vector y was passed when a 1d array was expected. Please change the shape of y to (n_samples,), for example using ravel().\n",
            "  \n"
          ]
        },
        {
          "data": {
            "text/plain": [
              "RandomForestClassifier(bootstrap=True, ccp_alpha=0.0, class_weight=None,\n",
              "                       criterion='entropy', max_depth=None, max_features='auto',\n",
              "                       max_leaf_nodes=None, max_samples=None,\n",
              "                       min_impurity_decrease=0.0, min_impurity_split=None,\n",
              "                       min_samples_leaf=1, min_samples_split=2,\n",
              "                       min_weight_fraction_leaf=0.0, n_estimators=10,\n",
              "                       n_jobs=None, oob_score=False, random_state=0, verbose=0,\n",
              "                       warm_start=False)"
            ]
          },
          "execution_count": 87,
          "metadata": {
            "tags": []
          },
          "output_type": "execute_result"
        }
      ],
      "source": [
        "classifier = RandomForestClassifier(n_estimators=10,criterion='entropy',random_state=0)\n",
        "classifier.fit(x_wtrain,y_wtrain)"
      ]
    },
    {
      "cell_type": "code",
      "execution_count": null,
      "metadata": {
        "colab": {
          "base_uri": "https://localhost:8080/"
        },
        "id": "kmPGiOwJOKne",
        "outputId": "112f11a2-6535-4137-8c97-1a056d427ac5"
      },
      "outputs": [
        {
          "data": {
            "text/plain": [
              "array([85, 80, 60, ..., 82, 72, 75])"
            ]
          },
          "execution_count": 88,
          "metadata": {
            "tags": []
          },
          "output_type": "execute_result"
        }
      ],
      "source": [
        "#@title WFinalScore Prediction { form-width: \"20%\" }\n",
        "y_wpredict = classifier.predict(x_wtest)\n",
        "y_wpredict"
      ]
    },
    {
      "cell_type": "markdown",
      "metadata": {
        "id": "GzQYbAHPPj5U"
      },
      "source": [
        "**Prediction for WFinalScore**"
      ]
    },
    {
      "cell_type": "code",
      "execution_count": null,
      "metadata": {
        "colab": {
          "base_uri": "https://localhost:8080/"
        },
        "id": "S0n085_YOVDE",
        "outputId": "73409126-a099-4722-f8f9-22c57babe63b"
      },
      "outputs": [
        {
          "name": "stderr",
          "output_type": "stream",
          "text": [
            "/usr/local/lib/python3.6/dist-packages/ipykernel_launcher.py:2: DataConversionWarning: A column-vector y was passed when a 1d array was expected. Please change the shape of y to (n_samples,), for example using ravel().\n",
            "  \n"
          ]
        },
        {
          "data": {
            "text/plain": [
              "RandomForestClassifier(bootstrap=True, ccp_alpha=0.0, class_weight=None,\n",
              "                       criterion='entropy', max_depth=None, max_features='auto',\n",
              "                       max_leaf_nodes=None, max_samples=None,\n",
              "                       min_impurity_decrease=0.0, min_impurity_split=None,\n",
              "                       min_samples_leaf=1, min_samples_split=2,\n",
              "                       min_weight_fraction_leaf=0.0, n_estimators=10,\n",
              "                       n_jobs=None, oob_score=False, random_state=0, verbose=0,\n",
              "                       warm_start=False)"
            ]
          },
          "execution_count": 89,
          "metadata": {
            "tags": []
          },
          "output_type": "execute_result"
        }
      ],
      "source": [
        "classifier = RandomForestClassifier(n_estimators=10,criterion='entropy',random_state=0)\n",
        "classifier.fit(x_ltrain,y_ltrain)"
      ]
    },
    {
      "cell_type": "code",
      "execution_count": null,
      "metadata": {
        "colab": {
          "base_uri": "https://localhost:8080/"
        },
        "id": "5E9fCsPOOZwM",
        "outputId": "148a4575-2fcd-4a1a-84d8-c216951b2e33"
      },
      "outputs": [
        {
          "data": {
            "text/plain": [
              "array([57, 47, 48, ..., 66, 59, 51])"
            ]
          },
          "execution_count": 90,
          "metadata": {
            "tags": []
          },
          "output_type": "execute_result"
        }
      ],
      "source": [
        "#@title LFinalScore Prediction { form-width: \"20%\" }\n",
        "y_wpredict = classifier.predict(x_wtest)\n",
        "y_wpredict"
      ]
    },
    {
      "cell_type": "markdown",
      "metadata": {
        "id": "-X6ffhl6PrA9"
      },
      "source": [
        "Checking accuracy of predicted data for WIN or LOOSE"
      ]
    },
    {
      "cell_type": "code",
      "execution_count": null,
      "metadata": {
        "colab": {
          "base_uri": "https://localhost:8080/"
        },
        "id": "Au1u-rBvQPJY",
        "outputId": "d71abc2a-19d6-4dab-c547-e839c37da0a2"
      },
      "outputs": [
        {
          "data": {
            "text/plain": [
              "array([ True, False, False, ...,  True,  True,  True])"
            ]
          },
          "execution_count": 91,
          "metadata": {
            "tags": []
          },
          "output_type": "execute_result"
        }
      ],
      "source": [
        "testingresult=y_wpredict>y_lpredict\n",
        "testingresult"
      ]
    },
    {
      "cell_type": "code",
      "execution_count": null,
      "metadata": {
        "colab": {
          "base_uri": "https://localhost:8080/"
        },
        "id": "XN8tP0ChPxTK",
        "outputId": "38a87655-530d-40f8-cc12-2e92774fda4f"
      },
      "outputs": [
        {
          "data": {
            "text/plain": [
              "0.6262711864406779"
            ]
          },
          "execution_count": 92,
          "metadata": {
            "tags": []
          },
          "output_type": "execute_result"
        }
      ],
      "source": [
        "#@title We got the accuracy 62.6% { form-width: \"20%\" }\n",
        "accuracy_score(Trainingresult,testingresult)"
      ]
    },
    {
      "cell_type": "markdown",
      "metadata": {
        "id": "aEVj084QT04B"
      },
      "source": [
        "#***4.Naive Bayes Classifier***"
      ]
    },
    {
      "cell_type": "code",
      "execution_count": null,
      "metadata": {
        "id": "Hrak5JMVUCwf"
      },
      "outputs": [],
      "source": [
        "from sklearn import metrics \n",
        "from sklearn.naive_bayes import GaussianNB"
      ]
    },
    {
      "cell_type": "code",
      "execution_count": null,
      "metadata": {
        "colab": {
          "base_uri": "https://localhost:8080/"
        },
        "id": "ruKhNxO8Ueh6",
        "outputId": "5f4983a3-de8e-4ea0-9f35-a12feae5d9b0"
      },
      "outputs": [
        {
          "data": {
            "text/plain": [
              "(11797, 10)"
            ]
          },
          "execution_count": 108,
          "metadata": {
            "tags": []
          },
          "output_type": "execute_result"
        }
      ],
      "source": [
        "dataml4=final_data\n",
        "dataml4.shape"
      ]
    },
    {
      "cell_type": "code",
      "execution_count": null,
      "metadata": {
        "colab": {
          "base_uri": "https://localhost:8080/"
        },
        "id": "Gn4IQ9dKUeh7",
        "outputId": "3b6831df-3a02-44eb-bbc1-b7fe6a70845d"
      },
      "outputs": [
        {
          "data": {
            "text/plain": [
              "Index(['Season', 'DayNum', 'WTeamID', 'LTeamID', 'WFinalScore', 'LFinalScore',\n",
              "       'ElapsedSeconds', 'EventTeamID', 'EventPlayerID', 'EventType'],\n",
              "      dtype='object')"
            ]
          },
          "execution_count": 109,
          "metadata": {
            "tags": []
          },
          "output_type": "execute_result"
        }
      ],
      "source": [
        "final_data.columns"
      ]
    },
    {
      "cell_type": "code",
      "execution_count": null,
      "metadata": {
        "id": "Rq1OFyu0Ueh8"
      },
      "outputs": [],
      "source": [
        "#@title dividing Data for WFinal Score { form-width: \"20%\" }\n",
        "dataw_y1=final_data[['WFinalScore']]\n",
        "# dataw_y1\n",
        "dataw_x1=final_data[['Season','DayNum','WTeamID','LTeamID','ElapsedSeconds','EventPlayerID']]\n",
        "# dataw_x1"
      ]
    },
    {
      "cell_type": "code",
      "execution_count": null,
      "metadata": {
        "colab": {
          "base_uri": "https://localhost:8080/"
        },
        "id": "y3vZLNNOUeh8",
        "outputId": "10136423-e57d-4102-b610-c9da33519125"
      },
      "outputs": [
        {
          "name": "stdout",
          "output_type": "stream",
          "text": [
            "         Season  DayNum  WTeamID  LTeamID  ElapsedSeconds  EventPlayerID\n",
            "2671000       5     137     1332     1458              36          15271\n",
            "799185        1      48     1209     1379              25          11918\n",
            "390917        1      25     1458     1328              16          15250\n",
            "232284        4      19     1403     1130              23          12987\n",
            "2610967       3     138     1196     1438              14           3950\n",
            "...         ...     ...      ...      ...             ...            ...\n",
            "287800        2      21     1451     1141              18           1586\n",
            "1629108       1      89     1313     1214              16           9063\n",
            "920361        4      53     1305     1356              26          10875\n",
            "398112        5      18     1296     1331              20           9790\n",
            "1348947       1      75     1453     1178              27           3151\n",
            "\n",
            "[9437 rows x 6 columns]\n",
            "         Season  DayNum  WTeamID  LTeamID  ElapsedSeconds  EventPlayerID\n",
            "434096        5      19     1317     1389              18          12381\n",
            "796366        1      48     1136     1176              16           1354\n",
            "293445        3      22     1102     1391              12             57\n",
            "1046800       1      62     1442     1303              30          14661\n",
            "134704        2      15     1303     1282              25           8625\n",
            "...         ...     ...      ...      ...             ...            ...\n",
            "592539        3      33     1422     1251              14          13849\n",
            "2601815       3     136     1458     1439              16          14542\n",
            "688191        5      33     1160     1227             406           2349\n",
            "1391792       1      79     1296     1103              25           8320\n",
            "1644283       1      89     1384     1192              17          12154\n",
            "\n",
            "[2360 rows x 6 columns]\n",
            "         WFinalScore\n",
            "2671000           72\n",
            "799185            68\n",
            "390917            69\n",
            "232284            75\n",
            "2610967           65\n",
            "...              ...\n",
            "287800            63\n",
            "1629108           63\n",
            "920361            86\n",
            "398112            87\n",
            "1348947           70\n",
            "\n",
            "[9437 rows x 1 columns]\n",
            "         WFinalScore\n",
            "434096            75\n",
            "796366            48\n",
            "293445            85\n",
            "1046800           80\n",
            "134704            95\n",
            "...              ...\n",
            "592539            72\n",
            "2601815           84\n",
            "688191            84\n",
            "1391792           64\n",
            "1644283           68\n",
            "\n",
            "[2360 rows x 1 columns]\n"
          ]
        }
      ],
      "source": [
        "x_wtrain,x_wtest,y_wtrain,y_wtest=train_test_split(dataw_x1,dataw_y1,test_size=0.2,random_state=0)\n",
        "print(x_wtrain)\n",
        "print(x_wtest)\n",
        "print(y_wtrain)\n",
        "print(y_wtest)"
      ]
    },
    {
      "cell_type": "code",
      "execution_count": null,
      "metadata": {
        "id": "XvmajsVmUeh8"
      },
      "outputs": [],
      "source": [
        "#@title dividing Data for LFinal Score { form-width: \"20%\" }\n",
        "datal_y1=final_data[['LFinalScore']]\n",
        "# datal_y1\n",
        "datal_x1=final_data[['Season','DayNum','WTeamID','LTeamID','ElapsedSeconds']]\n",
        "# datal_x1"
      ]
    },
    {
      "cell_type": "code",
      "execution_count": null,
      "metadata": {
        "colab": {
          "base_uri": "https://localhost:8080/"
        },
        "id": "GUMgqGQTUeh9",
        "outputId": "200698dc-2e66-4036-8c15-e29a5e60d2ae"
      },
      "outputs": [
        {
          "name": "stdout",
          "output_type": "stream",
          "text": [
            "         Season  DayNum  WTeamID  LTeamID  ElapsedSeconds\n",
            "2671000       5     137     1332     1458              36\n",
            "799185        1      48     1209     1379              25\n",
            "390917        1      25     1458     1328              16\n",
            "232284        4      19     1403     1130              23\n",
            "2610967       3     138     1196     1438              14\n",
            "...         ...     ...      ...      ...             ...\n",
            "287800        2      21     1451     1141              18\n",
            "1629108       1      89     1313     1214              16\n",
            "920361        4      53     1305     1356              26\n",
            "398112        5      18     1296     1331              20\n",
            "1348947       1      75     1453     1178              27\n",
            "\n",
            "[9437 rows x 5 columns]\n",
            "         Season  DayNum  WTeamID  LTeamID  ElapsedSeconds\n",
            "434096        5      19     1317     1389              18\n",
            "796366        1      48     1136     1176              16\n",
            "293445        3      22     1102     1391              12\n",
            "1046800       1      62     1442     1303              30\n",
            "134704        2      15     1303     1282              25\n",
            "...         ...     ...      ...      ...             ...\n",
            "592539        3      33     1422     1251              14\n",
            "2601815       3     136     1458     1439              16\n",
            "688191        5      33     1160     1227             406\n",
            "1391792       1      79     1296     1103              25\n",
            "1644283       1      89     1384     1192              17\n",
            "\n",
            "[2360 rows x 5 columns]\n",
            "         LFinalScore\n",
            "2671000           54\n",
            "799185            55\n",
            "390917            56\n",
            "232284            64\n",
            "2610967           39\n",
            "...              ...\n",
            "287800            60\n",
            "1629108           60\n",
            "920361            64\n",
            "398112            66\n",
            "1348947           64\n",
            "\n",
            "[9437 rows x 1 columns]\n",
            "         LFinalScore\n",
            "434096            66\n",
            "796366            46\n",
            "293445            72\n",
            "1046800           78\n",
            "134704            89\n",
            "...              ...\n",
            "592539            65\n",
            "2601815           74\n",
            "688191            72\n",
            "1391792           61\n",
            "1644283           63\n",
            "\n",
            "[2360 rows x 1 columns]\n"
          ]
        }
      ],
      "source": [
        "x_ltrain,x_ltest,y_ltrain,y_ltest=train_test_split(datal_x1,datal_y1,test_size=0.2,random_state=0)\n",
        "print(x_ltrain)\n",
        "print(x_ltest)\n",
        "print(y_ltrain)\n",
        "print(y_ltest)"
      ]
    },
    {
      "cell_type": "code",
      "execution_count": null,
      "metadata": {
        "id": "lj-FEYjcUeh9"
      },
      "outputs": [],
      "source": [
        "#@title Calculated win or loose in the form of true or false for test data { form-width: \"20%\" }\n",
        "Trainingresult=y_wtest['WFinalScore']>y_ltest['LFinalScore']\n",
        "Trainingresult"
      ]
    },
    {
      "cell_type": "markdown",
      "metadata": {
        "id": "XLoDIu3eU6ko"
      },
      "source": [
        "Applying Naive Bayes Algorithim for the Class Labels WfinalScore and LFinalScore to predict WIN or LOOSE "
      ]
    },
    {
      "cell_type": "code",
      "execution_count": null,
      "metadata": {
        "colab": {
          "base_uri": "https://localhost:8080/"
        },
        "id": "yTTqyDPdWg_V",
        "outputId": "f4c85a11-9815-4840-dad5-2f825a6018c0"
      },
      "outputs": [
        {
          "name": "stderr",
          "output_type": "stream",
          "text": [
            "/usr/local/lib/python3.6/dist-packages/sklearn/naive_bayes.py:206: DataConversionWarning: A column-vector y was passed when a 1d array was expected. Please change the shape of y to (n_samples, ), for example using ravel().\n",
            "  y = column_or_1d(y, warn=True)\n"
          ]
        },
        {
          "data": {
            "text/plain": [
              "GaussianNB(priors=None, var_smoothing=1e-09)"
            ]
          },
          "execution_count": 115,
          "metadata": {
            "tags": []
          },
          "output_type": "execute_result"
        }
      ],
      "source": [
        "#@title WFinalScore Prediction { form-width: \"20%\" }\n",
        "gnb=GaussianNB()\n",
        "gnb.fit(x_wtrain, y_wtrain)"
      ]
    },
    {
      "cell_type": "code",
      "execution_count": null,
      "metadata": {
        "colab": {
          "base_uri": "https://localhost:8080/"
        },
        "id": "PukVOkxRYWMU",
        "outputId": "f7f9f78c-d6bf-45f6-fb70-f1e86a8b6a5e"
      },
      "outputs": [
        {
          "data": {
            "text/plain": [
              "array([98, 58, 93, ..., 97, 58, 58])"
            ]
          },
          "execution_count": 116,
          "metadata": {
            "tags": []
          },
          "output_type": "execute_result"
        }
      ],
      "source": [
        "# making predictions on the testing set \n",
        "y_wpred = gnb.predict(x_wtest)\n",
        "y_wpred"
      ]
    },
    {
      "cell_type": "code",
      "execution_count": null,
      "metadata": {
        "colab": {
          "base_uri": "https://localhost:8080/"
        },
        "id": "g6eXEBjuYsOK",
        "outputId": "646cc475-9636-42ca-c36e-eeb136e7ee65"
      },
      "outputs": [
        {
          "name": "stderr",
          "output_type": "stream",
          "text": [
            "/usr/local/lib/python3.6/dist-packages/sklearn/naive_bayes.py:206: DataConversionWarning: A column-vector y was passed when a 1d array was expected. Please change the shape of y to (n_samples, ), for example using ravel().\n",
            "  y = column_or_1d(y, warn=True)\n"
          ]
        },
        {
          "data": {
            "text/plain": [
              "GaussianNB(priors=None, var_smoothing=1e-09)"
            ]
          },
          "execution_count": 117,
          "metadata": {
            "tags": []
          },
          "output_type": "execute_result"
        }
      ],
      "source": [
        "#@title WFinalScore Prediction { form-width: \"20%\" }\n",
        "gnb=GaussianNB()\n",
        "gnb.fit(x_ltrain, y_ltrain)"
      ]
    },
    {
      "cell_type": "code",
      "execution_count": null,
      "metadata": {
        "colab": {
          "base_uri": "https://localhost:8080/"
        },
        "id": "swa9JCyZYsOM",
        "outputId": "6b43421f-4e94-43d9-86dc-66ff294c3a62"
      },
      "outputs": [
        {
          "data": {
            "text/plain": [
              "array([66, 48, 48, ..., 77, 48, 48])"
            ]
          },
          "execution_count": 118,
          "metadata": {
            "tags": []
          },
          "output_type": "execute_result"
        }
      ],
      "source": [
        "# making predictions on the testing set \n",
        "y_lpred = gnb.predict(x_ltest)\n",
        "y_lpred"
      ]
    },
    {
      "cell_type": "markdown",
      "metadata": {
        "id": "8MqJx02sZSGM"
      },
      "source": [
        "Predicting The Win or Loose Accuracy"
      ]
    },
    {
      "cell_type": "code",
      "execution_count": null,
      "metadata": {
        "colab": {
          "base_uri": "https://localhost:8080/"
        },
        "id": "aRcLbNV3ZeCL",
        "outputId": "82007fb1-c287-457a-ae58-3bc1abd4197d"
      },
      "outputs": [
        {
          "data": {
            "text/plain": [
              "array([ True,  True,  True, ...,  True,  True,  True])"
            ]
          },
          "execution_count": 119,
          "metadata": {
            "tags": []
          },
          "output_type": "execute_result"
        }
      ],
      "source": [
        "testingresult=y_wpred>y_lpred\n",
        "testingresult"
      ]
    },
    {
      "cell_type": "code",
      "execution_count": null,
      "metadata": {
        "colab": {
          "base_uri": "https://localhost:8080/"
        },
        "id": "1wdYnUsOZYKk",
        "outputId": "03aab9ef-4118-492a-f99f-30ad7b365cfd"
      },
      "outputs": [
        {
          "name": "stdout",
          "output_type": "stream",
          "text": [
            "Gaussian Naive Bayes model accuracy(in %): 94.57627118644068\n"
          ]
        }
      ],
      "source": [
        "#@title Prediction result Accuracy 94.5% { form-width: \"20%\" }\n",
        "print(\"Gaussian Naive Bayes model accuracy(in %):\", metrics.accuracy_score(Trainingresult, testingresult)*100)"
      ]
    },
    {
      "cell_type": "markdown",
      "metadata": {
        "id": "CRSy7i_JezOT"
      },
      "source": [
        "# ***5.SVM***"
      ]
    },
    {
      "cell_type": "code",
      "execution_count": null,
      "metadata": {
        "id": "NR-y475Ley9K"
      },
      "outputs": [],
      "source": [
        "# import support vector classifier \n",
        "from sklearn.svm import SVC # \"Support Vector Classifier\""
      ]
    },
    {
      "cell_type": "code",
      "execution_count": null,
      "metadata": {
        "colab": {
          "base_uri": "https://localhost:8080/"
        },
        "id": "s9blclqlhLku",
        "outputId": "171b2574-6fc1-45e4-942d-2a442e224903"
      },
      "outputs": [
        {
          "data": {
            "text/plain": [
              "(11797, 10)"
            ]
          },
          "execution_count": 221,
          "metadata": {
            "tags": []
          },
          "output_type": "execute_result"
        }
      ],
      "source": [
        "dataml5=final_data\n",
        "dataml5.shape"
      ]
    },
    {
      "cell_type": "code",
      "execution_count": null,
      "metadata": {
        "colab": {
          "base_uri": "https://localhost:8080/"
        },
        "id": "viN06VTfhLkx",
        "outputId": "0a6cdc0d-75a0-4d11-f128-5b80d1d65bb0"
      },
      "outputs": [
        {
          "data": {
            "text/plain": [
              "Index(['Season', 'DayNum', 'WTeamID', 'LTeamID', 'WFinalScore', 'LFinalScore',\n",
              "       'ElapsedSeconds', 'EventTeamID', 'EventPlayerID', 'EventType'],\n",
              "      dtype='object')"
            ]
          },
          "execution_count": 222,
          "metadata": {
            "tags": []
          },
          "output_type": "execute_result"
        }
      ],
      "source": [
        "final_data.columns"
      ]
    },
    {
      "cell_type": "code",
      "execution_count": null,
      "metadata": {
        "id": "4T_k32lHhLkx"
      },
      "outputs": [],
      "source": [
        "#@title dividing Data for WFinal Score { form-width: \"20%\" }\n",
        "dataw_y1=final_data[['WFinalScore']]\n",
        "# dataw_y1\n",
        "dataw_x1=final_data[['Season','DayNum','WTeamID','LTeamID','ElapsedSeconds',]]\n",
        "# dataw_x1"
      ]
    },
    {
      "cell_type": "code",
      "execution_count": null,
      "metadata": {
        "colab": {
          "base_uri": "https://localhost:8080/"
        },
        "id": "bdM6M3GehLky",
        "outputId": "4e8e5f35-9732-4a83-f110-1754ca89edf9"
      },
      "outputs": [
        {
          "name": "stdout",
          "output_type": "stream",
          "text": [
            "         Season  DayNum  WTeamID  LTeamID  ElapsedSeconds\n",
            "2671000       5     137     1332     1458              36\n",
            "799185        1      48     1209     1379              25\n",
            "390917        1      25     1458     1328              16\n",
            "232284        4      19     1403     1130              23\n",
            "2610967       3     138     1196     1438              14\n",
            "...         ...     ...      ...      ...             ...\n",
            "287800        2      21     1451     1141              18\n",
            "1629108       1      89     1313     1214              16\n",
            "920361        4      53     1305     1356              26\n",
            "398112        5      18     1296     1331              20\n",
            "1348947       1      75     1453     1178              27\n",
            "\n",
            "[9437 rows x 5 columns]\n",
            "         Season  DayNum  WTeamID  LTeamID  ElapsedSeconds\n",
            "434096        5      19     1317     1389              18\n",
            "796366        1      48     1136     1176              16\n",
            "293445        3      22     1102     1391              12\n",
            "1046800       1      62     1442     1303              30\n",
            "134704        2      15     1303     1282              25\n",
            "...         ...     ...      ...      ...             ...\n",
            "592539        3      33     1422     1251              14\n",
            "2601815       3     136     1458     1439              16\n",
            "688191        5      33     1160     1227             406\n",
            "1391792       1      79     1296     1103              25\n",
            "1644283       1      89     1384     1192              17\n",
            "\n",
            "[2360 rows x 5 columns]\n",
            "         WFinalScore\n",
            "2671000           72\n",
            "799185            68\n",
            "390917            69\n",
            "232284            75\n",
            "2610967           65\n",
            "...              ...\n",
            "287800            63\n",
            "1629108           63\n",
            "920361            86\n",
            "398112            87\n",
            "1348947           70\n",
            "\n",
            "[9437 rows x 1 columns]\n",
            "         WFinalScore\n",
            "434096            75\n",
            "796366            48\n",
            "293445            85\n",
            "1046800           80\n",
            "134704            95\n",
            "...              ...\n",
            "592539            72\n",
            "2601815           84\n",
            "688191            84\n",
            "1391792           64\n",
            "1644283           68\n",
            "\n",
            "[2360 rows x 1 columns]\n"
          ]
        }
      ],
      "source": [
        "x_wtrain,x_wtest,y_wtrain,y_wtest=train_test_split(dataw_x1,dataw_y1,test_size=0.2,random_state=0)\n",
        "print(x_wtrain)\n",
        "print(x_wtest)\n",
        "print(y_wtrain)\n",
        "print(y_wtest)"
      ]
    },
    {
      "cell_type": "code",
      "execution_count": null,
      "metadata": {
        "id": "v21ZoWLhhLky"
      },
      "outputs": [],
      "source": [
        "#@title dividing Data for LFinal Score { form-width: \"20%\" }\n",
        "datal_y1=final_data[['LFinalScore']]\n",
        "# datal_y1\n",
        "datal_x1=final_data[['Season','DayNum','WTeamID','LTeamID','ElapsedSeconds','EventPlayerID']]\n",
        "# datal_x1"
      ]
    },
    {
      "cell_type": "code",
      "execution_count": null,
      "metadata": {
        "colab": {
          "base_uri": "https://localhost:8080/"
        },
        "id": "f0PEulorhLky",
        "outputId": "84356cb6-1da3-4810-b237-61f1cbc71829"
      },
      "outputs": [
        {
          "name": "stdout",
          "output_type": "stream",
          "text": [
            "         Season  DayNum  WTeamID  LTeamID  ElapsedSeconds  EventPlayerID\n",
            "2671000       5     137     1332     1458              36          15271\n",
            "799185        1      48     1209     1379              25          11918\n",
            "390917        1      25     1458     1328              16          15250\n",
            "232284        4      19     1403     1130              23          12987\n",
            "2610967       3     138     1196     1438              14           3950\n",
            "...         ...     ...      ...      ...             ...            ...\n",
            "287800        2      21     1451     1141              18           1586\n",
            "1629108       1      89     1313     1214              16           9063\n",
            "920361        4      53     1305     1356              26          10875\n",
            "398112        5      18     1296     1331              20           9790\n",
            "1348947       1      75     1453     1178              27           3151\n",
            "\n",
            "[9437 rows x 6 columns]\n",
            "         Season  DayNum  WTeamID  LTeamID  ElapsedSeconds  EventPlayerID\n",
            "434096        5      19     1317     1389              18          12381\n",
            "796366        1      48     1136     1176              16           1354\n",
            "293445        3      22     1102     1391              12             57\n",
            "1046800       1      62     1442     1303              30          14661\n",
            "134704        2      15     1303     1282              25           8625\n",
            "...         ...     ...      ...      ...             ...            ...\n",
            "592539        3      33     1422     1251              14          13849\n",
            "2601815       3     136     1458     1439              16          14542\n",
            "688191        5      33     1160     1227             406           2349\n",
            "1391792       1      79     1296     1103              25           8320\n",
            "1644283       1      89     1384     1192              17          12154\n",
            "\n",
            "[2360 rows x 6 columns]\n",
            "         LFinalScore\n",
            "2671000           54\n",
            "799185            55\n",
            "390917            56\n",
            "232284            64\n",
            "2610967           39\n",
            "...              ...\n",
            "287800            60\n",
            "1629108           60\n",
            "920361            64\n",
            "398112            66\n",
            "1348947           64\n",
            "\n",
            "[9437 rows x 1 columns]\n",
            "         LFinalScore\n",
            "434096            66\n",
            "796366            46\n",
            "293445            72\n",
            "1046800           78\n",
            "134704            89\n",
            "...              ...\n",
            "592539            65\n",
            "2601815           74\n",
            "688191            72\n",
            "1391792           61\n",
            "1644283           63\n",
            "\n",
            "[2360 rows x 1 columns]\n"
          ]
        }
      ],
      "source": [
        "x_ltrain,x_ltest,y_ltrain,y_ltest=train_test_split(datal_x1,datal_y1,test_size=0.2,random_state=0)\n",
        "print(x_ltrain)\n",
        "print(x_ltest)\n",
        "print(y_ltrain)\n",
        "print(y_ltest)"
      ]
    },
    {
      "cell_type": "code",
      "execution_count": null,
      "metadata": {
        "id": "XLzaxT3PhLkz"
      },
      "outputs": [],
      "source": [
        "#@title Calculated win or loose in the form of true or false for test data { form-width: \"20%\" }\n",
        "Trainingresult=y_wtest['WFinalScore']>y_ltest['LFinalScore']\n",
        "Trainingresult"
      ]
    },
    {
      "cell_type": "markdown",
      "metadata": {
        "id": "pI2kQIykh8b-"
      },
      "source": [
        "Applying SVM Algorithim for the class labels"
      ]
    },
    {
      "cell_type": "code",
      "execution_count": null,
      "metadata": {
        "id": "ip9_Vz7liEX6"
      },
      "outputs": [],
      "source": [
        "#@title Prediction for WFinalScore Class Label { form-width: \"20%\" }\n",
        "from sklearn.svm import SVC, LinearSVC\n",
        "from sklearn import svm\n",
        "svmclf = svm.SVC(gamma='scale') # support vector machine\n",
        "svmclf.fit(x_wtrain,y_wtrain)\n",
        "svmw_predicted=logistic.predict(x_wtest)"
      ]
    },
    {
      "cell_type": "markdown",
      "metadata": {
        "id": "SNc_0ggQ3Ns4"
      },
      "source": [
        "I dont know why it is stopping here\n",
        "\n",
        "when running the below code it is running with out stop so i stopped this algorithim"
      ]
    },
    {
      "cell_type": "code",
      "execution_count": null,
      "metadata": {
        "colab": {
          "base_uri": "https://localhost:8080/"
        },
        "id": "_tMI3fhF3Cwh",
        "outputId": "42457255-c434-426b-c40f-a82a5d4aff03"
      },
      "outputs": [
        {
          "name": "stderr",
          "output_type": "stream",
          "text": [
            "/usr/local/lib/python3.6/dist-packages/sklearn/utils/validation.py:760: DataConversionWarning: A column-vector y was passed when a 1d array was expected. Please change the shape of y to (n_samples, ), for example using ravel().\n",
            "  y = column_or_1d(y, warn=True)\n"
          ]
        }
      ],
      "source": [
        "#@title Prediction for WFinalScore Class Label { form-width: \"20%\" }\n",
        "from sklearn.svm import SVC, LinearSVC\n",
        "from sklearn import svm\n",
        "svmclf = svm.SVC(gamma='scale') # support vector machine\n",
        "svmclf.fit(x_ltrain,y_ltrain)\n",
        "svml_predicted=logistic.predict(x_ltest)"
      ]
    },
    {
      "cell_type": "code",
      "execution_count": null,
      "metadata": {
        "colab": {
          "base_uri": "https://localhost:8080/"
        },
        "id": "druVSnEijBvP",
        "outputId": "7420d802-aaa9-4ed5-b2a2-0f12cd06521b"
      },
      "outputs": [
        {
          "name": "stdout",
          "output_type": "stream",
          "text": [
            "[64 94 64 ... 94 94 94]\n",
            "[64 94 64 ... 94 94 94]\n"
          ]
        }
      ],
      "source": [
        "testingresult=svmw_predicted>svml_predicted\n",
        "print(svml_predicted)\n",
        "print(svmw_predicted)"
      ]
    },
    {
      "cell_type": "code",
      "execution_count": null,
      "metadata": {
        "colab": {
          "base_uri": "https://localhost:8080/"
        },
        "id": "ldTmDsDfQTOE",
        "outputId": "518dfcdc-df50-49de-a926-56810e88bd6e"
      },
      "outputs": [
        {
          "name": "stdout",
          "output_type": "stream",
          "text": [
            "Support Vector Machine model accuracy(in %): 0.0\n"
          ]
        }
      ],
      "source": [
        "#@title Prediction result Accuracy { form-width: \"20%\" }\n",
        "print(\"Support Vector Machine model accuracy(in %):\", metrics.accuracy_score(Trainingresult, testingresult)*100)"
      ]
    },
    {
      "cell_type": "markdown",
      "metadata": {
        "id": "B1XYG7R17UHE"
      },
      "source": [
        "# ***6.Decession Tree***"
      ]
    },
    {
      "cell_type": "code",
      "execution_count": null,
      "metadata": {
        "id": "p9UqBfl77Y-S"
      },
      "outputs": [],
      "source": [
        "from sklearn.tree import DecisionTreeClassifier\n",
        "from sklearn.metrics import confusion_matrix\n"
      ]
    },
    {
      "cell_type": "code",
      "execution_count": null,
      "metadata": {
        "colab": {
          "base_uri": "https://localhost:8080/"
        },
        "id": "4T5-CEFb7sQ6",
        "outputId": "03e97d04-5ea6-45d6-f558-f498f6fb5af3"
      },
      "outputs": [
        {
          "data": {
            "text/plain": [
              "(11797, 10)"
            ]
          },
          "execution_count": 137,
          "metadata": {
            "tags": []
          },
          "output_type": "execute_result"
        }
      ],
      "source": [
        "dataml6=final_data\n",
        "dataml6.shape"
      ]
    },
    {
      "cell_type": "code",
      "execution_count": null,
      "metadata": {
        "colab": {
          "base_uri": "https://localhost:8080/"
        },
        "id": "8NwuVA8W7sQ8",
        "outputId": "d6d207df-89f8-4bf4-e7de-bd868d3b8278"
      },
      "outputs": [
        {
          "data": {
            "text/plain": [
              "Index(['Season', 'DayNum', 'WTeamID', 'LTeamID', 'WFinalScore', 'LFinalScore',\n",
              "       'ElapsedSeconds', 'EventTeamID', 'EventPlayerID', 'EventType'],\n",
              "      dtype='object')"
            ]
          },
          "execution_count": 138,
          "metadata": {
            "tags": []
          },
          "output_type": "execute_result"
        }
      ],
      "source": [
        "final_data.columns"
      ]
    },
    {
      "cell_type": "code",
      "execution_count": null,
      "metadata": {
        "id": "Db6kyLWA7sQ9"
      },
      "outputs": [],
      "source": [
        "#@title dividing Data for WFinal Score { form-width: \"20%\" }\n",
        "dataw_y1=final_data[['WFinalScore']]\n",
        "# dataw_y1\n",
        "dataw_x1=final_data[['Season','DayNum','WTeamID','LTeamID','ElapsedSeconds']]\n",
        "# dataw_x1"
      ]
    },
    {
      "cell_type": "code",
      "execution_count": null,
      "metadata": {
        "id": "8TLeSpZB7sQ-"
      },
      "outputs": [],
      "source": [
        "x_wtrain,x_wtest,y_wtrain,y_wtest=train_test_split(dataw_x1,dataw_y1,test_size=0.2,random_state=0)\n",
        "# print(x_wtrain)\n",
        "# print(x_wtest)\n",
        "# print(y_wtrain)\n",
        "# print(y_wtest)"
      ]
    },
    {
      "cell_type": "code",
      "execution_count": null,
      "metadata": {
        "id": "cBCPcsoQ7sQ-"
      },
      "outputs": [],
      "source": [
        "#@title dividing Data for LFinal Score { form-width: \"20%\" }\n",
        "datal_y1=final_data[['LFinalScore']]\n",
        "# datal_y1\n",
        "datal_x1=final_data[['Season','DayNum','WTeamID','LTeamID','ElapsedSeconds']]\n",
        "# datal_x1"
      ]
    },
    {
      "cell_type": "code",
      "execution_count": null,
      "metadata": {
        "colab": {
          "base_uri": "https://localhost:8080/"
        },
        "id": "EeKjUv-p7sQ_",
        "outputId": "77acd941-ca0e-4268-85f1-7123c2165bf4"
      },
      "outputs": [
        {
          "name": "stdout",
          "output_type": "stream",
          "text": [
            "         Season  DayNum  WTeamID  LTeamID  ElapsedSeconds\n",
            "2671000       5     137     1332     1458              36\n",
            "799185        1      48     1209     1379              25\n",
            "390917        1      25     1458     1328              16\n",
            "232284        4      19     1403     1130              23\n",
            "2610967       3     138     1196     1438              14\n",
            "...         ...     ...      ...      ...             ...\n",
            "287800        2      21     1451     1141              18\n",
            "1629108       1      89     1313     1214              16\n",
            "920361        4      53     1305     1356              26\n",
            "398112        5      18     1296     1331              20\n",
            "1348947       1      75     1453     1178              27\n",
            "\n",
            "[9437 rows x 5 columns]\n",
            "         Season  DayNum  WTeamID  LTeamID  ElapsedSeconds\n",
            "434096        5      19     1317     1389              18\n",
            "796366        1      48     1136     1176              16\n",
            "293445        3      22     1102     1391              12\n",
            "1046800       1      62     1442     1303              30\n",
            "134704        2      15     1303     1282              25\n",
            "...         ...     ...      ...      ...             ...\n",
            "592539        3      33     1422     1251              14\n",
            "2601815       3     136     1458     1439              16\n",
            "688191        5      33     1160     1227             406\n",
            "1391792       1      79     1296     1103              25\n",
            "1644283       1      89     1384     1192              17\n",
            "\n",
            "[2360 rows x 5 columns]\n",
            "         LFinalScore\n",
            "2671000           54\n",
            "799185            55\n",
            "390917            56\n",
            "232284            64\n",
            "2610967           39\n",
            "...              ...\n",
            "287800            60\n",
            "1629108           60\n",
            "920361            64\n",
            "398112            66\n",
            "1348947           64\n",
            "\n",
            "[9437 rows x 1 columns]\n",
            "         LFinalScore\n",
            "434096            66\n",
            "796366            46\n",
            "293445            72\n",
            "1046800           78\n",
            "134704            89\n",
            "...              ...\n",
            "592539            65\n",
            "2601815           74\n",
            "688191            72\n",
            "1391792           61\n",
            "1644283           63\n",
            "\n",
            "[2360 rows x 1 columns]\n"
          ]
        }
      ],
      "source": [
        "x_ltrain,x_ltest,y_ltrain,y_ltest=train_test_split(datal_x1,datal_y1,test_size=0.2,random_state=0)\n",
        "print(x_ltrain)\n",
        "print(x_ltest)\n",
        "print(y_ltrain)\n",
        "print(y_ltest)"
      ]
    },
    {
      "cell_type": "code",
      "execution_count": null,
      "metadata": {
        "id": "jDqly9hj7sQ_"
      },
      "outputs": [],
      "source": [
        "#@title Calculated win or loose in the form of true or false for test data { form-width: \"20%\" }\n",
        "Trainingresult=y_wtest['WFinalScore']>y_ltest['LFinalScore']\n",
        "Trainingresult"
      ]
    },
    {
      "cell_type": "code",
      "execution_count": null,
      "metadata": {
        "id": "8VVgnEMz7b8x"
      },
      "outputs": [],
      "source": [
        "decisiontree = DecisionTreeClassifier(random_state=42) # decision tree\n",
        "decisiontree.fit(x_wtrain, y_wtrain)\n",
        "decisiontreew_predicted = decisiontree.predict(x_wtest)\n",
        "# print('Training Score:',decisiontree.score(x_wtrain, y_wtrain))\n",
        "# print('Test Score:',decisiontree.score(x_wtest, y_wtest))\n",
        "# print('Accuracy:',accuracy_score(y_wtest, decisiontreew_predicted)*100)\n",
        "# print('Confusion Matrix: \\n',confusion_matrix(y_wtest,decisiontreew_predicted))"
      ]
    },
    {
      "cell_type": "code",
      "execution_count": null,
      "metadata": {
        "colab": {
          "base_uri": "https://localhost:8080/"
        },
        "id": "bb_k3M0n87B4",
        "outputId": "698a9527-a8e3-4396-dc75-ee600147a277"
      },
      "outputs": [
        {
          "data": {
            "text/plain": [
              "array([85, 82, 87, ..., 65, 83, 84])"
            ]
          },
          "execution_count": 149,
          "metadata": {
            "tags": []
          },
          "output_type": "execute_result"
        }
      ],
      "source": [
        "decisiontreew_predicted"
      ]
    },
    {
      "cell_type": "code",
      "execution_count": null,
      "metadata": {
        "id": "k9Wi47J99FuQ"
      },
      "outputs": [],
      "source": [
        "decisiontree = DecisionTreeClassifier(random_state=42) # decision tree\n",
        "decisiontree.fit(x_ltrain, y_ltrain)\n",
        "decisiontreel_predicted = decisiontree.predict(x_ltest)"
      ]
    },
    {
      "cell_type": "code",
      "execution_count": null,
      "metadata": {
        "colab": {
          "base_uri": "https://localhost:8080/"
        },
        "id": "rkLntaVv9KBd",
        "outputId": "fb306613-dfa2-4f7a-cd63-98c5694b6ae6"
      },
      "outputs": [
        {
          "data": {
            "text/plain": [
              "array([78, 77, 70, ..., 63, 53, 70])"
            ]
          },
          "execution_count": 151,
          "metadata": {
            "tags": []
          },
          "output_type": "execute_result"
        }
      ],
      "source": [
        "decisiontreel_predicted"
      ]
    },
    {
      "cell_type": "code",
      "execution_count": null,
      "metadata": {
        "colab": {
          "base_uri": "https://localhost:8080/"
        },
        "id": "WndDzarJ9X2i",
        "outputId": "4beca37f-caa8-4656-b935-0af3298fbdc2"
      },
      "outputs": [
        {
          "data": {
            "text/plain": [
              "array([ True,  True,  True, ...,  True,  True,  True])"
            ]
          },
          "execution_count": 152,
          "metadata": {
            "tags": []
          },
          "output_type": "execute_result"
        }
      ],
      "source": [
        "testingresult=decisiontreew_predicted>decisiontreel_predicted\n",
        "testingresult"
      ]
    },
    {
      "cell_type": "markdown",
      "metadata": {
        "id": "ZMnk9gj9AUIp"
      },
      "source": [
        "Here i have checked in another by removing EventId also then i got better accuracy than before prediction\n",
        "\n",
        "before prediction got 79.31 but after removing the EventId column from training the system got more accuracy 80.38% after removing outliers 80.16%is the accuracy"
      ]
    },
    {
      "cell_type": "code",
      "execution_count": null,
      "metadata": {
        "colab": {
          "base_uri": "https://localhost:8080/"
        },
        "id": "Up9LZ18V9iDr",
        "outputId": "e18c1c46-78d5-4add-e199-6583d75e3b60"
      },
      "outputs": [
        {
          "name": "stdout",
          "output_type": "stream",
          "text": [
            "Accuracy: 80.16949152542374\n"
          ]
        }
      ],
      "source": [
        "#@title Prediction Result Accuracy 80.16 { form-width: \"20%\" }\n",
        "print('Accuracy:',accuracy_score(Trainingresult,testingresult)*100)"
      ]
    },
    {
      "cell_type": "markdown",
      "metadata": {
        "id": "mZv6MyIq_osu"
      },
      "source": [
        "# ***7.Logistic Regression***"
      ]
    },
    {
      "cell_type": "code",
      "execution_count": null,
      "metadata": {
        "id": "6azVeqPV_osu"
      },
      "outputs": [],
      "source": [
        "from sklearn.linear_model import LogisticRegression\n",
        "from sklearn.metrics import confusion_matrix\n"
      ]
    },
    {
      "cell_type": "code",
      "execution_count": null,
      "metadata": {
        "colab": {
          "base_uri": "https://localhost:8080/"
        },
        "id": "GLIc2kVm_osv",
        "outputId": "ed4e254b-c27f-48e2-f39a-48c229aee6bd"
      },
      "outputs": [
        {
          "data": {
            "text/plain": [
              "(11797, 10)"
            ]
          },
          "execution_count": 155,
          "metadata": {
            "tags": []
          },
          "output_type": "execute_result"
        }
      ],
      "source": [
        "dataml7=final_data\n",
        "dataml7.shape"
      ]
    },
    {
      "cell_type": "code",
      "execution_count": null,
      "metadata": {
        "colab": {
          "base_uri": "https://localhost:8080/"
        },
        "id": "mec8TUVQ_osy",
        "outputId": "a91445f9-47ee-4b15-b61b-7ae070d23aeb"
      },
      "outputs": [
        {
          "data": {
            "text/plain": [
              "Index(['Season', 'DayNum', 'WTeamID', 'LTeamID', 'WFinalScore', 'LFinalScore',\n",
              "       'ElapsedSeconds', 'EventTeamID', 'EventPlayerID', 'EventType'],\n",
              "      dtype='object')"
            ]
          },
          "execution_count": 156,
          "metadata": {
            "tags": []
          },
          "output_type": "execute_result"
        }
      ],
      "source": [
        "final_data.columns"
      ]
    },
    {
      "cell_type": "code",
      "execution_count": null,
      "metadata": {
        "id": "aPAuIWOX_osz"
      },
      "outputs": [],
      "source": [
        "#@title dividing Data for WFinal Score { form-width: \"20%\" }\n",
        "dataw_y1=final_data[['WFinalScore']]\n",
        "# dataw_y1\n",
        "dataw_x1=final_data[['Season','DayNum','WTeamID','LTeamID','ElapsedSeconds']]\n",
        "# dataw_x1"
      ]
    },
    {
      "cell_type": "code",
      "execution_count": null,
      "metadata": {
        "id": "K_w4nm9O_os0"
      },
      "outputs": [],
      "source": [
        "x_wtrain,x_wtest,y_wtrain,y_wtest=train_test_split(dataw_x1,dataw_y1,test_size=0.2,random_state=0)\n",
        "# print(x_wtrain)\n",
        "# print(x_wtest)\n",
        "# print(y_wtrain)\n",
        "# print(y_wtest)"
      ]
    },
    {
      "cell_type": "code",
      "execution_count": null,
      "metadata": {
        "id": "Vz7C4Gqp_os1"
      },
      "outputs": [],
      "source": [
        "#@title dividing Data for LFinal Score { form-width: \"20%\" }\n",
        "datal_y1=final_data[['LFinalScore']]\n",
        "# datal_y1\n",
        "datal_x1=final_data[['Season','DayNum','WTeamID','LTeamID','ElapsedSeconds']]\n",
        "# datal_x1"
      ]
    },
    {
      "cell_type": "code",
      "execution_count": null,
      "metadata": {
        "colab": {
          "base_uri": "https://localhost:8080/"
        },
        "id": "2f8Tgt9o_os1",
        "outputId": "4aab46da-ddd1-4880-bf05-69c6361525dd"
      },
      "outputs": [
        {
          "name": "stdout",
          "output_type": "stream",
          "text": [
            "         Season  DayNum  WTeamID  LTeamID  ElapsedSeconds\n",
            "2671000       5     137     1332     1458              36\n",
            "799185        1      48     1209     1379              25\n",
            "390917        1      25     1458     1328              16\n",
            "232284        4      19     1403     1130              23\n",
            "2610967       3     138     1196     1438              14\n",
            "...         ...     ...      ...      ...             ...\n",
            "287800        2      21     1451     1141              18\n",
            "1629108       1      89     1313     1214              16\n",
            "920361        4      53     1305     1356              26\n",
            "398112        5      18     1296     1331              20\n",
            "1348947       1      75     1453     1178              27\n",
            "\n",
            "[9437 rows x 5 columns]\n",
            "         Season  DayNum  WTeamID  LTeamID  ElapsedSeconds\n",
            "434096        5      19     1317     1389              18\n",
            "796366        1      48     1136     1176              16\n",
            "293445        3      22     1102     1391              12\n",
            "1046800       1      62     1442     1303              30\n",
            "134704        2      15     1303     1282              25\n",
            "...         ...     ...      ...      ...             ...\n",
            "592539        3      33     1422     1251              14\n",
            "2601815       3     136     1458     1439              16\n",
            "688191        5      33     1160     1227             406\n",
            "1391792       1      79     1296     1103              25\n",
            "1644283       1      89     1384     1192              17\n",
            "\n",
            "[2360 rows x 5 columns]\n",
            "         LFinalScore\n",
            "2671000           54\n",
            "799185            55\n",
            "390917            56\n",
            "232284            64\n",
            "2610967           39\n",
            "...              ...\n",
            "287800            60\n",
            "1629108           60\n",
            "920361            64\n",
            "398112            66\n",
            "1348947           64\n",
            "\n",
            "[9437 rows x 1 columns]\n",
            "         LFinalScore\n",
            "434096            66\n",
            "796366            46\n",
            "293445            72\n",
            "1046800           78\n",
            "134704            89\n",
            "...              ...\n",
            "592539            65\n",
            "2601815           74\n",
            "688191            72\n",
            "1391792           61\n",
            "1644283           63\n",
            "\n",
            "[2360 rows x 1 columns]\n"
          ]
        }
      ],
      "source": [
        "x_ltrain,x_ltest,y_ltrain,y_ltest=train_test_split(datal_x1,datal_y1,test_size=0.2,random_state=0)\n",
        "print(x_ltrain)\n",
        "print(x_ltest)\n",
        "print(y_ltrain)\n",
        "print(y_ltest)"
      ]
    },
    {
      "cell_type": "code",
      "execution_count": null,
      "metadata": {
        "id": "cTkmvHcj_os2"
      },
      "outputs": [],
      "source": [
        "#@title Calculated win or loose in the form of true or false for test data { form-width: \"20%\" }\n",
        "Trainingresult=y_wtest['WFinalScore']>y_ltest['LFinalScore']\n",
        "Trainingresult"
      ]
    },
    {
      "cell_type": "code",
      "execution_count": null,
      "metadata": {
        "colab": {
          "base_uri": "https://localhost:8080/"
        },
        "id": "CI6SGPOC_os2",
        "outputId": "6d038dc9-e4a9-4524-da3d-812459c38562"
      },
      "outputs": [
        {
          "name": "stderr",
          "output_type": "stream",
          "text": [
            "/usr/local/lib/python3.6/dist-packages/sklearn/utils/validation.py:760: DataConversionWarning: A column-vector y was passed when a 1d array was expected. Please change the shape of y to (n_samples, ), for example using ravel().\n",
            "  y = column_or_1d(y, warn=True)\n",
            "/usr/local/lib/python3.6/dist-packages/sklearn/linear_model/_logistic.py:940: ConvergenceWarning: lbfgs failed to converge (status=1):\n",
            "STOP: TOTAL NO. of ITERATIONS REACHED LIMIT.\n",
            "\n",
            "Increase the number of iterations (max_iter) or scale the data as shown in:\n",
            "    https://scikit-learn.org/stable/modules/preprocessing.html\n",
            "Please also refer to the documentation for alternative solver options:\n",
            "    https://scikit-learn.org/stable/modules/linear_model.html#logistic-regression\n",
            "  extra_warning_msg=_LOGISTIC_SOLVER_CONVERGENCE_MSG)\n"
          ]
        }
      ],
      "source": [
        "logistic=LogisticRegression() #logistic regression\n",
        "logistic.fit(x_wtrain,y_wtrain)\n",
        "logisw_predicted=logistic.predict(x_wtest)\n",
        "# print('Training Score:',logistic.score(x_wtrain, y_wtrain))\n",
        "# print('Testing Score:',logistic.score(x_wtest, y_wtest))\n",
        "# print('Accuracy:',accuracy_score(y_wtest,logispredicted)*100)\n",
        "# print('Confusion Matrix: \\n', confusion_matrix(y_wtest,logispredicted))"
      ]
    },
    {
      "cell_type": "code",
      "execution_count": null,
      "metadata": {
        "colab": {
          "base_uri": "https://localhost:8080/"
        },
        "id": "j58FiV59_os3",
        "outputId": "93c23626-134b-4a7c-c75a-f1938ff55694"
      },
      "outputs": [
        {
          "data": {
            "text/plain": [
              "array([77, 71, 71, ..., 73, 75, 75])"
            ]
          },
          "execution_count": 215,
          "metadata": {
            "tags": []
          },
          "output_type": "execute_result"
        }
      ],
      "source": [
        "logisw_predicted"
      ]
    },
    {
      "cell_type": "code",
      "execution_count": null,
      "metadata": {
        "colab": {
          "base_uri": "https://localhost:8080/"
        },
        "id": "xClH99M7_os3",
        "outputId": "6b9f93c8-29f8-48c2-e055-8a2b73293186"
      },
      "outputs": [
        {
          "name": "stderr",
          "output_type": "stream",
          "text": [
            "/usr/local/lib/python3.6/dist-packages/sklearn/utils/validation.py:760: DataConversionWarning: A column-vector y was passed when a 1d array was expected. Please change the shape of y to (n_samples, ), for example using ravel().\n",
            "  y = column_or_1d(y, warn=True)\n",
            "/usr/local/lib/python3.6/dist-packages/sklearn/linear_model/_logistic.py:940: ConvergenceWarning: lbfgs failed to converge (status=1):\n",
            "STOP: TOTAL NO. of ITERATIONS REACHED LIMIT.\n",
            "\n",
            "Increase the number of iterations (max_iter) or scale the data as shown in:\n",
            "    https://scikit-learn.org/stable/modules/preprocessing.html\n",
            "Please also refer to the documentation for alternative solver options:\n",
            "    https://scikit-learn.org/stable/modules/linear_model.html#logistic-regression\n",
            "  extra_warning_msg=_LOGISTIC_SOLVER_CONVERGENCE_MSG)\n"
          ]
        }
      ],
      "source": [
        "logistic=LogisticRegression() #logistic regression\n",
        "logistic.fit(x_ltrain,y_ltrain)\n",
        "logisl_predicted=logistic.predict(x_wtest)"
      ]
    },
    {
      "cell_type": "code",
      "execution_count": null,
      "metadata": {
        "colab": {
          "base_uri": "https://localhost:8080/"
        },
        "id": "trdrRbV0_os3",
        "outputId": "701c61a4-bb02-4b14-b656-033268321033"
      },
      "outputs": [
        {
          "data": {
            "text/plain": [
              "array([63, 63, 63, ..., 67, 65, 65])"
            ]
          },
          "execution_count": 217,
          "metadata": {
            "tags": []
          },
          "output_type": "execute_result"
        }
      ],
      "source": [
        "logisl_predicted"
      ]
    },
    {
      "cell_type": "code",
      "execution_count": null,
      "metadata": {
        "colab": {
          "base_uri": "https://localhost:8080/"
        },
        "id": "hJA460Go_os4",
        "outputId": "ef0af3ed-a62a-49dc-8a4b-8156b78acd7f"
      },
      "outputs": [
        {
          "data": {
            "text/plain": [
              "array([ True,  True,  True, ...,  True,  True,  True])"
            ]
          },
          "execution_count": 218,
          "metadata": {
            "tags": []
          },
          "output_type": "execute_result"
        }
      ],
      "source": [
        "testingresult=logisw_predicted>logisl_predicted\n",
        "testingresult"
      ]
    },
    {
      "cell_type": "markdown",
      "metadata": {
        "id": "fg1hO_SFIb7B"
      },
      "source": [
        "By removing the Event Id i got 98.7% accurate results for testing but after removing the session it is 88% only and by keeping both event subtype and event type the predictions are very less got 69.52"
      ]
    },
    {
      "cell_type": "code",
      "execution_count": null,
      "metadata": {
        "colab": {
          "base_uri": "https://localhost:8080/"
        },
        "id": "pgeMMtZtDWWA",
        "outputId": "1d0a41d5-faa7-4c69-bba8-b8a0aa85ac88"
      },
      "outputs": [
        {
          "name": "stdout",
          "output_type": "stream",
          "text": [
            "Accuracy: 98.72881355932203\n"
          ]
        }
      ],
      "source": [
        "#@title Prediction Result Accuracy 98.7 { form-width: \"20%\" }\n",
        "print('Accuracy:',accuracy_score(Trainingresult,testingresult)*100)"
      ]
    }
  ],
  "metadata": {
    "colab": {
      "collapsed_sections": [],
      "include_colab_link": true,
      "name": "NCAA Basket Ball Prediction Project.ipynb",
      "provenance": [],
      "toc_visible": true
    },
    "kernelspec": {
      "display_name": "Python 3",
      "name": "python3"
    }
  },
  "nbformat": 4,
  "nbformat_minor": 0
}
